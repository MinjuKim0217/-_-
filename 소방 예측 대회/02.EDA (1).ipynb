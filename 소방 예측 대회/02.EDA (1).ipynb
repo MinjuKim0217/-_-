{
 "cells": [
  {
   "cell_type": "code",
   "execution_count": 1,
   "metadata": {},
   "outputs": [],
   "source": [
    "# library 로딩하기\n",
    "import numpy as np\n",
    "import pandas as pd\n",
    "import seaborn as sns\n",
    "import matplotlib.pyplot as plt"
   ]
  },
  {
   "cell_type": "code",
   "execution_count": 28,
   "metadata": {},
   "outputs": [],
   "source": [
    "# 외부데이터 읽어오기\n",
    "# 예제데이터 : seaborn에서 제공하는 diamonds\n",
    "diamonds = pd.read_csv(\"구급출동.csv\")"
   ]
  },
  {
   "cell_type": "code",
   "execution_count": 29,
   "metadata": {},
   "outputs": [
    {
     "data": {
      "text/plain": [
       "GRID_ID                    int64\n",
       "GRID_X_AXIS                int64\n",
       "GRID_Y_AXIS                int64\n",
       "TIME                       int64\n",
       "YMD                        int64\n",
       "STDG_CD                    int64\n",
       "FP_IDEX                  float64\n",
       "OLD_FP_IDEX              float64\n",
       "RELIFPLC_DWL_IDEX          int64\n",
       "RELIFPLC_ROAD_IDEX         int64\n",
       "RELIFPLC_INDUST_IDEX       int64\n",
       "RELIFPLC_NTR_IDEX          int64\n",
       "RELIFPLC_ETC_IDEX          int64\n",
       "DSP_CNT_IDEX               int64\n",
       "DISEASE_DSP_IDEX           int64\n",
       "DISEASE_EXCL_DSP_IDEX      int64\n",
       "dtype: object"
      ]
     },
     "execution_count": 29,
     "metadata": {},
     "output_type": "execute_result"
    }
   ],
   "source": [
    "# 참고\n",
    "# 자료의 종류 (통계적 관점)\n",
    "# 질적 자료 = 범주형 자료 : 글자, 숫자\n",
    "# 양적 자료 = 수치형 자료 : 숫자\n",
    "diamonds.dtypes"
   ]
  },
  {
   "cell_type": "markdown",
   "metadata": {},
   "source": [
    "### 1. 일변량 (Uni-variate) 질적 자료 (범주형 자료)의 분석"
   ]
  },
  {
   "cell_type": "code",
   "execution_count": 30,
   "metadata": {},
   "outputs": [],
   "source": [
    "# 1.1 표 = 빈도표 (Frequency Table)\n",
    "# (1) 빈도 (Frequency)\n",
    "# (2) 백분율 (Percent)"
   ]
  },
  {
   "cell_type": "code",
   "execution_count": 31,
   "metadata": {},
   "outputs": [
    {
     "ename": "AttributeError",
     "evalue": "'DataFrame' object has no attribute 'cut'",
     "output_type": "error",
     "traceback": [
      "\u001b[1;31m---------------------------------------------------------------------------\u001b[0m",
      "\u001b[1;31mAttributeError\u001b[0m                            Traceback (most recent call last)",
      "\u001b[1;32m<ipython-input-31-635b8f8baa20>\u001b[0m in \u001b[0;36m<module>\u001b[1;34m\u001b[0m\n\u001b[0;32m      1\u001b[0m \u001b[1;31m# 빈도\u001b[0m\u001b[1;33m\u001b[0m\u001b[1;33m\u001b[0m\u001b[1;33m\u001b[0m\u001b[0m\n\u001b[0;32m      2\u001b[0m \u001b[1;31m# data.variable_name.value_counts (ascending = True or False)\u001b[0m\u001b[1;33m\u001b[0m\u001b[1;33m\u001b[0m\u001b[1;33m\u001b[0m\u001b[0m\n\u001b[1;32m----> 3\u001b[1;33m \u001b[0mdiamonds\u001b[0m\u001b[1;33m.\u001b[0m\u001b[0mcut\u001b[0m\u001b[1;33m.\u001b[0m\u001b[0mvalue_counts\u001b[0m \u001b[1;33m(\u001b[0m\u001b[0mascending\u001b[0m \u001b[1;33m=\u001b[0m \u001b[1;32mTrue\u001b[0m\u001b[1;33m)\u001b[0m\u001b[1;33m\u001b[0m\u001b[1;33m\u001b[0m\u001b[0m\n\u001b[0m",
      "\u001b[1;32mC:\\ProgramData\\Anaconda3\\lib\\site-packages\\pandas\\core\\generic.py\u001b[0m in \u001b[0;36m__getattr__\u001b[1;34m(self, name)\u001b[0m\n\u001b[0;32m   5137\u001b[0m             \u001b[1;32mif\u001b[0m \u001b[0mself\u001b[0m\u001b[1;33m.\u001b[0m\u001b[0m_info_axis\u001b[0m\u001b[1;33m.\u001b[0m\u001b[0m_can_hold_identifiers_and_holds_name\u001b[0m\u001b[1;33m(\u001b[0m\u001b[0mname\u001b[0m\u001b[1;33m)\u001b[0m\u001b[1;33m:\u001b[0m\u001b[1;33m\u001b[0m\u001b[1;33m\u001b[0m\u001b[0m\n\u001b[0;32m   5138\u001b[0m                 \u001b[1;32mreturn\u001b[0m \u001b[0mself\u001b[0m\u001b[1;33m[\u001b[0m\u001b[0mname\u001b[0m\u001b[1;33m]\u001b[0m\u001b[1;33m\u001b[0m\u001b[1;33m\u001b[0m\u001b[0m\n\u001b[1;32m-> 5139\u001b[1;33m             \u001b[1;32mreturn\u001b[0m \u001b[0mobject\u001b[0m\u001b[1;33m.\u001b[0m\u001b[0m__getattribute__\u001b[0m\u001b[1;33m(\u001b[0m\u001b[0mself\u001b[0m\u001b[1;33m,\u001b[0m \u001b[0mname\u001b[0m\u001b[1;33m)\u001b[0m\u001b[1;33m\u001b[0m\u001b[1;33m\u001b[0m\u001b[0m\n\u001b[0m\u001b[0;32m   5140\u001b[0m \u001b[1;33m\u001b[0m\u001b[0m\n\u001b[0;32m   5141\u001b[0m     \u001b[1;32mdef\u001b[0m \u001b[0m__setattr__\u001b[0m\u001b[1;33m(\u001b[0m\u001b[0mself\u001b[0m\u001b[1;33m,\u001b[0m \u001b[0mname\u001b[0m\u001b[1;33m:\u001b[0m \u001b[0mstr\u001b[0m\u001b[1;33m,\u001b[0m \u001b[0mvalue\u001b[0m\u001b[1;33m)\u001b[0m \u001b[1;33m->\u001b[0m \u001b[1;32mNone\u001b[0m\u001b[1;33m:\u001b[0m\u001b[1;33m\u001b[0m\u001b[1;33m\u001b[0m\u001b[0m\n",
      "\u001b[1;31mAttributeError\u001b[0m: 'DataFrame' object has no attribute 'cut'"
     ]
    }
   ],
   "source": [
    "# 빈도 \n",
    "# data.variable_name.value_counts (ascending = True or False)\n",
    "diamonds.cut.value_counts (ascending = True)"
   ]
  },
  {
   "cell_type": "code",
   "execution_count": 32,
   "metadata": {},
   "outputs": [
    {
     "ename": "AttributeError",
     "evalue": "'DataFrame' object has no attribute 'cut'",
     "output_type": "error",
     "traceback": [
      "\u001b[1;31m---------------------------------------------------------------------------\u001b[0m",
      "\u001b[1;31mAttributeError\u001b[0m                            Traceback (most recent call last)",
      "\u001b[1;32m<ipython-input-32-1280e410d3b7>\u001b[0m in \u001b[0;36m<module>\u001b[1;34m\u001b[0m\n\u001b[0;32m      2\u001b[0m \u001b[1;31m# data.variable_name.value_counts (normlize = True,\u001b[0m\u001b[1;33m\u001b[0m\u001b[1;33m\u001b[0m\u001b[1;33m\u001b[0m\u001b[0m\n\u001b[0;32m      3\u001b[0m \u001b[1;31m#                                  ascending = True or False) * 100\u001b[0m\u001b[1;33m\u001b[0m\u001b[1;33m\u001b[0m\u001b[1;33m\u001b[0m\u001b[0m\n\u001b[1;32m----> 4\u001b[1;33m round(diamonds.cut.value_counts (normalize = True,\n\u001b[0m\u001b[0;32m      5\u001b[0m                            ascending = False) * 100, ndigits = 1)   \n",
      "\u001b[1;32mC:\\ProgramData\\Anaconda3\\lib\\site-packages\\pandas\\core\\generic.py\u001b[0m in \u001b[0;36m__getattr__\u001b[1;34m(self, name)\u001b[0m\n\u001b[0;32m   5137\u001b[0m             \u001b[1;32mif\u001b[0m \u001b[0mself\u001b[0m\u001b[1;33m.\u001b[0m\u001b[0m_info_axis\u001b[0m\u001b[1;33m.\u001b[0m\u001b[0m_can_hold_identifiers_and_holds_name\u001b[0m\u001b[1;33m(\u001b[0m\u001b[0mname\u001b[0m\u001b[1;33m)\u001b[0m\u001b[1;33m:\u001b[0m\u001b[1;33m\u001b[0m\u001b[1;33m\u001b[0m\u001b[0m\n\u001b[0;32m   5138\u001b[0m                 \u001b[1;32mreturn\u001b[0m \u001b[0mself\u001b[0m\u001b[1;33m[\u001b[0m\u001b[0mname\u001b[0m\u001b[1;33m]\u001b[0m\u001b[1;33m\u001b[0m\u001b[1;33m\u001b[0m\u001b[0m\n\u001b[1;32m-> 5139\u001b[1;33m             \u001b[1;32mreturn\u001b[0m \u001b[0mobject\u001b[0m\u001b[1;33m.\u001b[0m\u001b[0m__getattribute__\u001b[0m\u001b[1;33m(\u001b[0m\u001b[0mself\u001b[0m\u001b[1;33m,\u001b[0m \u001b[0mname\u001b[0m\u001b[1;33m)\u001b[0m\u001b[1;33m\u001b[0m\u001b[1;33m\u001b[0m\u001b[0m\n\u001b[0m\u001b[0;32m   5140\u001b[0m \u001b[1;33m\u001b[0m\u001b[0m\n\u001b[0;32m   5141\u001b[0m     \u001b[1;32mdef\u001b[0m \u001b[0m__setattr__\u001b[0m\u001b[1;33m(\u001b[0m\u001b[0mself\u001b[0m\u001b[1;33m,\u001b[0m \u001b[0mname\u001b[0m\u001b[1;33m:\u001b[0m \u001b[0mstr\u001b[0m\u001b[1;33m,\u001b[0m \u001b[0mvalue\u001b[0m\u001b[1;33m)\u001b[0m \u001b[1;33m->\u001b[0m \u001b[1;32mNone\u001b[0m\u001b[1;33m:\u001b[0m\u001b[1;33m\u001b[0m\u001b[1;33m\u001b[0m\u001b[0m\n",
      "\u001b[1;31mAttributeError\u001b[0m: 'DataFrame' object has no attribute 'cut'"
     ]
    }
   ],
   "source": [
    "# 백분율 \n",
    "# data.variable_name.value_counts (normlize = True,\n",
    "#                                  ascending = True or False) * 100\n",
    "round(diamonds.cut.value_counts (normalize = True,\n",
    "                           ascending = False) * 100, ndigits = 1)   "
   ]
  },
  {
   "cell_type": "code",
   "execution_count": 11,
   "metadata": {},
   "outputs": [],
   "source": [
    "# 1.2 그래프\n",
    "# (1) 막대그래프 (Bar Chart or Bar Plot)\n",
    "# (2) 원그래프 (Pie Chart)"
   ]
  },
  {
   "cell_type": "code",
   "execution_count": 12,
   "metadata": {},
   "outputs": [],
   "source": [
    "# 막대그래프\n",
    "# matplotlib.pyplot.bar (x = \"labels\", y = frequency or percent)\n",
    "# matplotlib.pyplot.show ()"
   ]
  },
  {
   "cell_type": "code",
   "execution_count": 8,
   "metadata": {},
   "outputs": [],
   "source": [
    "cut_frequency = diamonds.cut.value_counts (ascending = False)"
   ]
  },
  {
   "cell_type": "code",
   "execution_count": 11,
   "metadata": {},
   "outputs": [
    {
     "data": {
      "text/plain": [
       "Ideal        21551\n",
       "Premium      13791\n",
       "Very Good    12082\n",
       "Good          4906\n",
       "Fair          1610\n",
       "Name: cut, dtype: int64"
      ]
     },
     "execution_count": 11,
     "metadata": {},
     "output_type": "execute_result"
    }
   ],
   "source": [
    "cut_frequency"
   ]
  },
  {
   "cell_type": "code",
   "execution_count": 12,
   "metadata": {},
   "outputs": [
    {
     "data": {
      "text/plain": [
       "Index(['Ideal', 'Premium', 'Very Good', 'Good', 'Fair'], dtype='object')"
      ]
     },
     "execution_count": 12,
     "metadata": {},
     "output_type": "execute_result"
    }
   ],
   "source": [
    "cut_frequency.index #행의 이름"
   ]
  },
  {
   "cell_type": "code",
   "execution_count": 13,
   "metadata": {},
   "outputs": [
    {
     "data": {
      "text/plain": [
       "array([21551, 13791, 12082,  4906,  1610], dtype=int64)"
      ]
     },
     "execution_count": 13,
     "metadata": {},
     "output_type": "execute_result"
    }
   ],
   "source": [
    "cut_frequency.values # 빈도"
   ]
  },
  {
   "cell_type": "code",
   "execution_count": 28,
   "metadata": {},
   "outputs": [
    {
     "data": {
      "image/png": "[encoded data removed]",
      "text/plain": [
       "<Figure size 432x288 with 1 Axes>"
      ]
     },
     "metadata": {
      "needs_background": "light"
     },
     "output_type": "display_data"
    }
   ],
   "source": [
    "plt.bar(x      = cut_frequency.index,\n",
    "         height = cut_frequency.values,\n",
    "         color  = \"red\")\n",
    "plt.show()"
   ]
  },
  {
   "cell_type": "code",
   "execution_count": 22,
   "metadata": {},
   "outputs": [],
   "source": [
    "# 원그래프\n",
    "# matplotlib.pyplot.pie (x            = \"frequency or percent\",\n",
    "#                        Labels       = \"Labels\",\n",
    "#                        radius       =   ,\n",
    "#                        counterclock =   ,\n",
    "#                        startangle   = )\n",
    "# x : 원조각의 크기, frequency or percent\n",
    "# Labels : 원조각의 이름\n",
    "# radius : 반지름\n",
    "# counterclock : 반시계방향 or 시계방향\n",
    "# startangle : 첫번째 조각의 시작\n",
    "# matplotlib.pyplot.show ()"
   ]
  },
  {
   "cell_type": "code",
   "execution_count": 36,
   "metadata": {},
   "outputs": [
    {
     "data": {
      "image/png": "[encoded data removed]",
      "text/plain": [
       "<Figure size 432x288 with 1 Axes>"
      ]
     },
     "metadata": {},
     "output_type": "display_data"
    }
   ],
   "source": [
    "plt.pie (x      = cut_frequency.values,\n",
    "         labels = cut_frequency.index,         \n",
    "         radius = 1.5)\n",
    "plt.show()"
   ]
  },
  {
   "cell_type": "markdown",
   "metadata": {},
   "source": [
    "## 2. 일변량 양적자료 (수치형 자료) 분석"
   ]
  },
  {
   "cell_type": "code",
   "execution_count": 33,
   "metadata": {},
   "outputs": [],
   "source": [
    "# 2.1 그래프\n",
    "# (1) 히스토그램\n",
    "# (2) 상자그림"
   ]
  },
  {
   "cell_type": "code",
   "execution_count": 34,
   "metadata": {},
   "outputs": [],
   "source": [
    "# 히스토그램 (Histogram)\n",
    "# matplotlib.pyplot.hist (x = variables, bins = 구간의 정보 또는 구간의 갯수)\n",
    "# matplotlib.pyplot.show ()"
   ]
  },
  {
   "cell_type": "code",
   "execution_count": 38,
   "metadata": {},
   "outputs": [
    {
     "data": {
      "text/plain": [
       "<function matplotlib.pyplot.show(close=None, block=None)>"
      ]
     },
     "execution_count": 38,
     "metadata": {},
     "output_type": "execute_result"
    },
    {
     "data": {
      "image/png": "[encoded data removed]",
      "text/plain": [
       "<Figure size 432x288 with 1 Axes>"
      ]
     },
     "metadata": {
      "needs_background": "light"
     },
     "output_type": "display_data"
    }
   ],
   "source": [
    "plt.hist (x = diamonds.DSP_CNT_IDEX, bins = [0, 100, 200, 300])\n",
    "plt.show"
   ]
  },
  {
   "cell_type": "code",
   "execution_count": 40,
   "metadata": {},
   "outputs": [
    {
     "data": {
      "text/plain": [
       "<function matplotlib.pyplot.show(close=None, block=None)>"
      ]
     },
     "execution_count": 40,
     "metadata": {},
     "output_type": "execute_result"
    },
    {
     "data": {
      "image/png": "[encoded data removed]",
      "text/plain": [
       "<Figure size 432x288 with 1 Axes>"
      ]
     },
     "metadata": {
      "needs_background": "light"
     },
     "output_type": "display_data"
    }
   ],
   "source": [
    "plt.hist (x = diamonds.DSP_CNT_IDEX, bins = [0, 2500, 5000, 7500, 10000, 12500, 15000,17500, 20000])\n",
    "plt.show"
   ]
  },
  {
   "cell_type": "code",
   "execution_count": 41,
   "metadata": {},
   "outputs": [
    {
     "data": {
      "text/plain": [
       "<function matplotlib.pyplot.show(close=None, block=None)>"
      ]
     },
     "execution_count": 41,
     "metadata": {},
     "output_type": "execute_result"
    },
    {
     "data": {
      "image/png": "[encoded data removed]",
      "text/plain": [
       "<Figure size 432x288 with 1 Axes>"
      ]
     },
     "metadata": {
      "needs_background": "light"
     },
     "output_type": "display_data"
    }
   ],
   "source": [
    "plt.hist(x  = diamonds.DSP_CNT_IDEX)\n",
    "plt.show"
   ]
  },
  {
   "cell_type": "code",
   "execution_count": null,
   "metadata": {},
   "outputs": [],
   "source": [
    "# 상자그림 (Boxplot)\n",
    "# outlier가 있는지 확인하는 것이 주 목적\n",
    "# matplotlib.pyplot.boxplot (x    = variables, \n",
    "#                            whis = 1.5)\n",
    "# matplotlib.pyplot.show ()"
   ]
  },
  {
   "cell_type": "code",
   "execution_count": 44,
   "metadata": {},
   "outputs": [
    {
     "data": {
      "image/png": "[encoded data removed]",
      "text/plain": [
       "<Figure size 432x288 with 1 Axes>"
      ]
     },
     "metadata": {
      "needs_background": "light"
     },
     "output_type": "display_data"
    }
   ],
   "source": [
    "plt.boxplot (x = diamonds.YMD)\n",
    "plt.show()"
   ]
  },
  {
   "cell_type": "code",
   "execution_count": 46,
   "metadata": {},
   "outputs": [],
   "source": [
    "# 2.2 기술통계량 = 요약통계량\n",
    "# (1) 중심 = 대푯값 : 평균\n",
    "# (2) 퍼짐 = 산포 = 다름\n",
    "# (3) 분포의 모양"
   ]
  },
  {
   "cell_type": "code",
   "execution_count": 47,
   "metadata": {},
   "outputs": [],
   "source": [
    "# 중심 = 대표값"
   ]
  },
  {
   "cell_type": "code",
   "execution_count": 48,
   "metadata": {},
   "outputs": [
    {
     "data": {
      "text/plain": [
       "3932.799721913237"
      ]
     },
     "execution_count": 48,
     "metadata": {},
     "output_type": "execute_result"
    }
   ],
   "source": [
    "# i. 평균 (Mean)\n",
    "# numpy.mean (data.variable)\n",
    "np.mean(diamonds.price)"
   ]
  },
  {
   "cell_type": "code",
   "execution_count": 49,
   "metadata": {},
   "outputs": [
    {
     "data": {
      "text/plain": [
       "2401.0"
      ]
     },
     "execution_count": 49,
     "metadata": {},
     "output_type": "execute_result"
    }
   ],
   "source": [
    "# ii. 중위수 = 중앙값 (median)\n",
    "# numpy.median (data.variable)\n",
    "np.median(diamonds.price)"
   ]
  },
  {
   "cell_type": "code",
   "execution_count": 45,
   "metadata": {},
   "outputs": [],
   "source": [
    "import pandas as pd\n",
    "import numpy as np\n",
    "import matplotlib.pyplot as plt\n",
    "import seaborn as sns\n",
    "%matplotlib inline\n",
    "\n",
    "from collections import Counter\n",
    "\n",
    "from sklearn.ensemble import RandomForestClassifier, AdaBoostClassifier, GradientBoostingClassifier, ExtraTreesClassifier, VotingClassifier\n",
    "from sklearn.discriminant_analysis import LinearDiscriminantAnalysis\n",
    "from sklearn.linear_model import LogisticRegression\n",
    "from sklearn.neighbors import KNeighborsClassifier\n",
    "from sklearn.tree import DecisionTreeClassifier\n",
    "from sklearn.neural_network import MLPClassifier\n",
    "from sklearn.svm import SVC\n",
    "from sklearn.model_selection import GridSearchCV, cross_val_score, StratifiedKFold, learning_curve\n",
    "\n",
    "sns.set(style='white', context='notebook', palette='deep')"
   ]
  },
  {
   "cell_type": "code",
   "execution_count": 46,
   "metadata": {},
   "outputs": [],
   "source": [
    "df = pd.read_csv(\"구급출동.csv\")"
   ]
  },
  {
   "cell_type": "code",
   "execution_count": 47,
   "metadata": {},
   "outputs": [
    {
     "data": {
      "text/html": [
       "<div>\n",
       "<style scoped>\n",
       "    .dataframe tbody tr th:only-of-type {\n",
       "        vertical-align: middle;\n",
       "    }\n",
       "\n",
       "    .dataframe tbody tr th {\n",
       "        vertical-align: top;\n",
       "    }\n",
       "\n",
       "    .dataframe thead th {\n",
       "        text-align: right;\n",
       "    }\n",
       "</style>\n",
       "<table border=\"1\" class=\"dataframe\">\n",
       "  <thead>\n",
       "    <tr style=\"text-align: right;\">\n",
       "      <th></th>\n",
       "      <th>GRID_ID</th>\n",
       "      <th>GRID_X_AXIS</th>\n",
       "      <th>GRID_Y_AXIS</th>\n",
       "      <th>TIME</th>\n",
       "      <th>YMD</th>\n",
       "      <th>STDG_CD</th>\n",
       "      <th>FP_IDEX</th>\n",
       "      <th>OLD_FP_IDEX</th>\n",
       "      <th>RELIFPLC_DWL_IDEX</th>\n",
       "      <th>RELIFPLC_ROAD_IDEX</th>\n",
       "      <th>RELIFPLC_INDUST_IDEX</th>\n",
       "      <th>RELIFPLC_NTR_IDEX</th>\n",
       "      <th>RELIFPLC_ETC_IDEX</th>\n",
       "      <th>DSP_CNT_IDEX</th>\n",
       "      <th>DISEASE_DSP_IDEX</th>\n",
       "      <th>DISEASE_EXCL_DSP_IDEX</th>\n",
       "      <th>MONTH</th>\n",
       "      <th>DAY</th>\n",
       "      <th>WEEKDAY</th>\n",
       "    </tr>\n",
       "  </thead>\n",
       "  <tbody>\n",
       "    <tr>\n",
       "      <th>0</th>\n",
       "      <td>38045314</td>\n",
       "      <td>380475</td>\n",
       "      <td>531475</td>\n",
       "      <td>0</td>\n",
       "      <td>20200101</td>\n",
       "      <td>4213000000</td>\n",
       "      <td>2.88</td>\n",
       "      <td>0.72</td>\n",
       "      <td>0</td>\n",
       "      <td>0</td>\n",
       "      <td>0</td>\n",
       "      <td>0</td>\n",
       "      <td>0</td>\n",
       "      <td>0</td>\n",
       "      <td>0</td>\n",
       "      <td>0</td>\n",
       "      <td>1</td>\n",
       "      <td>1</td>\n",
       "      <td>2</td>\n",
       "    </tr>\n",
       "    <tr>\n",
       "      <th>1</th>\n",
       "      <td>38045324</td>\n",
       "      <td>380475</td>\n",
       "      <td>532475</td>\n",
       "      <td>0</td>\n",
       "      <td>20200101</td>\n",
       "      <td>4213000000</td>\n",
       "      <td>9.36</td>\n",
       "      <td>1.44</td>\n",
       "      <td>0</td>\n",
       "      <td>0</td>\n",
       "      <td>0</td>\n",
       "      <td>0</td>\n",
       "      <td>0</td>\n",
       "      <td>0</td>\n",
       "      <td>0</td>\n",
       "      <td>0</td>\n",
       "      <td>1</td>\n",
       "      <td>1</td>\n",
       "      <td>2</td>\n",
       "    </tr>\n",
       "    <tr>\n",
       "      <th>2</th>\n",
       "      <td>38145354</td>\n",
       "      <td>381475</td>\n",
       "      <td>535475</td>\n",
       "      <td>0</td>\n",
       "      <td>20200101</td>\n",
       "      <td>4213000000</td>\n",
       "      <td>3.93</td>\n",
       "      <td>0.15</td>\n",
       "      <td>0</td>\n",
       "      <td>0</td>\n",
       "      <td>0</td>\n",
       "      <td>0</td>\n",
       "      <td>0</td>\n",
       "      <td>0</td>\n",
       "      <td>0</td>\n",
       "      <td>0</td>\n",
       "      <td>1</td>\n",
       "      <td>1</td>\n",
       "      <td>2</td>\n",
       "    </tr>\n",
       "    <tr>\n",
       "      <th>3</th>\n",
       "      <td>38245184</td>\n",
       "      <td>382475</td>\n",
       "      <td>518475</td>\n",
       "      <td>0</td>\n",
       "      <td>20200101</td>\n",
       "      <td>4213000000</td>\n",
       "      <td>2.69</td>\n",
       "      <td>0.16</td>\n",
       "      <td>0</td>\n",
       "      <td>0</td>\n",
       "      <td>0</td>\n",
       "      <td>0</td>\n",
       "      <td>0</td>\n",
       "      <td>0</td>\n",
       "      <td>0</td>\n",
       "      <td>0</td>\n",
       "      <td>1</td>\n",
       "      <td>1</td>\n",
       "      <td>2</td>\n",
       "    </tr>\n",
       "    <tr>\n",
       "      <th>4</th>\n",
       "      <td>38245194</td>\n",
       "      <td>382475</td>\n",
       "      <td>519475</td>\n",
       "      <td>0</td>\n",
       "      <td>20200101</td>\n",
       "      <td>4213000000</td>\n",
       "      <td>2.35</td>\n",
       "      <td>0.14</td>\n",
       "      <td>0</td>\n",
       "      <td>0</td>\n",
       "      <td>0</td>\n",
       "      <td>0</td>\n",
       "      <td>0</td>\n",
       "      <td>0</td>\n",
       "      <td>0</td>\n",
       "      <td>0</td>\n",
       "      <td>1</td>\n",
       "      <td>1</td>\n",
       "      <td>2</td>\n",
       "    </tr>\n",
       "    <tr>\n",
       "      <th>...</th>\n",
       "      <td>...</td>\n",
       "      <td>...</td>\n",
       "      <td>...</td>\n",
       "      <td>...</td>\n",
       "      <td>...</td>\n",
       "      <td>...</td>\n",
       "      <td>...</td>\n",
       "      <td>...</td>\n",
       "      <td>...</td>\n",
       "      <td>...</td>\n",
       "      <td>...</td>\n",
       "      <td>...</td>\n",
       "      <td>...</td>\n",
       "      <td>...</td>\n",
       "      <td>...</td>\n",
       "      <td>...</td>\n",
       "      <td>...</td>\n",
       "      <td>...</td>\n",
       "      <td>...</td>\n",
       "    </tr>\n",
       "    <tr>\n",
       "      <th>1769073</th>\n",
       "      <td>40245274</td>\n",
       "      <td>402475</td>\n",
       "      <td>527475</td>\n",
       "      <td>23</td>\n",
       "      <td>20201230</td>\n",
       "      <td>4213000000</td>\n",
       "      <td>25.48</td>\n",
       "      <td>1.04</td>\n",
       "      <td>0</td>\n",
       "      <td>0</td>\n",
       "      <td>0</td>\n",
       "      <td>0</td>\n",
       "      <td>0</td>\n",
       "      <td>0</td>\n",
       "      <td>0</td>\n",
       "      <td>0</td>\n",
       "      <td>12</td>\n",
       "      <td>30</td>\n",
       "      <td>2</td>\n",
       "    </tr>\n",
       "    <tr>\n",
       "      <th>1769074</th>\n",
       "      <td>40545364</td>\n",
       "      <td>405475</td>\n",
       "      <td>536475</td>\n",
       "      <td>23</td>\n",
       "      <td>20201230</td>\n",
       "      <td>4213000000</td>\n",
       "      <td>1.21</td>\n",
       "      <td>0.32</td>\n",
       "      <td>0</td>\n",
       "      <td>0</td>\n",
       "      <td>0</td>\n",
       "      <td>0</td>\n",
       "      <td>0</td>\n",
       "      <td>0</td>\n",
       "      <td>0</td>\n",
       "      <td>0</td>\n",
       "      <td>12</td>\n",
       "      <td>30</td>\n",
       "      <td>2</td>\n",
       "    </tr>\n",
       "    <tr>\n",
       "      <th>1769075</th>\n",
       "      <td>40645144</td>\n",
       "      <td>406475</td>\n",
       "      <td>514475</td>\n",
       "      <td>23</td>\n",
       "      <td>20201230</td>\n",
       "      <td>4213000000</td>\n",
       "      <td>1.28</td>\n",
       "      <td>0.30</td>\n",
       "      <td>0</td>\n",
       "      <td>0</td>\n",
       "      <td>0</td>\n",
       "      <td>0</td>\n",
       "      <td>0</td>\n",
       "      <td>0</td>\n",
       "      <td>0</td>\n",
       "      <td>0</td>\n",
       "      <td>12</td>\n",
       "      <td>30</td>\n",
       "      <td>2</td>\n",
       "    </tr>\n",
       "    <tr>\n",
       "      <th>1769076</th>\n",
       "      <td>40745144</td>\n",
       "      <td>407475</td>\n",
       "      <td>514475</td>\n",
       "      <td>23</td>\n",
       "      <td>20201230</td>\n",
       "      <td>4213000000</td>\n",
       "      <td>6.17</td>\n",
       "      <td>1.47</td>\n",
       "      <td>0</td>\n",
       "      <td>0</td>\n",
       "      <td>0</td>\n",
       "      <td>0</td>\n",
       "      <td>0</td>\n",
       "      <td>0</td>\n",
       "      <td>0</td>\n",
       "      <td>0</td>\n",
       "      <td>12</td>\n",
       "      <td>30</td>\n",
       "      <td>2</td>\n",
       "    </tr>\n",
       "    <tr>\n",
       "      <th>1769077</th>\n",
       "      <td>40845154</td>\n",
       "      <td>408475</td>\n",
       "      <td>515475</td>\n",
       "      <td>23</td>\n",
       "      <td>20201230</td>\n",
       "      <td>4213000000</td>\n",
       "      <td>1.04</td>\n",
       "      <td>0.22</td>\n",
       "      <td>0</td>\n",
       "      <td>0</td>\n",
       "      <td>0</td>\n",
       "      <td>0</td>\n",
       "      <td>0</td>\n",
       "      <td>0</td>\n",
       "      <td>0</td>\n",
       "      <td>0</td>\n",
       "      <td>12</td>\n",
       "      <td>30</td>\n",
       "      <td>2</td>\n",
       "    </tr>\n",
       "  </tbody>\n",
       "</table>\n",
       "<p>1769078 rows × 19 columns</p>\n",
       "</div>"
      ],
      "text/plain": [
       "          GRID_ID  GRID_X_AXIS  GRID_Y_AXIS  TIME       YMD     STDG_CD  \\\n",
       "0        38045314       380475       531475     0  20200101  4213000000   \n",
       "1        38045324       380475       532475     0  20200101  4213000000   \n",
       "2        38145354       381475       535475     0  20200101  4213000000   \n",
       "3        38245184       382475       518475     0  20200101  4213000000   \n",
       "4        38245194       382475       519475     0  20200101  4213000000   \n",
       "...           ...          ...          ...   ...       ...         ...   \n",
       "1769073  40245274       402475       527475    23  20201230  4213000000   \n",
       "1769074  40545364       405475       536475    23  20201230  4213000000   \n",
       "1769075  40645144       406475       514475    23  20201230  4213000000   \n",
       "1769076  40745144       407475       514475    23  20201230  4213000000   \n",
       "1769077  40845154       408475       515475    23  20201230  4213000000   \n",
       "\n",
       "         FP_IDEX  OLD_FP_IDEX  RELIFPLC_DWL_IDEX  RELIFPLC_ROAD_IDEX  \\\n",
       "0           2.88         0.72                  0                   0   \n",
       "1           9.36         1.44                  0                   0   \n",
       "2           3.93         0.15                  0                   0   \n",
       "3           2.69         0.16                  0                   0   \n",
       "4           2.35         0.14                  0                   0   \n",
       "...          ...          ...                ...                 ...   \n",
       "1769073    25.48         1.04                  0                   0   \n",
       "1769074     1.21         0.32                  0                   0   \n",
       "1769075     1.28         0.30                  0                   0   \n",
       "1769076     6.17         1.47                  0                   0   \n",
       "1769077     1.04         0.22                  0                   0   \n",
       "\n",
       "         RELIFPLC_INDUST_IDEX  RELIFPLC_NTR_IDEX  RELIFPLC_ETC_IDEX  \\\n",
       "0                           0                  0                  0   \n",
       "1                           0                  0                  0   \n",
       "2                           0                  0                  0   \n",
       "3                           0                  0                  0   \n",
       "4                           0                  0                  0   \n",
       "...                       ...                ...                ...   \n",
       "1769073                     0                  0                  0   \n",
       "1769074                     0                  0                  0   \n",
       "1769075                     0                  0                  0   \n",
       "1769076                     0                  0                  0   \n",
       "1769077                     0                  0                  0   \n",
       "\n",
       "         DSP_CNT_IDEX  DISEASE_DSP_IDEX  DISEASE_EXCL_DSP_IDEX  MONTH  DAY  \\\n",
       "0                   0                 0                      0      1    1   \n",
       "1                   0                 0                      0      1    1   \n",
       "2                   0                 0                      0      1    1   \n",
       "3                   0                 0                      0      1    1   \n",
       "4                   0                 0                      0      1    1   \n",
       "...               ...               ...                    ...    ...  ...   \n",
       "1769073             0                 0                      0     12   30   \n",
       "1769074             0                 0                      0     12   30   \n",
       "1769075             0                 0                      0     12   30   \n",
       "1769076             0                 0                      0     12   30   \n",
       "1769077             0                 0                      0     12   30   \n",
       "\n",
       "         WEEKDAY  \n",
       "0              2  \n",
       "1              2  \n",
       "2              2  \n",
       "3              2  \n",
       "4              2  \n",
       "...          ...  \n",
       "1769073        2  \n",
       "1769074        2  \n",
       "1769075        2  \n",
       "1769076        2  \n",
       "1769077        2  \n",
       "\n",
       "[1769078 rows x 19 columns]"
      ]
     },
     "execution_count": 47,
     "metadata": {},
     "output_type": "execute_result"
    }
   ],
   "source": [
    "import datetime\n",
    "\n",
    "# 요일 0 ~ 6 정수값 return (월요일 ~ 일요일)\n",
    "def get_weekday(ymd):\n",
    "    yyyy = int(ymd/10000)\n",
    "    mm = int(ymd%10000/100)    \n",
    "    dd = int(ymd%10000%100)  \n",
    "    return datetime.date(yyyy,mm,dd).weekday()\n",
    "\n",
    "## apply 함수\n",
    "df[\"MONTH\"] = df[\"YMD\"].apply(lambda x : int(x%10000/100) )\n",
    "df[\"DAY\"] = df[\"YMD\"].apply(lambda x : int(x%10000%100) )\n",
    "df[\"WEEKDAY\"] = df[\"YMD\"].apply(get_weekday)\n",
    "\n",
    "df"
   ]
  },
  {
   "cell_type": "code",
   "execution_count": 50,
   "metadata": {},
   "outputs": [
    {
     "data": {
      "text/html": [
       "<div>\n",
       "<style scoped>\n",
       "    .dataframe tbody tr th:only-of-type {\n",
       "        vertical-align: middle;\n",
       "    }\n",
       "\n",
       "    .dataframe tbody tr th {\n",
       "        vertical-align: top;\n",
       "    }\n",
       "\n",
       "    .dataframe thead th {\n",
       "        text-align: right;\n",
       "    }\n",
       "</style>\n",
       "<table border=\"1\" class=\"dataframe\">\n",
       "  <thead>\n",
       "    <tr style=\"text-align: right;\">\n",
       "      <th></th>\n",
       "      <th>DSP_CNT_IDEX</th>\n",
       "      <th>GRID_ID</th>\n",
       "    </tr>\n",
       "    <tr>\n",
       "      <th>GRID_ID</th>\n",
       "      <th></th>\n",
       "      <th></th>\n",
       "    </tr>\n",
       "  </thead>\n",
       "  <tbody>\n",
       "    <tr>\n",
       "      <th>37645864</th>\n",
       "      <td>1</td>\n",
       "      <td>37645864</td>\n",
       "    </tr>\n",
       "    <tr>\n",
       "      <th>37745114</th>\n",
       "      <td>23</td>\n",
       "      <td>37745114</td>\n",
       "    </tr>\n",
       "    <tr>\n",
       "      <th>37745124</th>\n",
       "      <td>8</td>\n",
       "      <td>37745124</td>\n",
       "    </tr>\n",
       "    <tr>\n",
       "      <th>37745144</th>\n",
       "      <td>4</td>\n",
       "      <td>37745144</td>\n",
       "    </tr>\n",
       "    <tr>\n",
       "      <th>37745154</th>\n",
       "      <td>13</td>\n",
       "      <td>37745154</td>\n",
       "    </tr>\n",
       "    <tr>\n",
       "      <th>...</th>\n",
       "      <td>...</td>\n",
       "      <td>...</td>\n",
       "    </tr>\n",
       "    <tr>\n",
       "      <th>44145094</th>\n",
       "      <td>1</td>\n",
       "      <td>44145094</td>\n",
       "    </tr>\n",
       "    <tr>\n",
       "      <th>44945564</th>\n",
       "      <td>1</td>\n",
       "      <td>44945564</td>\n",
       "    </tr>\n",
       "    <tr>\n",
       "      <th>45045614</th>\n",
       "      <td>1</td>\n",
       "      <td>45045614</td>\n",
       "    </tr>\n",
       "    <tr>\n",
       "      <th>48845074</th>\n",
       "      <td>1</td>\n",
       "      <td>48845074</td>\n",
       "    </tr>\n",
       "    <tr>\n",
       "      <th>49945514</th>\n",
       "      <td>1</td>\n",
       "      <td>49945514</td>\n",
       "    </tr>\n",
       "  </tbody>\n",
       "</table>\n",
       "<p>687 rows × 2 columns</p>\n",
       "</div>"
      ],
      "text/plain": [
       "          DSP_CNT_IDEX   GRID_ID\n",
       "GRID_ID                         \n",
       "37645864             1  37645864\n",
       "37745114            23  37745114\n",
       "37745124             8  37745124\n",
       "37745144             4  37745144\n",
       "37745154            13  37745154\n",
       "...                ...       ...\n",
       "44145094             1  44145094\n",
       "44945564             1  44945564\n",
       "45045614             1  45045614\n",
       "48845074             1  48845074\n",
       "49945514             1  49945514\n",
       "\n",
       "[687 rows x 2 columns]"
      ]
     },
     "execution_count": 50,
     "metadata": {},
     "output_type": "execute_result"
    }
   ],
   "source": [
    "import numpy as np\n",
    "\n",
    "# 격자 ID 기준으로 DSP_CNT_IDEX 값을 SUM 기준으로 데이터 변환\n",
    "rect_table = pd.pivot_table(df, values= \"DSP_CNT_IDEX\" , index=['GRID_ID'], aggfunc=np.sum)\n",
    "\n",
    "rect_table[\"GRID_ID\"] = rect_table.index.values\n",
    "rect_table"
   ]
  },
  {
   "cell_type": "code",
   "execution_count": null,
   "metadata": {},
   "outputs": [],
   "source": []
  },
  {
   "cell_type": "code",
   "execution_count": null,
   "metadata": {},
   "outputs": [],
   "source": []
  },
  {
   "cell_type": "code",
   "execution_count": null,
   "metadata": {},
   "outputs": [],
   "source": []
  },
  {
   "cell_type": "code",
   "execution_count": null,
   "metadata": {},
   "outputs": [],
   "source": []
  },
  {
   "cell_type": "code",
   "execution_count": null,
   "metadata": {},
   "outputs": [],
   "source": []
  },
  {
   "cell_type": "code",
   "execution_count": null,
   "metadata": {},
   "outputs": [],
   "source": []
  },
  {
   "cell_type": "code",
   "execution_count": 51,
   "metadata": {},
   "outputs": [
    {
     "data": {
      "text/plain": [
       "(array([121, 145, 146, 171, 268, 340, 342, 365, 368, 369, 370, 371, 394,\n",
       "        395, 396, 397, 398, 399, 400, 402, 419, 420, 421, 422, 423, 425,\n",
       "        426, 428, 436, 437, 438, 439, 440, 441, 442, 443, 444, 447, 455,\n",
       "        456, 457, 458, 475, 477, 497, 621], dtype=int64),\n",
       " 46)"
      ]
     },
     "execution_count": 51,
     "metadata": {},
     "output_type": "execute_result"
    }
   ],
   "source": [
    "## 격자 중에 출동이 50 번이 넘게 COUNT 되는 격자 추출 = 46개 격자\n",
    "many_dsp = np.where(rect_table[\"DSP_CNT_IDEX\"] > 50)[0]\n",
    "many_dsp , len(rect_table.values[many_dsp])"
   ]
  },
  {
   "cell_type": "code",
   "execution_count": 52,
   "metadata": {},
   "outputs": [
    {
     "data": {
      "text/plain": [
       "array([38345224, 38445234, 38445244, 38545244, 38945304, 39245194,\n",
       "       39245214, 39345224, 39345254, 39345264, 39345274, 39345284,\n",
       "       39445244, 39445254, 39445264, 39445274, 39445284, 39445294,\n",
       "       39445304, 39445324, 39545244, 39545254, 39545264, 39545274,\n",
       "       39545284, 39545304, 39545314, 39545334, 39645234, 39645244,\n",
       "       39645254, 39645264, 39645274, 39645284, 39645294, 39645304,\n",
       "       39645314, 39645344, 39745234, 39745244, 39745254, 39745264,\n",
       "       39845244, 39845264, 39945254, 40745144], dtype=int64)"
      ]
     },
     "execution_count": 52,
     "metadata": {},
     "output_type": "execute_result"
    }
   ],
   "source": [
    "# 격자 중에 출동이 50 번이 넘게 COUNT 되는 격자 GRID_ID 값들\n",
    "many_dsp_GRID_ID = rect_table.index.values[many_dsp]\n",
    "many_dsp_GRID_ID"
   ]
  },
  {
   "cell_type": "code",
   "execution_count": 53,
   "metadata": {},
   "outputs": [
    {
     "data": {
      "text/html": [
       "<div>\n",
       "<style scoped>\n",
       "    .dataframe tbody tr th:only-of-type {\n",
       "        vertical-align: middle;\n",
       "    }\n",
       "\n",
       "    .dataframe tbody tr th {\n",
       "        vertical-align: top;\n",
       "    }\n",
       "\n",
       "    .dataframe thead th {\n",
       "        text-align: right;\n",
       "    }\n",
       "</style>\n",
       "<table border=\"1\" class=\"dataframe\">\n",
       "  <thead>\n",
       "    <tr style=\"text-align: right;\">\n",
       "      <th></th>\n",
       "      <th>GRID_ID</th>\n",
       "      <th>GRID_X_AXIS</th>\n",
       "      <th>GRID_Y_AXIS</th>\n",
       "      <th>TIME</th>\n",
       "      <th>YMD</th>\n",
       "      <th>STDG_CD</th>\n",
       "      <th>FP_IDEX</th>\n",
       "      <th>OLD_FP_IDEX</th>\n",
       "      <th>RELIFPLC_DWL_IDEX</th>\n",
       "      <th>RELIFPLC_ROAD_IDEX</th>\n",
       "      <th>RELIFPLC_INDUST_IDEX</th>\n",
       "      <th>RELIFPLC_NTR_IDEX</th>\n",
       "      <th>RELIFPLC_ETC_IDEX</th>\n",
       "      <th>DSP_CNT_IDEX</th>\n",
       "      <th>DISEASE_DSP_IDEX</th>\n",
       "      <th>DISEASE_EXCL_DSP_IDEX</th>\n",
       "      <th>MONTH</th>\n",
       "      <th>DAY</th>\n",
       "      <th>WEEKDAY</th>\n",
       "    </tr>\n",
       "  </thead>\n",
       "  <tbody>\n",
       "    <tr>\n",
       "      <th>12</th>\n",
       "      <td>38345224</td>\n",
       "      <td>383475</td>\n",
       "      <td>522475</td>\n",
       "      <td>0</td>\n",
       "      <td>20200101</td>\n",
       "      <td>4213000000</td>\n",
       "      <td>4.18</td>\n",
       "      <td>0.34</td>\n",
       "      <td>0</td>\n",
       "      <td>0</td>\n",
       "      <td>0</td>\n",
       "      <td>0</td>\n",
       "      <td>0</td>\n",
       "      <td>0</td>\n",
       "      <td>0</td>\n",
       "      <td>0</td>\n",
       "      <td>1</td>\n",
       "      <td>1</td>\n",
       "      <td>2</td>\n",
       "    </tr>\n",
       "    <tr>\n",
       "      <th>19</th>\n",
       "      <td>38445234</td>\n",
       "      <td>384475</td>\n",
       "      <td>523475</td>\n",
       "      <td>0</td>\n",
       "      <td>20200101</td>\n",
       "      <td>4213000000</td>\n",
       "      <td>340.74</td>\n",
       "      <td>28.71</td>\n",
       "      <td>0</td>\n",
       "      <td>0</td>\n",
       "      <td>0</td>\n",
       "      <td>0</td>\n",
       "      <td>0</td>\n",
       "      <td>0</td>\n",
       "      <td>0</td>\n",
       "      <td>0</td>\n",
       "      <td>1</td>\n",
       "      <td>1</td>\n",
       "      <td>2</td>\n",
       "    </tr>\n",
       "    <tr>\n",
       "      <th>20</th>\n",
       "      <td>38445244</td>\n",
       "      <td>384475</td>\n",
       "      <td>524475</td>\n",
       "      <td>0</td>\n",
       "      <td>20200101</td>\n",
       "      <td>4213000000</td>\n",
       "      <td>156.82</td>\n",
       "      <td>9.65</td>\n",
       "      <td>0</td>\n",
       "      <td>0</td>\n",
       "      <td>0</td>\n",
       "      <td>0</td>\n",
       "      <td>0</td>\n",
       "      <td>0</td>\n",
       "      <td>0</td>\n",
       "      <td>0</td>\n",
       "      <td>1</td>\n",
       "      <td>1</td>\n",
       "      <td>2</td>\n",
       "    </tr>\n",
       "    <tr>\n",
       "      <th>27</th>\n",
       "      <td>38545244</td>\n",
       "      <td>385475</td>\n",
       "      <td>524475</td>\n",
       "      <td>0</td>\n",
       "      <td>20200101</td>\n",
       "      <td>4213000000</td>\n",
       "      <td>219.92</td>\n",
       "      <td>13.15</td>\n",
       "      <td>0</td>\n",
       "      <td>0</td>\n",
       "      <td>0</td>\n",
       "      <td>0</td>\n",
       "      <td>0</td>\n",
       "      <td>0</td>\n",
       "      <td>0</td>\n",
       "      <td>0</td>\n",
       "      <td>1</td>\n",
       "      <td>1</td>\n",
       "      <td>2</td>\n",
       "    </tr>\n",
       "    <tr>\n",
       "      <th>49</th>\n",
       "      <td>38945304</td>\n",
       "      <td>389475</td>\n",
       "      <td>530475</td>\n",
       "      <td>0</td>\n",
       "      <td>20200101</td>\n",
       "      <td>4213000000</td>\n",
       "      <td>51.71</td>\n",
       "      <td>1.40</td>\n",
       "      <td>0</td>\n",
       "      <td>0</td>\n",
       "      <td>0</td>\n",
       "      <td>0</td>\n",
       "      <td>0</td>\n",
       "      <td>0</td>\n",
       "      <td>0</td>\n",
       "      <td>0</td>\n",
       "      <td>1</td>\n",
       "      <td>1</td>\n",
       "      <td>2</td>\n",
       "    </tr>\n",
       "    <tr>\n",
       "      <th>...</th>\n",
       "      <td>...</td>\n",
       "      <td>...</td>\n",
       "      <td>...</td>\n",
       "      <td>...</td>\n",
       "      <td>...</td>\n",
       "      <td>...</td>\n",
       "      <td>...</td>\n",
       "      <td>...</td>\n",
       "      <td>...</td>\n",
       "      <td>...</td>\n",
       "      <td>...</td>\n",
       "      <td>...</td>\n",
       "      <td>...</td>\n",
       "      <td>...</td>\n",
       "      <td>...</td>\n",
       "      <td>...</td>\n",
       "      <td>...</td>\n",
       "      <td>...</td>\n",
       "      <td>...</td>\n",
       "    </tr>\n",
       "    <tr>\n",
       "      <th>1769032</th>\n",
       "      <td>39745264</td>\n",
       "      <td>397475</td>\n",
       "      <td>526475</td>\n",
       "      <td>23</td>\n",
       "      <td>20201230</td>\n",
       "      <td>4213000000</td>\n",
       "      <td>3865.51</td>\n",
       "      <td>331.79</td>\n",
       "      <td>0</td>\n",
       "      <td>0</td>\n",
       "      <td>0</td>\n",
       "      <td>0</td>\n",
       "      <td>0</td>\n",
       "      <td>0</td>\n",
       "      <td>0</td>\n",
       "      <td>0</td>\n",
       "      <td>12</td>\n",
       "      <td>30</td>\n",
       "      <td>2</td>\n",
       "    </tr>\n",
       "    <tr>\n",
       "      <th>1769045</th>\n",
       "      <td>39845244</td>\n",
       "      <td>398475</td>\n",
       "      <td>524475</td>\n",
       "      <td>23</td>\n",
       "      <td>20201230</td>\n",
       "      <td>4213000000</td>\n",
       "      <td>984.48</td>\n",
       "      <td>48.15</td>\n",
       "      <td>0</td>\n",
       "      <td>0</td>\n",
       "      <td>0</td>\n",
       "      <td>0</td>\n",
       "      <td>0</td>\n",
       "      <td>0</td>\n",
       "      <td>0</td>\n",
       "      <td>0</td>\n",
       "      <td>12</td>\n",
       "      <td>30</td>\n",
       "      <td>2</td>\n",
       "    </tr>\n",
       "    <tr>\n",
       "      <th>1769047</th>\n",
       "      <td>39845264</td>\n",
       "      <td>398475</td>\n",
       "      <td>526475</td>\n",
       "      <td>23</td>\n",
       "      <td>20201230</td>\n",
       "      <td>4213000000</td>\n",
       "      <td>516.59</td>\n",
       "      <td>67.30</td>\n",
       "      <td>0</td>\n",
       "      <td>0</td>\n",
       "      <td>0</td>\n",
       "      <td>0</td>\n",
       "      <td>0</td>\n",
       "      <td>0</td>\n",
       "      <td>0</td>\n",
       "      <td>0</td>\n",
       "      <td>12</td>\n",
       "      <td>30</td>\n",
       "      <td>2</td>\n",
       "    </tr>\n",
       "    <tr>\n",
       "      <th>1769057</th>\n",
       "      <td>39945254</td>\n",
       "      <td>399475</td>\n",
       "      <td>525475</td>\n",
       "      <td>23</td>\n",
       "      <td>20201230</td>\n",
       "      <td>4213000000</td>\n",
       "      <td>1415.55</td>\n",
       "      <td>84.09</td>\n",
       "      <td>0</td>\n",
       "      <td>0</td>\n",
       "      <td>0</td>\n",
       "      <td>0</td>\n",
       "      <td>0</td>\n",
       "      <td>0</td>\n",
       "      <td>0</td>\n",
       "      <td>0</td>\n",
       "      <td>12</td>\n",
       "      <td>30</td>\n",
       "      <td>2</td>\n",
       "    </tr>\n",
       "    <tr>\n",
       "      <th>1769076</th>\n",
       "      <td>40745144</td>\n",
       "      <td>407475</td>\n",
       "      <td>514475</td>\n",
       "      <td>23</td>\n",
       "      <td>20201230</td>\n",
       "      <td>4213000000</td>\n",
       "      <td>6.17</td>\n",
       "      <td>1.47</td>\n",
       "      <td>0</td>\n",
       "      <td>0</td>\n",
       "      <td>0</td>\n",
       "      <td>0</td>\n",
       "      <td>0</td>\n",
       "      <td>0</td>\n",
       "      <td>0</td>\n",
       "      <td>0</td>\n",
       "      <td>12</td>\n",
       "      <td>30</td>\n",
       "      <td>2</td>\n",
       "    </tr>\n",
       "  </tbody>\n",
       "</table>\n",
       "<p>386050 rows × 19 columns</p>\n",
       "</div>"
      ],
      "text/plain": [
       "          GRID_ID  GRID_X_AXIS  GRID_Y_AXIS  TIME       YMD     STDG_CD  \\\n",
       "12       38345224       383475       522475     0  20200101  4213000000   \n",
       "19       38445234       384475       523475     0  20200101  4213000000   \n",
       "20       38445244       384475       524475     0  20200101  4213000000   \n",
       "27       38545244       385475       524475     0  20200101  4213000000   \n",
       "49       38945304       389475       530475     0  20200101  4213000000   \n",
       "...           ...          ...          ...   ...       ...         ...   \n",
       "1769032  39745264       397475       526475    23  20201230  4213000000   \n",
       "1769045  39845244       398475       524475    23  20201230  4213000000   \n",
       "1769047  39845264       398475       526475    23  20201230  4213000000   \n",
       "1769057  39945254       399475       525475    23  20201230  4213000000   \n",
       "1769076  40745144       407475       514475    23  20201230  4213000000   \n",
       "\n",
       "         FP_IDEX  OLD_FP_IDEX  RELIFPLC_DWL_IDEX  RELIFPLC_ROAD_IDEX  \\\n",
       "12          4.18         0.34                  0                   0   \n",
       "19        340.74        28.71                  0                   0   \n",
       "20        156.82         9.65                  0                   0   \n",
       "27        219.92        13.15                  0                   0   \n",
       "49         51.71         1.40                  0                   0   \n",
       "...          ...          ...                ...                 ...   \n",
       "1769032  3865.51       331.79                  0                   0   \n",
       "1769045   984.48        48.15                  0                   0   \n",
       "1769047   516.59        67.30                  0                   0   \n",
       "1769057  1415.55        84.09                  0                   0   \n",
       "1769076     6.17         1.47                  0                   0   \n",
       "\n",
       "         RELIFPLC_INDUST_IDEX  RELIFPLC_NTR_IDEX  RELIFPLC_ETC_IDEX  \\\n",
       "12                          0                  0                  0   \n",
       "19                          0                  0                  0   \n",
       "20                          0                  0                  0   \n",
       "27                          0                  0                  0   \n",
       "49                          0                  0                  0   \n",
       "...                       ...                ...                ...   \n",
       "1769032                     0                  0                  0   \n",
       "1769045                     0                  0                  0   \n",
       "1769047                     0                  0                  0   \n",
       "1769057                     0                  0                  0   \n",
       "1769076                     0                  0                  0   \n",
       "\n",
       "         DSP_CNT_IDEX  DISEASE_DSP_IDEX  DISEASE_EXCL_DSP_IDEX  MONTH  DAY  \\\n",
       "12                  0                 0                      0      1    1   \n",
       "19                  0                 0                      0      1    1   \n",
       "20                  0                 0                      0      1    1   \n",
       "27                  0                 0                      0      1    1   \n",
       "49                  0                 0                      0      1    1   \n",
       "...               ...               ...                    ...    ...  ...   \n",
       "1769032             0                 0                      0     12   30   \n",
       "1769045             0                 0                      0     12   30   \n",
       "1769047             0                 0                      0     12   30   \n",
       "1769057             0                 0                      0     12   30   \n",
       "1769076             0                 0                      0     12   30   \n",
       "\n",
       "         WEEKDAY  \n",
       "12             2  \n",
       "19             2  \n",
       "20             2  \n",
       "27             2  \n",
       "49             2  \n",
       "...          ...  \n",
       "1769032        2  \n",
       "1769045        2  \n",
       "1769047        2  \n",
       "1769057        2  \n",
       "1769076        2  \n",
       "\n",
       "[386050 rows x 19 columns]"
      ]
     },
     "execution_count": 53,
     "metadata": {},
     "output_type": "execute_result"
    }
   ],
   "source": [
    "many_dsp_df = df[df[\"GRID_ID\"].apply(lambda x :  x in many_dsp_GRID_ID)]\n",
    "\n",
    "# 38만 ROW 데이터\n",
    "many_dsp_df"
   ]
  },
  {
   "cell_type": "code",
   "execution_count": 59,
   "metadata": {},
   "outputs": [],
   "source": [
    "# Outlier detection \n",
    "\n",
    "def detect_outliers(df,n,features):\n",
    "    \"\"\"\n",
    "    Takes a dataframe df of features and returns a list of the indices\n",
    "    corresponding to the observations containing more than n outliers according\n",
    "    to the Tukey method.\n",
    "    \"\"\"\n",
    "    outlier_indices = []\n",
    "    \n",
    "    # iterate over features(columns)\n",
    "    for col in features:\n",
    "        # 1st quartile (25%)\n",
    "        Q1 = np.percentile(df[col], 25)\n",
    "        # 3rd quartile (75%)\n",
    "        Q3 = np.percentile(df[col],75)\n",
    "        # Interquartile range (IQR)\n",
    "        IQR = Q3 - Q1\n",
    "        \n",
    "        # outlier step\n",
    "        outlier_step = 1.5 * IQR\n",
    "        \n",
    "        # Determine a list of indices of outliers for feature col\n",
    "        outlier_list_col = df[(df[col] < Q1 - outlier_step) | (df[col] > Q3 + outlier_step )].index\n",
    "        \n",
    "        # append the found outlier indices for col to the list of outlier indices \n",
    "        outlier_indices.extend(outlier_list_col)\n",
    "        \n",
    "    # select observations containing more than 2 outliers\n",
    "    outlier_indices = Counter(outlier_indices)        \n",
    "    multiple_outliers = list( k for k, v in outlier_indices.items() if v > n )\n",
    "    \n",
    "    return multiple_outliers   \n",
    "\n",
    "# detect outliers from Age, SibSp , Parch and Fare\n",
    "Outliers_to_drop = detect_outliers(df,2,[\"DSP_CNT_IDEX\"])"
   ]
  },
  {
   "cell_type": "code",
   "execution_count": null,
   "metadata": {},
   "outputs": [],
   "source": [
    "df.loc[Outliers_to_drop] # Show the outliers rows"
   ]
  },
  {
   "cell_type": "markdown",
   "metadata": {},
   "source": [
    "# 상관관계 분석"
   ]
  },
  {
   "cell_type": "code",
   "execution_count": 65,
   "metadata": {},
   "outputs": [
    {
     "data": {
      "image/png": "[encoded data removed]",
      "text/plain": [
       "<Figure size 432x288 with 2 Axes>"
      ]
     },
     "metadata": {},
     "output_type": "display_data"
    }
   ],
   "source": [
    "# Correlation matrix between numerical values (SibSp Parch Age and Fare values) and Survived \n",
    "g = sns.heatmap(df[[\"DSP_CNT_IDEX\",\"GRID_X_AXIS\",\"GRID_Y_AXIS\",\"FP_IDEX\", \"YMD\",\"OLD_FP_IDEX\",\"DISEASE_DSP_IDEX\" ]].corr(),annot=True, fmt = \".2f\", cmap = \"coolwarm\")"
   ]
  },
  {
   "cell_type": "markdown",
   "metadata": {},
   "source": [
    "only 'FP_IDEX' 만이 'DSP_CNT_IDEX'와 유의미한 correlation이 있다는 것을 확인할 수 있다. \n",
    "날짜 와는 아무 상관이 없다는 것을 확인"
   ]
  },
  {
   "cell_type": "code",
   "execution_count": 68,
   "metadata": {},
   "outputs": [
    {
     "data": {
      "text/plain": [
       "<AxesSubplot:>"
      ]
     },
     "execution_count": 68,
     "metadata": {},
     "output_type": "execute_result"
    },
    {
     "data": {
      "image/png": "[encoded data removed]",
      "text/plain": [
       "<Figure size 1080x1080 with 2 Axes>"
      ]
     },
     "metadata": {},
     "output_type": "display_data"
    }
   ],
   "source": [
    "plt.figure(figsize=(15,15))\n",
    "sns.heatmap(data = df.corr(), annot=True, \n",
    "fmt = '.2f', linewidths=.5, cmap='YlGnBu')\n"
   ]
  },
  {
   "cell_type": "markdown",
   "metadata": {},
   "source": [
    "우리는 DSP_CNT_IDEX를 집중적으로 봐야하는데, DSP_CNT_IDEX와 유의미한 correlation을 가지는 칼럼들은 RELIFPLC_DWL_IDEX, RELIFPLC_ROAD_IDEX, RELIFPLC_INDUST_IDEX, RELIFPLC_NTRL_IDEX, RELIFPLC_ETC_IDEX, DISEASE_DSP_IDEX, DISEASE_EXCL_DSP_IDEX 정도이다.\n",
    "그러나 우리는 주최자측에서 제시한 정답을 유추하기 위해서 위 칼럼들은 별로 신경을 크게 안써도 되는 칼럼들이다. "
   ]
  },
  {
   "cell_type": "code",
   "execution_count": 72,
   "metadata": {},
   "outputs": [
    {
     "name": "stderr",
     "output_type": "stream",
     "text": [
      "C:\\ProgramData\\Anaconda3\\lib\\site-packages\\seaborn\\categorical.py:3704: UserWarning: The `factorplot` function has been renamed to `catplot`. The original name will be removed in a future release. Please update your code. Note that the default `kind` in `factorplot` (`'point'`) has changed `'strip'` in `catplot`.\n",
      "  warnings.warn(msg)\n",
      "C:\\ProgramData\\Anaconda3\\lib\\site-packages\\seaborn\\categorical.py:3710: UserWarning: The `size` parameter has been renamed to `height`; please update your code.\n",
      "  warnings.warn(msg, UserWarning)\n",
      "C:\\ProgramData\\Anaconda3\\lib\\site-packages\\matplotlib\\backends\\backend_agg.py:238: RuntimeWarning: Glyph 52636 missing from current font.\n",
      "  font.set_text(s, 0.0, flags=flags)\n",
      "C:\\ProgramData\\Anaconda3\\lib\\site-packages\\matplotlib\\backends\\backend_agg.py:238: RuntimeWarning: Glyph 46041 missing from current font.\n",
      "  font.set_text(s, 0.0, flags=flags)\n",
      "C:\\ProgramData\\Anaconda3\\lib\\site-packages\\matplotlib\\backends\\backend_agg.py:238: RuntimeWarning: Glyph 51648 missing from current font.\n",
      "  font.set_text(s, 0.0, flags=flags)\n",
      "C:\\ProgramData\\Anaconda3\\lib\\site-packages\\matplotlib\\backends\\backend_agg.py:238: RuntimeWarning: Glyph 49688 missing from current font.\n",
      "  font.set_text(s, 0.0, flags=flags)\n",
      "C:\\ProgramData\\Anaconda3\\lib\\site-packages\\matplotlib\\backends\\backend_agg.py:201: RuntimeWarning: Glyph 52636 missing from current font.\n",
      "  font.set_text(s, 0, flags=flags)\n",
      "C:\\ProgramData\\Anaconda3\\lib\\site-packages\\matplotlib\\backends\\backend_agg.py:201: RuntimeWarning: Glyph 46041 missing from current font.\n",
      "  font.set_text(s, 0, flags=flags)\n",
      "C:\\ProgramData\\Anaconda3\\lib\\site-packages\\matplotlib\\backends\\backend_agg.py:201: RuntimeWarning: Glyph 51648 missing from current font.\n",
      "  font.set_text(s, 0, flags=flags)\n",
      "C:\\ProgramData\\Anaconda3\\lib\\site-packages\\matplotlib\\backends\\backend_agg.py:201: RuntimeWarning: Glyph 49688 missing from current font.\n",
      "  font.set_text(s, 0, flags=flags)\n"
     ]
    },
    {
     "data": {
      "image/png": "[encoded data removed]",
      "text/plain": [
       "<Figure size 432x432 with 1 Axes>"
      ]
     },
     "metadata": {},
     "output_type": "display_data"
    }
   ],
   "source": [
    "# Explore SibSp feature vs Survived\n",
    "g = sns.factorplot(x=\"RELIFPLC_DWL_IDEX\",y=\"DSP_CNT_IDEX\",data=df,kind=\"bar\", size = 6 , \n",
    "palette = \"muted\")\n",
    "g.despine(left=True)\n",
    "g = g.set_ylabels(\"출동지수\")"
   ]
  },
  {
   "cell_type": "code",
   "execution_count": 73,
   "metadata": {},
   "outputs": [
    {
     "name": "stderr",
     "output_type": "stream",
     "text": [
      "C:\\ProgramData\\Anaconda3\\lib\\site-packages\\seaborn\\categorical.py:3704: UserWarning: The `factorplot` function has been renamed to `catplot`. The original name will be removed in a future release. Please update your code. Note that the default `kind` in `factorplot` (`'point'`) has changed `'strip'` in `catplot`.\n",
      "  warnings.warn(msg)\n",
      "C:\\ProgramData\\Anaconda3\\lib\\site-packages\\seaborn\\categorical.py:3710: UserWarning: The `size` parameter has been renamed to `height`; please update your code.\n",
      "  warnings.warn(msg, UserWarning)\n"
     ]
    },
    {
     "data": {
      "image/png": "[encoded data removed]",
      "text/plain": [
       "<Figure size 432x432 with 1 Axes>"
      ]
     },
     "metadata": {},
     "output_type": "display_data"
    }
   ],
   "source": [
    "# Explore SibSp feature vs Survived\n",
    "g = sns.factorplot(x=\"DISEASE_DSP_IDEX\",y=\"DSP_CNT_IDEX\",data=df,kind=\"bar\", size = 6 , \n",
    "palette = \"muted\")\n",
    "g.despine(left=True)\n",
    "g = g.set_ylabels(\"DSP_DNT_IDEX\")"
   ]
  },
  {
   "cell_type": "code",
   "execution_count": 78,
   "metadata": {},
   "outputs": [
    {
     "name": "stderr",
     "output_type": "stream",
     "text": [
      "C:\\ProgramData\\Anaconda3\\lib\\site-packages\\seaborn\\distributions.py:2551: FutureWarning: `distplot` is a deprecated function and will be removed in a future version. Please adapt your code to use either `displot` (a figure-level function with similar flexibility) or `histplot` (an axes-level function for histograms).\n",
      "  warnings.warn(msg, FutureWarning)\n",
      "C:\\ProgramData\\Anaconda3\\lib\\site-packages\\seaborn\\distributions.py:2551: FutureWarning: `distplot` is a deprecated function and will be removed in a future version. Please adapt your code to use either `displot` (a figure-level function with similar flexibility) or `histplot` (an axes-level function for histograms).\n",
      "  warnings.warn(msg, FutureWarning)\n",
      "C:\\ProgramData\\Anaconda3\\lib\\site-packages\\seaborn\\distributions.py:2551: FutureWarning: `distplot` is a deprecated function and will be removed in a future version. Please adapt your code to use either `displot` (a figure-level function with similar flexibility) or `histplot` (an axes-level function for histograms).\n",
      "  warnings.warn(msg, FutureWarning)\n",
      "C:\\ProgramData\\Anaconda3\\lib\\site-packages\\seaborn\\distributions.py:2551: FutureWarning: `distplot` is a deprecated function and will be removed in a future version. Please adapt your code to use either `displot` (a figure-level function with similar flexibility) or `histplot` (an axes-level function for histograms).\n",
      "  warnings.warn(msg, FutureWarning)\n",
      "C:\\ProgramData\\Anaconda3\\lib\\site-packages\\seaborn\\distributions.py:2551: FutureWarning: `distplot` is a deprecated function and will be removed in a future version. Please adapt your code to use either `displot` (a figure-level function with similar flexibility) or `histplot` (an axes-level function for histograms).\n",
      "  warnings.warn(msg, FutureWarning)\n",
      "C:\\ProgramData\\Anaconda3\\lib\\site-packages\\seaborn\\distributions.py:2551: FutureWarning: `distplot` is a deprecated function and will be removed in a future version. Please adapt your code to use either `displot` (a figure-level function with similar flexibility) or `histplot` (an axes-level function for histograms).\n",
      "  warnings.warn(msg, FutureWarning)\n",
      "C:\\ProgramData\\Anaconda3\\lib\\site-packages\\seaborn\\distributions.py:2551: FutureWarning: `distplot` is a deprecated function and will be removed in a future version. Please adapt your code to use either `displot` (a figure-level function with similar flexibility) or `histplot` (an axes-level function for histograms).\n",
      "  warnings.warn(msg, FutureWarning)\n"
     ]
    },
    {
     "data": {
      "image/png": "[encoded data removed]",
      "text/plain": [
       "<Figure size 1512x216 with 7 Axes>"
      ]
     },
     "metadata": {},
     "output_type": "display_data"
    }
   ],
   "source": [
    "# Explore Age vs Survived\n",
    "g = sns.FacetGrid(df, col='WEEKDAY')\n",
    "g = g.map(sns.distplot, \"DSP_CNT_IDEX\")"
   ]
  },
  {
   "cell_type": "code",
   "execution_count": null,
   "metadata": {},
   "outputs": [],
   "source": []
  }
 ],
 "metadata": {
  "kernelspec": {
   "display_name": "Python 3",
   "language": "python",
   "name": "python3"
  },
  "language_info": {
   "codemirror_mode": {
    "name": "ipython",
    "version": 3
   },
   "file_extension": ".py",
   "mimetype": "text/x-python",
   "name": "python",
   "nbconvert_exporter": "python",
   "pygments_lexer": "ipython3",
   "version": "3.8.5"
  }
 },
 "nbformat": 4,
 "nbformat_minor": 4
}
