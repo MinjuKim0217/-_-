{
  "nbformat": 4,
  "nbformat_minor": 0,
  "metadata": {
    "colab": {
      "name": "소방 예측 데이터 분석.ipynb",
      "provenance": [],
      "authorship_tag": "ABX9TyPEFAKCOoAS/kfN7Qk85pCw",
      "include_colab_link": true
    },
    "kernelspec": {
      "name": "python3",
      "display_name": "Python 3"
    },
    "language_info": {
      "name": "python"
    }
  },
  "cells": [
    {
      "cell_type": "markdown",
      "metadata": {
        "id": "view-in-github",
        "colab_type": "text"
      },
      "source": [
        "<a href=\"https://colab.research.google.com/github/MinjuKim0217/Data_Analysis/blob/main/%EC%86%8C%EB%B0%A9_%EC%98%88%EC%B8%A1_%EB%8D%B0%EC%9D%B4%ED%84%B0_%EB%B6%84%EC%84%9D.ipynb\" target=\"_parent\"><img src=\"https://colab.research.google.com/assets/colab-badge.svg\" alt=\"Open In Colab\"/></a>"
      ]
    },
    {
      "cell_type": "code",
      "metadata": {
        "colab": {
          "base_uri": "https://localhost:8080/"
        },
        "id": "x7IVfmg7h98Y",
        "outputId": "c734a3a2-1e17-4c2f-c07a-8df12e02fd21"
      },
      "source": [
        "from google.colab import drive\n",
        "drive.mount('/content/drive')"
      ],
      "execution_count": 1,
      "outputs": [
        {
          "output_type": "stream",
          "name": "stdout",
          "text": [
            "Mounted at /content/drive\n"
          ]
        }
      ]
    },
    {
      "cell_type": "code",
      "metadata": {
        "id": "12BRYS2MiBxx"
      },
      "source": [
        "#경고 무시 명령\n",
        "import warnings\n",
        "warnings.filterwarnings('ignore')"
      ],
      "execution_count": 2,
      "outputs": []
    },
    {
      "cell_type": "code",
      "metadata": {
        "id": "EyTuFIgciKwO"
      },
      "source": [
        "#numpy/pandas 지수 표기 옵션\n",
        "import pandas as pd\n",
        "import numpy as np\n",
        "\n",
        "pd.options.display.float_format = '{:.5f}'.format\n",
        "np.set_printoptions(precision=6, suppress=True)\n"
      ],
      "execution_count": 3,
      "outputs": []
    },
    {
      "cell_type": "markdown",
      "metadata": {
        "id": "TEoW7MAIig2f"
      },
      "source": [
        "# 데이터 로드\n"
      ]
    },
    {
      "cell_type": "code",
      "metadata": {
        "colab": {
          "base_uri": "https://localhost:8080/",
          "height": 443
        },
        "id": "WCrdSou2iPZH",
        "outputId": "67351084-f2b7-4a48-b4c0-e942ef306e0f"
      },
      "source": [
        "import pandas as pd\n",
        "\n",
        "df = pd.read_csv(\"/content/drive/MyDrive/Colab Notebooks/02.격자단위_구급출동_dataset.csv\")\n",
        "df"
      ],
      "execution_count": 4,
      "outputs": [
        {
          "output_type": "execute_result",
          "data": {
            "text/html": [
              "<div>\n",
              "<style scoped>\n",
              "    .dataframe tbody tr th:only-of-type {\n",
              "        vertical-align: middle;\n",
              "    }\n",
              "\n",
              "    .dataframe tbody tr th {\n",
              "        vertical-align: top;\n",
              "    }\n",
              "\n",
              "    .dataframe thead th {\n",
              "        text-align: right;\n",
              "    }\n",
              "</style>\n",
              "<table border=\"1\" class=\"dataframe\">\n",
              "  <thead>\n",
              "    <tr style=\"text-align: right;\">\n",
              "      <th></th>\n",
              "      <th>GRID_ID</th>\n",
              "      <th>GRID_X_AXIS</th>\n",
              "      <th>GRID_Y_AXIS</th>\n",
              "      <th>TIME</th>\n",
              "      <th>YMD</th>\n",
              "      <th>STDG_CD</th>\n",
              "      <th>FP_IDEX</th>\n",
              "      <th>OLD_FP_IDEX</th>\n",
              "      <th>RELIFPLC_DWL_IDEX</th>\n",
              "      <th>RELIFPLC_ROAD_IDEX</th>\n",
              "      <th>RELIFPLC_INDUST_IDEX</th>\n",
              "      <th>RELIFPLC_NTR_IDEX</th>\n",
              "      <th>RELIFPLC_ETC_IDEX</th>\n",
              "      <th>DSP_CNT_IDEX</th>\n",
              "      <th>DISEASE_DSP_IDEX</th>\n",
              "      <th>DISEASE_EXCL_DSP_IDEX</th>\n",
              "    </tr>\n",
              "  </thead>\n",
              "  <tbody>\n",
              "    <tr>\n",
              "      <th>0</th>\n",
              "      <td>38045314</td>\n",
              "      <td>380475</td>\n",
              "      <td>531475</td>\n",
              "      <td>0</td>\n",
              "      <td>20200101</td>\n",
              "      <td>4213000000</td>\n",
              "      <td>2.88000</td>\n",
              "      <td>0.72000</td>\n",
              "      <td>0</td>\n",
              "      <td>0</td>\n",
              "      <td>0</td>\n",
              "      <td>0</td>\n",
              "      <td>0</td>\n",
              "      <td>0</td>\n",
              "      <td>0</td>\n",
              "      <td>0</td>\n",
              "    </tr>\n",
              "    <tr>\n",
              "      <th>1</th>\n",
              "      <td>38045324</td>\n",
              "      <td>380475</td>\n",
              "      <td>532475</td>\n",
              "      <td>0</td>\n",
              "      <td>20200101</td>\n",
              "      <td>4213000000</td>\n",
              "      <td>9.36000</td>\n",
              "      <td>1.44000</td>\n",
              "      <td>0</td>\n",
              "      <td>0</td>\n",
              "      <td>0</td>\n",
              "      <td>0</td>\n",
              "      <td>0</td>\n",
              "      <td>0</td>\n",
              "      <td>0</td>\n",
              "      <td>0</td>\n",
              "    </tr>\n",
              "    <tr>\n",
              "      <th>2</th>\n",
              "      <td>38145354</td>\n",
              "      <td>381475</td>\n",
              "      <td>535475</td>\n",
              "      <td>0</td>\n",
              "      <td>20200101</td>\n",
              "      <td>4213000000</td>\n",
              "      <td>3.93000</td>\n",
              "      <td>0.15000</td>\n",
              "      <td>0</td>\n",
              "      <td>0</td>\n",
              "      <td>0</td>\n",
              "      <td>0</td>\n",
              "      <td>0</td>\n",
              "      <td>0</td>\n",
              "      <td>0</td>\n",
              "      <td>0</td>\n",
              "    </tr>\n",
              "    <tr>\n",
              "      <th>3</th>\n",
              "      <td>38245184</td>\n",
              "      <td>382475</td>\n",
              "      <td>518475</td>\n",
              "      <td>0</td>\n",
              "      <td>20200101</td>\n",
              "      <td>4213000000</td>\n",
              "      <td>2.69000</td>\n",
              "      <td>0.16000</td>\n",
              "      <td>0</td>\n",
              "      <td>0</td>\n",
              "      <td>0</td>\n",
              "      <td>0</td>\n",
              "      <td>0</td>\n",
              "      <td>0</td>\n",
              "      <td>0</td>\n",
              "      <td>0</td>\n",
              "    </tr>\n",
              "    <tr>\n",
              "      <th>4</th>\n",
              "      <td>38245194</td>\n",
              "      <td>382475</td>\n",
              "      <td>519475</td>\n",
              "      <td>0</td>\n",
              "      <td>20200101</td>\n",
              "      <td>4213000000</td>\n",
              "      <td>2.35000</td>\n",
              "      <td>0.14000</td>\n",
              "      <td>0</td>\n",
              "      <td>0</td>\n",
              "      <td>0</td>\n",
              "      <td>0</td>\n",
              "      <td>0</td>\n",
              "      <td>0</td>\n",
              "      <td>0</td>\n",
              "      <td>0</td>\n",
              "    </tr>\n",
              "    <tr>\n",
              "      <th>...</th>\n",
              "      <td>...</td>\n",
              "      <td>...</td>\n",
              "      <td>...</td>\n",
              "      <td>...</td>\n",
              "      <td>...</td>\n",
              "      <td>...</td>\n",
              "      <td>...</td>\n",
              "      <td>...</td>\n",
              "      <td>...</td>\n",
              "      <td>...</td>\n",
              "      <td>...</td>\n",
              "      <td>...</td>\n",
              "      <td>...</td>\n",
              "      <td>...</td>\n",
              "      <td>...</td>\n",
              "      <td>...</td>\n",
              "    </tr>\n",
              "    <tr>\n",
              "      <th>1769073</th>\n",
              "      <td>40245274</td>\n",
              "      <td>402475</td>\n",
              "      <td>527475</td>\n",
              "      <td>23</td>\n",
              "      <td>20201230</td>\n",
              "      <td>4213000000</td>\n",
              "      <td>25.48000</td>\n",
              "      <td>1.04000</td>\n",
              "      <td>0</td>\n",
              "      <td>0</td>\n",
              "      <td>0</td>\n",
              "      <td>0</td>\n",
              "      <td>0</td>\n",
              "      <td>0</td>\n",
              "      <td>0</td>\n",
              "      <td>0</td>\n",
              "    </tr>\n",
              "    <tr>\n",
              "      <th>1769074</th>\n",
              "      <td>40545364</td>\n",
              "      <td>405475</td>\n",
              "      <td>536475</td>\n",
              "      <td>23</td>\n",
              "      <td>20201230</td>\n",
              "      <td>4213000000</td>\n",
              "      <td>1.21000</td>\n",
              "      <td>0.32000</td>\n",
              "      <td>0</td>\n",
              "      <td>0</td>\n",
              "      <td>0</td>\n",
              "      <td>0</td>\n",
              "      <td>0</td>\n",
              "      <td>0</td>\n",
              "      <td>0</td>\n",
              "      <td>0</td>\n",
              "    </tr>\n",
              "    <tr>\n",
              "      <th>1769075</th>\n",
              "      <td>40645144</td>\n",
              "      <td>406475</td>\n",
              "      <td>514475</td>\n",
              "      <td>23</td>\n",
              "      <td>20201230</td>\n",
              "      <td>4213000000</td>\n",
              "      <td>1.28000</td>\n",
              "      <td>0.30000</td>\n",
              "      <td>0</td>\n",
              "      <td>0</td>\n",
              "      <td>0</td>\n",
              "      <td>0</td>\n",
              "      <td>0</td>\n",
              "      <td>0</td>\n",
              "      <td>0</td>\n",
              "      <td>0</td>\n",
              "    </tr>\n",
              "    <tr>\n",
              "      <th>1769076</th>\n",
              "      <td>40745144</td>\n",
              "      <td>407475</td>\n",
              "      <td>514475</td>\n",
              "      <td>23</td>\n",
              "      <td>20201230</td>\n",
              "      <td>4213000000</td>\n",
              "      <td>6.17000</td>\n",
              "      <td>1.47000</td>\n",
              "      <td>0</td>\n",
              "      <td>0</td>\n",
              "      <td>0</td>\n",
              "      <td>0</td>\n",
              "      <td>0</td>\n",
              "      <td>0</td>\n",
              "      <td>0</td>\n",
              "      <td>0</td>\n",
              "    </tr>\n",
              "    <tr>\n",
              "      <th>1769077</th>\n",
              "      <td>40845154</td>\n",
              "      <td>408475</td>\n",
              "      <td>515475</td>\n",
              "      <td>23</td>\n",
              "      <td>20201230</td>\n",
              "      <td>4213000000</td>\n",
              "      <td>1.04000</td>\n",
              "      <td>0.22000</td>\n",
              "      <td>0</td>\n",
              "      <td>0</td>\n",
              "      <td>0</td>\n",
              "      <td>0</td>\n",
              "      <td>0</td>\n",
              "      <td>0</td>\n",
              "      <td>0</td>\n",
              "      <td>0</td>\n",
              "    </tr>\n",
              "  </tbody>\n",
              "</table>\n",
              "<p>1769078 rows × 16 columns</p>\n",
              "</div>"
            ],
            "text/plain": [
              "          GRID_ID  GRID_X_AXIS  ...  DISEASE_DSP_IDEX  DISEASE_EXCL_DSP_IDEX\n",
              "0        38045314       380475  ...                 0                      0\n",
              "1        38045324       380475  ...                 0                      0\n",
              "2        38145354       381475  ...                 0                      0\n",
              "3        38245184       382475  ...                 0                      0\n",
              "4        38245194       382475  ...                 0                      0\n",
              "...           ...          ...  ...               ...                    ...\n",
              "1769073  40245274       402475  ...                 0                      0\n",
              "1769074  40545364       405475  ...                 0                      0\n",
              "1769075  40645144       406475  ...                 0                      0\n",
              "1769076  40745144       407475  ...                 0                      0\n",
              "1769077  40845154       408475  ...                 0                      0\n",
              "\n",
              "[1769078 rows x 16 columns]"
            ]
          },
          "metadata": {},
          "execution_count": 4
        }
      ]
    },
    {
      "cell_type": "code",
      "metadata": {
        "colab": {
          "base_uri": "https://localhost:8080/"
        },
        "id": "QJJI7LX4ikCM",
        "outputId": "456dbb07-31f5-462b-9c90-957e253f1020"
      },
      "source": [
        "# 데이터프레임 info 함수\n",
        "df.info()"
      ],
      "execution_count": 5,
      "outputs": [
        {
          "output_type": "stream",
          "name": "stdout",
          "text": [
            "<class 'pandas.core.frame.DataFrame'>\n",
            "RangeIndex: 1769078 entries, 0 to 1769077\n",
            "Data columns (total 16 columns):\n",
            " #   Column                 Dtype  \n",
            "---  ------                 -----  \n",
            " 0   GRID_ID                int64  \n",
            " 1   GRID_X_AXIS            int64  \n",
            " 2   GRID_Y_AXIS            int64  \n",
            " 3   TIME                   int64  \n",
            " 4   YMD                    int64  \n",
            " 5   STDG_CD                int64  \n",
            " 6   FP_IDEX                float64\n",
            " 7   OLD_FP_IDEX            float64\n",
            " 8   RELIFPLC_DWL_IDEX      int64  \n",
            " 9   RELIFPLC_ROAD_IDEX     int64  \n",
            " 10  RELIFPLC_INDUST_IDEX   int64  \n",
            " 11  RELIFPLC_NTR_IDEX      int64  \n",
            " 12  RELIFPLC_ETC_IDEX      int64  \n",
            " 13  DSP_CNT_IDEX           int64  \n",
            " 14  DISEASE_DSP_IDEX       int64  \n",
            " 15  DISEASE_EXCL_DSP_IDEX  int64  \n",
            "dtypes: float64(2), int64(14)\n",
            "memory usage: 216.0 MB\n"
          ]
        }
      ]
    },
    {
      "cell_type": "code",
      "metadata": {
        "colab": {
          "base_uri": "https://localhost:8080/"
        },
        "id": "zkRBu3z8kkOj",
        "outputId": "7b7ea875-c80a-43a0-e617-418f890d055b"
      },
      "source": [
        "df[\"YMD\"]"
      ],
      "execution_count": 6,
      "outputs": [
        {
          "output_type": "execute_result",
          "data": {
            "text/plain": [
              "0          20200101\n",
              "1          20200101\n",
              "2          20200101\n",
              "3          20200101\n",
              "4          20200101\n",
              "             ...   \n",
              "1769073    20201230\n",
              "1769074    20201230\n",
              "1769075    20201230\n",
              "1769076    20201230\n",
              "1769077    20201230\n",
              "Name: YMD, Length: 1769078, dtype: int64"
            ]
          },
          "metadata": {},
          "execution_count": 6
        }
      ]
    },
    {
      "cell_type": "markdown",
      "metadata": {
        "id": "sBLPq8nYknxs"
      },
      "source": [
        "### MONTH / DAY / WEEKDAY 컬럼 추가 "
      ]
    },
    {
      "cell_type": "code",
      "metadata": {
        "colab": {
          "base_uri": "https://localhost:8080/",
          "height": 443
        },
        "id": "C6ID1mCOkl4M",
        "outputId": "020cd815-f2ae-431c-cd95-cfc7bf484add"
      },
      "source": [
        "import datetime\n",
        "\n",
        "# 요일 0 ~ 6 정수값 return (월요일 ~ 일요일)\n",
        "def get_weekday(ymd):\n",
        "    yyyy = int(ymd/10000)\n",
        "    mm = int(ymd%10000/100)    \n",
        "    dd = int(ymd%10000%100)  \n",
        "    return datetime.date(yyyy,mm,dd).weekday()\n",
        "\n",
        "## apply 함수\n",
        "df[\"MONTH\"] = df[\"YMD\"].apply(lambda x : int(x%10000/100) )\n",
        "df[\"DAY\"] = df[\"YMD\"].apply(lambda x : int(x%10000%100) )\n",
        "df[\"WEEKDAY\"] = df[\"YMD\"].apply(get_weekday)\n",
        "\n",
        "df"
      ],
      "execution_count": 19,
      "outputs": [
        {
          "output_type": "execute_result",
          "data": {
            "text/html": [
              "<div>\n",
              "<style scoped>\n",
              "    .dataframe tbody tr th:only-of-type {\n",
              "        vertical-align: middle;\n",
              "    }\n",
              "\n",
              "    .dataframe tbody tr th {\n",
              "        vertical-align: top;\n",
              "    }\n",
              "\n",
              "    .dataframe thead th {\n",
              "        text-align: right;\n",
              "    }\n",
              "</style>\n",
              "<table border=\"1\" class=\"dataframe\">\n",
              "  <thead>\n",
              "    <tr style=\"text-align: right;\">\n",
              "      <th></th>\n",
              "      <th>GRID_ID</th>\n",
              "      <th>GRID_X_AXIS</th>\n",
              "      <th>GRID_Y_AXIS</th>\n",
              "      <th>TIME</th>\n",
              "      <th>YMD</th>\n",
              "      <th>STDG_CD</th>\n",
              "      <th>FP_IDEX</th>\n",
              "      <th>OLD_FP_IDEX</th>\n",
              "      <th>RELIFPLC_DWL_IDEX</th>\n",
              "      <th>RELIFPLC_ROAD_IDEX</th>\n",
              "      <th>RELIFPLC_INDUST_IDEX</th>\n",
              "      <th>RELIFPLC_NTR_IDEX</th>\n",
              "      <th>RELIFPLC_ETC_IDEX</th>\n",
              "      <th>DSP_CNT_IDEX</th>\n",
              "      <th>DISEASE_DSP_IDEX</th>\n",
              "      <th>DISEASE_EXCL_DSP_IDEX</th>\n",
              "      <th>MONTH</th>\n",
              "      <th>DAY</th>\n",
              "      <th>WEEKDAY</th>\n",
              "    </tr>\n",
              "  </thead>\n",
              "  <tbody>\n",
              "    <tr>\n",
              "      <th>0</th>\n",
              "      <td>38045314</td>\n",
              "      <td>380475</td>\n",
              "      <td>531475</td>\n",
              "      <td>0</td>\n",
              "      <td>20200101</td>\n",
              "      <td>4213000000</td>\n",
              "      <td>2.88000</td>\n",
              "      <td>0.72000</td>\n",
              "      <td>0</td>\n",
              "      <td>0</td>\n",
              "      <td>0</td>\n",
              "      <td>0</td>\n",
              "      <td>0</td>\n",
              "      <td>0</td>\n",
              "      <td>0</td>\n",
              "      <td>0</td>\n",
              "      <td>1</td>\n",
              "      <td>1</td>\n",
              "      <td>2</td>\n",
              "    </tr>\n",
              "    <tr>\n",
              "      <th>1</th>\n",
              "      <td>38045324</td>\n",
              "      <td>380475</td>\n",
              "      <td>532475</td>\n",
              "      <td>0</td>\n",
              "      <td>20200101</td>\n",
              "      <td>4213000000</td>\n",
              "      <td>9.36000</td>\n",
              "      <td>1.44000</td>\n",
              "      <td>0</td>\n",
              "      <td>0</td>\n",
              "      <td>0</td>\n",
              "      <td>0</td>\n",
              "      <td>0</td>\n",
              "      <td>0</td>\n",
              "      <td>0</td>\n",
              "      <td>0</td>\n",
              "      <td>1</td>\n",
              "      <td>1</td>\n",
              "      <td>2</td>\n",
              "    </tr>\n",
              "    <tr>\n",
              "      <th>2</th>\n",
              "      <td>38145354</td>\n",
              "      <td>381475</td>\n",
              "      <td>535475</td>\n",
              "      <td>0</td>\n",
              "      <td>20200101</td>\n",
              "      <td>4213000000</td>\n",
              "      <td>3.93000</td>\n",
              "      <td>0.15000</td>\n",
              "      <td>0</td>\n",
              "      <td>0</td>\n",
              "      <td>0</td>\n",
              "      <td>0</td>\n",
              "      <td>0</td>\n",
              "      <td>0</td>\n",
              "      <td>0</td>\n",
              "      <td>0</td>\n",
              "      <td>1</td>\n",
              "      <td>1</td>\n",
              "      <td>2</td>\n",
              "    </tr>\n",
              "    <tr>\n",
              "      <th>3</th>\n",
              "      <td>38245184</td>\n",
              "      <td>382475</td>\n",
              "      <td>518475</td>\n",
              "      <td>0</td>\n",
              "      <td>20200101</td>\n",
              "      <td>4213000000</td>\n",
              "      <td>2.69000</td>\n",
              "      <td>0.16000</td>\n",
              "      <td>0</td>\n",
              "      <td>0</td>\n",
              "      <td>0</td>\n",
              "      <td>0</td>\n",
              "      <td>0</td>\n",
              "      <td>0</td>\n",
              "      <td>0</td>\n",
              "      <td>0</td>\n",
              "      <td>1</td>\n",
              "      <td>1</td>\n",
              "      <td>2</td>\n",
              "    </tr>\n",
              "    <tr>\n",
              "      <th>4</th>\n",
              "      <td>38245194</td>\n",
              "      <td>382475</td>\n",
              "      <td>519475</td>\n",
              "      <td>0</td>\n",
              "      <td>20200101</td>\n",
              "      <td>4213000000</td>\n",
              "      <td>2.35000</td>\n",
              "      <td>0.14000</td>\n",
              "      <td>0</td>\n",
              "      <td>0</td>\n",
              "      <td>0</td>\n",
              "      <td>0</td>\n",
              "      <td>0</td>\n",
              "      <td>0</td>\n",
              "      <td>0</td>\n",
              "      <td>0</td>\n",
              "      <td>1</td>\n",
              "      <td>1</td>\n",
              "      <td>2</td>\n",
              "    </tr>\n",
              "    <tr>\n",
              "      <th>...</th>\n",
              "      <td>...</td>\n",
              "      <td>...</td>\n",
              "      <td>...</td>\n",
              "      <td>...</td>\n",
              "      <td>...</td>\n",
              "      <td>...</td>\n",
              "      <td>...</td>\n",
              "      <td>...</td>\n",
              "      <td>...</td>\n",
              "      <td>...</td>\n",
              "      <td>...</td>\n",
              "      <td>...</td>\n",
              "      <td>...</td>\n",
              "      <td>...</td>\n",
              "      <td>...</td>\n",
              "      <td>...</td>\n",
              "      <td>...</td>\n",
              "      <td>...</td>\n",
              "      <td>...</td>\n",
              "    </tr>\n",
              "    <tr>\n",
              "      <th>1769073</th>\n",
              "      <td>40245274</td>\n",
              "      <td>402475</td>\n",
              "      <td>527475</td>\n",
              "      <td>23</td>\n",
              "      <td>20201230</td>\n",
              "      <td>4213000000</td>\n",
              "      <td>25.48000</td>\n",
              "      <td>1.04000</td>\n",
              "      <td>0</td>\n",
              "      <td>0</td>\n",
              "      <td>0</td>\n",
              "      <td>0</td>\n",
              "      <td>0</td>\n",
              "      <td>0</td>\n",
              "      <td>0</td>\n",
              "      <td>0</td>\n",
              "      <td>12</td>\n",
              "      <td>30</td>\n",
              "      <td>2</td>\n",
              "    </tr>\n",
              "    <tr>\n",
              "      <th>1769074</th>\n",
              "      <td>40545364</td>\n",
              "      <td>405475</td>\n",
              "      <td>536475</td>\n",
              "      <td>23</td>\n",
              "      <td>20201230</td>\n",
              "      <td>4213000000</td>\n",
              "      <td>1.21000</td>\n",
              "      <td>0.32000</td>\n",
              "      <td>0</td>\n",
              "      <td>0</td>\n",
              "      <td>0</td>\n",
              "      <td>0</td>\n",
              "      <td>0</td>\n",
              "      <td>0</td>\n",
              "      <td>0</td>\n",
              "      <td>0</td>\n",
              "      <td>12</td>\n",
              "      <td>30</td>\n",
              "      <td>2</td>\n",
              "    </tr>\n",
              "    <tr>\n",
              "      <th>1769075</th>\n",
              "      <td>40645144</td>\n",
              "      <td>406475</td>\n",
              "      <td>514475</td>\n",
              "      <td>23</td>\n",
              "      <td>20201230</td>\n",
              "      <td>4213000000</td>\n",
              "      <td>1.28000</td>\n",
              "      <td>0.30000</td>\n",
              "      <td>0</td>\n",
              "      <td>0</td>\n",
              "      <td>0</td>\n",
              "      <td>0</td>\n",
              "      <td>0</td>\n",
              "      <td>0</td>\n",
              "      <td>0</td>\n",
              "      <td>0</td>\n",
              "      <td>12</td>\n",
              "      <td>30</td>\n",
              "      <td>2</td>\n",
              "    </tr>\n",
              "    <tr>\n",
              "      <th>1769076</th>\n",
              "      <td>40745144</td>\n",
              "      <td>407475</td>\n",
              "      <td>514475</td>\n",
              "      <td>23</td>\n",
              "      <td>20201230</td>\n",
              "      <td>4213000000</td>\n",
              "      <td>6.17000</td>\n",
              "      <td>1.47000</td>\n",
              "      <td>0</td>\n",
              "      <td>0</td>\n",
              "      <td>0</td>\n",
              "      <td>0</td>\n",
              "      <td>0</td>\n",
              "      <td>0</td>\n",
              "      <td>0</td>\n",
              "      <td>0</td>\n",
              "      <td>12</td>\n",
              "      <td>30</td>\n",
              "      <td>2</td>\n",
              "    </tr>\n",
              "    <tr>\n",
              "      <th>1769077</th>\n",
              "      <td>40845154</td>\n",
              "      <td>408475</td>\n",
              "      <td>515475</td>\n",
              "      <td>23</td>\n",
              "      <td>20201230</td>\n",
              "      <td>4213000000</td>\n",
              "      <td>1.04000</td>\n",
              "      <td>0.22000</td>\n",
              "      <td>0</td>\n",
              "      <td>0</td>\n",
              "      <td>0</td>\n",
              "      <td>0</td>\n",
              "      <td>0</td>\n",
              "      <td>0</td>\n",
              "      <td>0</td>\n",
              "      <td>0</td>\n",
              "      <td>12</td>\n",
              "      <td>30</td>\n",
              "      <td>2</td>\n",
              "    </tr>\n",
              "  </tbody>\n",
              "</table>\n",
              "<p>1769078 rows × 19 columns</p>\n",
              "</div>"
            ],
            "text/plain": [
              "          GRID_ID  GRID_X_AXIS  GRID_Y_AXIS  ...  MONTH  DAY  WEEKDAY\n",
              "0        38045314       380475       531475  ...      1    1        2\n",
              "1        38045324       380475       532475  ...      1    1        2\n",
              "2        38145354       381475       535475  ...      1    1        2\n",
              "3        38245184       382475       518475  ...      1    1        2\n",
              "4        38245194       382475       519475  ...      1    1        2\n",
              "...           ...          ...          ...  ...    ...  ...      ...\n",
              "1769073  40245274       402475       527475  ...     12   30        2\n",
              "1769074  40545364       405475       536475  ...     12   30        2\n",
              "1769075  40645144       406475       514475  ...     12   30        2\n",
              "1769076  40745144       407475       514475  ...     12   30        2\n",
              "1769077  40845154       408475       515475  ...     12   30        2\n",
              "\n",
              "[1769078 rows x 19 columns]"
            ]
          },
          "metadata": {},
          "execution_count": 19
        }
      ]
    },
    {
      "cell_type": "markdown",
      "metadata": {
        "id": "5HXGxzw5kysp"
      },
      "source": [
        "# 출동 빈도 지수 EDA"
      ]
    },
    {
      "cell_type": "code",
      "metadata": {
        "colab": {
          "base_uri": "https://localhost:8080/"
        },
        "id": "jVje_zfpk0sV",
        "outputId": "a526e228-14d8-4ae0-ad13-e92e5d0675b8"
      },
      "source": [
        "# 출동빈도 지수\n",
        "df[\"DSP_CNT_IDEX\"].describe()"
      ],
      "execution_count": 8,
      "outputs": [
        {
          "output_type": "execute_result",
          "data": {
            "text/plain": [
              "count   1769078.00000\n",
              "mean          0.00931\n",
              "std           0.10728\n",
              "min           0.00000\n",
              "25%           0.00000\n",
              "50%           0.00000\n",
              "75%           0.00000\n",
              "max          14.00000\n",
              "Name: DSP_CNT_IDEX, dtype: float64"
            ]
          },
          "metadata": {},
          "execution_count": 8
        }
      ]
    },
    {
      "cell_type": "code",
      "metadata": {
        "colab": {
          "base_uri": "https://localhost:8080/"
        },
        "id": "k1MvwAMWlM5c",
        "outputId": "1b8448b4-cb11-4ecb-fbec-2e07292269c6"
      },
      "source": [
        "# 질병출동 지수\n",
        "df[\"DISEASE_DSP_IDEX\"].describe()"
      ],
      "execution_count": 10,
      "outputs": [
        {
          "output_type": "execute_result",
          "data": {
            "text/plain": [
              "count   1769078.00000\n",
              "mean          0.00408\n",
              "std           0.06489\n",
              "min           0.00000\n",
              "25%           0.00000\n",
              "50%           0.00000\n",
              "75%           0.00000\n",
              "max           7.00000\n",
              "Name: DISEASE_DSP_IDEX, dtype: float64"
            ]
          },
          "metadata": {},
          "execution_count": 10
        }
      ]
    },
    {
      "cell_type": "code",
      "metadata": {
        "colab": {
          "base_uri": "https://localhost:8080/"
        },
        "id": "E5toiqVblVSe",
        "outputId": "9a7f475f-410e-4d7d-f447-d41afb48632a"
      },
      "source": [
        "# 질병외 출동 지수\n",
        "df[\"DISEASE_EXCL_DSP_IDEX\"].describe()"
      ],
      "execution_count": 11,
      "outputs": [
        {
          "output_type": "execute_result",
          "data": {
            "text/plain": [
              "count   1769078.00000\n",
              "mean          0.00523\n",
              "std           0.08126\n",
              "min           0.00000\n",
              "25%           0.00000\n",
              "50%           0.00000\n",
              "75%           0.00000\n",
              "max          11.00000\n",
              "Name: DISEASE_EXCL_DSP_IDEX, dtype: float64"
            ]
          },
          "metadata": {},
          "execution_count": 11
        }
      ]
    },
    {
      "cell_type": "markdown",
      "metadata": {
        "id": "aiQbv8mWlhZM"
      },
      "source": [
        "## 1) 격자별 출동 빈도 지수 비교"
      ]
    },
    {
      "cell_type": "code",
      "metadata": {
        "colab": {
          "base_uri": "https://localhost:8080/",
          "height": 455
        },
        "id": "XyR7XaSSld4h",
        "outputId": "f5bb3972-c34a-4186-b571-504501eefa63"
      },
      "source": [
        "import numpy as np\n",
        "\n",
        "# 격자 ID 기준으로 DSP_CNT_IDEX 값을 SUM 기준으로 데이터 변환\n",
        "rect_table = pd.pivot_table(df, values= \"DSP_CNT_IDEX\" , index=['GRID_ID'], aggfunc=np.sum)\n",
        "\n",
        "rect_table[\"GRID_ID\"] = rect_table.index.values\n",
        "rect_table"
      ],
      "execution_count": 12,
      "outputs": [
        {
          "output_type": "execute_result",
          "data": {
            "text/html": [
              "<div>\n",
              "<style scoped>\n",
              "    .dataframe tbody tr th:only-of-type {\n",
              "        vertical-align: middle;\n",
              "    }\n",
              "\n",
              "    .dataframe tbody tr th {\n",
              "        vertical-align: top;\n",
              "    }\n",
              "\n",
              "    .dataframe thead th {\n",
              "        text-align: right;\n",
              "    }\n",
              "</style>\n",
              "<table border=\"1\" class=\"dataframe\">\n",
              "  <thead>\n",
              "    <tr style=\"text-align: right;\">\n",
              "      <th></th>\n",
              "      <th>DSP_CNT_IDEX</th>\n",
              "      <th>GRID_ID</th>\n",
              "    </tr>\n",
              "    <tr>\n",
              "      <th>GRID_ID</th>\n",
              "      <th></th>\n",
              "      <th></th>\n",
              "    </tr>\n",
              "  </thead>\n",
              "  <tbody>\n",
              "    <tr>\n",
              "      <th>37645864</th>\n",
              "      <td>1</td>\n",
              "      <td>37645864</td>\n",
              "    </tr>\n",
              "    <tr>\n",
              "      <th>37745114</th>\n",
              "      <td>23</td>\n",
              "      <td>37745114</td>\n",
              "    </tr>\n",
              "    <tr>\n",
              "      <th>37745124</th>\n",
              "      <td>8</td>\n",
              "      <td>37745124</td>\n",
              "    </tr>\n",
              "    <tr>\n",
              "      <th>37745144</th>\n",
              "      <td>4</td>\n",
              "      <td>37745144</td>\n",
              "    </tr>\n",
              "    <tr>\n",
              "      <th>37745154</th>\n",
              "      <td>13</td>\n",
              "      <td>37745154</td>\n",
              "    </tr>\n",
              "    <tr>\n",
              "      <th>...</th>\n",
              "      <td>...</td>\n",
              "      <td>...</td>\n",
              "    </tr>\n",
              "    <tr>\n",
              "      <th>44145094</th>\n",
              "      <td>1</td>\n",
              "      <td>44145094</td>\n",
              "    </tr>\n",
              "    <tr>\n",
              "      <th>44945564</th>\n",
              "      <td>1</td>\n",
              "      <td>44945564</td>\n",
              "    </tr>\n",
              "    <tr>\n",
              "      <th>45045614</th>\n",
              "      <td>1</td>\n",
              "      <td>45045614</td>\n",
              "    </tr>\n",
              "    <tr>\n",
              "      <th>48845074</th>\n",
              "      <td>1</td>\n",
              "      <td>48845074</td>\n",
              "    </tr>\n",
              "    <tr>\n",
              "      <th>49945514</th>\n",
              "      <td>1</td>\n",
              "      <td>49945514</td>\n",
              "    </tr>\n",
              "  </tbody>\n",
              "</table>\n",
              "<p>687 rows × 2 columns</p>\n",
              "</div>"
            ],
            "text/plain": [
              "          DSP_CNT_IDEX   GRID_ID\n",
              "GRID_ID                         \n",
              "37645864             1  37645864\n",
              "37745114            23  37745114\n",
              "37745124             8  37745124\n",
              "37745144             4  37745144\n",
              "37745154            13  37745154\n",
              "...                ...       ...\n",
              "44145094             1  44145094\n",
              "44945564             1  44945564\n",
              "45045614             1  45045614\n",
              "48845074             1  48845074\n",
              "49945514             1  49945514\n",
              "\n",
              "[687 rows x 2 columns]"
            ]
          },
          "metadata": {},
          "execution_count": 12
        }
      ]
    },
    {
      "cell_type": "code",
      "metadata": {
        "colab": {
          "base_uri": "https://localhost:8080/"
        },
        "id": "YiW0M_-Xll1_",
        "outputId": "b2b47371-2aed-4be5-85ce-33781fd13505"
      },
      "source": [
        "## 격자별 출동빈도 지수 테이블\n",
        "rect_table[\"DSP_CNT_IDEX\"].describe()"
      ],
      "execution_count": 13,
      "outputs": [
        {
          "output_type": "execute_result",
          "data": {
            "text/plain": [
              "count    687.00000\n",
              "mean      23.97962\n",
              "std       88.92559\n",
              "min        0.00000\n",
              "25%        1.00000\n",
              "50%        4.00000\n",
              "75%       11.00000\n",
              "max     1085.00000\n",
              "Name: DSP_CNT_IDEX, dtype: float64"
            ]
          },
          "metadata": {},
          "execution_count": 13
        }
      ]
    },
    {
      "cell_type": "code",
      "metadata": {
        "colab": {
          "base_uri": "https://localhost:8080/"
        },
        "id": "4YW7XaWrlsyg",
        "outputId": "d710e817-cb1f-4ccd-e0fc-863562de2461"
      },
      "source": [
        "# 1년간 500번 이상 출동된 격자 ID\n",
        "rect_table[\"DSP_CNT_IDEX\"][rect_table[\"DSP_CNT_IDEX\"] > 500]"
      ],
      "execution_count": 14,
      "outputs": [
        {
          "output_type": "execute_result",
          "data": {
            "text/plain": [
              "GRID_ID\n",
              "39445274     708\n",
              "39545254    1085\n",
              "39545274     961\n",
              "39645244     511\n",
              "39645264     608\n",
              "Name: DSP_CNT_IDEX, dtype: int64"
            ]
          },
          "metadata": {},
          "execution_count": 14
        }
      ]
    },
    {
      "cell_type": "code",
      "metadata": {
        "colab": {
          "base_uri": "https://localhost:8080/"
        },
        "id": "PcsuyJoulzSe",
        "outputId": "1079b887-4923-4a3b-83a2-e0bcfc868ebc"
      },
      "source": [
        "# 1년간 출동횟수가 0 인 격자 ID\n",
        "rect_table[\"DSP_CNT_IDEX\"][rect_table[\"DSP_CNT_IDEX\"] == 0]"
      ],
      "execution_count": 15,
      "outputs": [
        {
          "output_type": "execute_result",
          "data": {
            "text/plain": [
              "GRID_ID\n",
              "37845174    0\n",
              "37845184    0\n",
              "37845214    0\n",
              "37845264    0\n",
              "37845274    0\n",
              "           ..\n",
              "40845334    0\n",
              "40845344    0\n",
              "41445124    0\n",
              "41545154    0\n",
              "41745204    0\n",
              "Name: DSP_CNT_IDEX, Length: 92, dtype: int64"
            ]
          },
          "metadata": {},
          "execution_count": 15
        }
      ]
    },
    {
      "cell_type": "markdown",
      "metadata": {
        "id": "reWn6JpQl612"
      },
      "source": [
        "## 2) 시간대별 출동 빈도 지수 비교"
      ]
    },
    {
      "cell_type": "code",
      "metadata": {
        "colab": {
          "base_uri": "https://localhost:8080/",
          "height": 833
        },
        "id": "UoJZpRpYl006",
        "outputId": "10702a87-43dd-46c2-e91e-715a3c8ba711"
      },
      "source": [
        "import numpy as np\n",
        "\n",
        "# pivot_table 함수\n",
        "time_idex = pd.pivot_table(df, values= [\"DSP_CNT_IDEX\"] , index=['TIME'], aggfunc=np.mean)\n",
        "time_idex[\"HOUR\"] = time_idex.index.values\n",
        "time_idex"
      ],
      "execution_count": 16,
      "outputs": [
        {
          "output_type": "execute_result",
          "data": {
            "text/html": [
              "<div>\n",
              "<style scoped>\n",
              "    .dataframe tbody tr th:only-of-type {\n",
              "        vertical-align: middle;\n",
              "    }\n",
              "\n",
              "    .dataframe tbody tr th {\n",
              "        vertical-align: top;\n",
              "    }\n",
              "\n",
              "    .dataframe thead th {\n",
              "        text-align: right;\n",
              "    }\n",
              "</style>\n",
              "<table border=\"1\" class=\"dataframe\">\n",
              "  <thead>\n",
              "    <tr style=\"text-align: right;\">\n",
              "      <th></th>\n",
              "      <th>DSP_CNT_IDEX</th>\n",
              "      <th>HOUR</th>\n",
              "    </tr>\n",
              "    <tr>\n",
              "      <th>TIME</th>\n",
              "      <th></th>\n",
              "      <th></th>\n",
              "    </tr>\n",
              "  </thead>\n",
              "  <tbody>\n",
              "    <tr>\n",
              "      <th>0</th>\n",
              "      <td>0.01304</td>\n",
              "      <td>0</td>\n",
              "    </tr>\n",
              "    <tr>\n",
              "      <th>1</th>\n",
              "      <td>0.01118</td>\n",
              "      <td>1</td>\n",
              "    </tr>\n",
              "    <tr>\n",
              "      <th>2</th>\n",
              "      <td>0.00851</td>\n",
              "      <td>2</td>\n",
              "    </tr>\n",
              "    <tr>\n",
              "      <th>3</th>\n",
              "      <td>0.00807</td>\n",
              "      <td>3</td>\n",
              "    </tr>\n",
              "    <tr>\n",
              "      <th>4</th>\n",
              "      <td>0.00769</td>\n",
              "      <td>4</td>\n",
              "    </tr>\n",
              "    <tr>\n",
              "      <th>5</th>\n",
              "      <td>0.00776</td>\n",
              "      <td>5</td>\n",
              "    </tr>\n",
              "    <tr>\n",
              "      <th>6</th>\n",
              "      <td>0.00867</td>\n",
              "      <td>6</td>\n",
              "    </tr>\n",
              "    <tr>\n",
              "      <th>7</th>\n",
              "      <td>0.00914</td>\n",
              "      <td>7</td>\n",
              "    </tr>\n",
              "    <tr>\n",
              "      <th>8</th>\n",
              "      <td>0.01097</td>\n",
              "      <td>8</td>\n",
              "    </tr>\n",
              "    <tr>\n",
              "      <th>9</th>\n",
              "      <td>0.01048</td>\n",
              "      <td>9</td>\n",
              "    </tr>\n",
              "    <tr>\n",
              "      <th>10</th>\n",
              "      <td>0.01005</td>\n",
              "      <td>10</td>\n",
              "    </tr>\n",
              "    <tr>\n",
              "      <th>11</th>\n",
              "      <td>0.00886</td>\n",
              "      <td>11</td>\n",
              "    </tr>\n",
              "    <tr>\n",
              "      <th>12</th>\n",
              "      <td>0.00858</td>\n",
              "      <td>12</td>\n",
              "    </tr>\n",
              "    <tr>\n",
              "      <th>13</th>\n",
              "      <td>0.00923</td>\n",
              "      <td>13</td>\n",
              "    </tr>\n",
              "    <tr>\n",
              "      <th>14</th>\n",
              "      <td>0.00907</td>\n",
              "      <td>14</td>\n",
              "    </tr>\n",
              "    <tr>\n",
              "      <th>15</th>\n",
              "      <td>0.00914</td>\n",
              "      <td>15</td>\n",
              "    </tr>\n",
              "    <tr>\n",
              "      <th>16</th>\n",
              "      <td>0.00874</td>\n",
              "      <td>16</td>\n",
              "    </tr>\n",
              "    <tr>\n",
              "      <th>17</th>\n",
              "      <td>0.00900</td>\n",
              "      <td>17</td>\n",
              "    </tr>\n",
              "    <tr>\n",
              "      <th>18</th>\n",
              "      <td>0.00925</td>\n",
              "      <td>18</td>\n",
              "    </tr>\n",
              "    <tr>\n",
              "      <th>19</th>\n",
              "      <td>0.00936</td>\n",
              "      <td>19</td>\n",
              "    </tr>\n",
              "    <tr>\n",
              "      <th>20</th>\n",
              "      <td>0.00966</td>\n",
              "      <td>20</td>\n",
              "    </tr>\n",
              "    <tr>\n",
              "      <th>21</th>\n",
              "      <td>0.00952</td>\n",
              "      <td>21</td>\n",
              "    </tr>\n",
              "    <tr>\n",
              "      <th>22</th>\n",
              "      <td>0.00908</td>\n",
              "      <td>22</td>\n",
              "    </tr>\n",
              "    <tr>\n",
              "      <th>23</th>\n",
              "      <td>0.00879</td>\n",
              "      <td>23</td>\n",
              "    </tr>\n",
              "  </tbody>\n",
              "</table>\n",
              "</div>"
            ],
            "text/plain": [
              "      DSP_CNT_IDEX  HOUR\n",
              "TIME                    \n",
              "0          0.01304     0\n",
              "1          0.01118     1\n",
              "2          0.00851     2\n",
              "3          0.00807     3\n",
              "4          0.00769     4\n",
              "5          0.00776     5\n",
              "6          0.00867     6\n",
              "7          0.00914     7\n",
              "8          0.01097     8\n",
              "9          0.01048     9\n",
              "10         0.01005    10\n",
              "11         0.00886    11\n",
              "12         0.00858    12\n",
              "13         0.00923    13\n",
              "14         0.00907    14\n",
              "15         0.00914    15\n",
              "16         0.00874    16\n",
              "17         0.00900    17\n",
              "18         0.00925    18\n",
              "19         0.00936    19\n",
              "20         0.00966    20\n",
              "21         0.00952    21\n",
              "22         0.00908    22\n",
              "23         0.00879    23"
            ]
          },
          "metadata": {},
          "execution_count": 16
        }
      ]
    },
    {
      "cell_type": "code",
      "metadata": {
        "colab": {
          "base_uri": "https://localhost:8080/",
          "height": 589
        },
        "id": "mJ7nDIL4l_Yg",
        "outputId": "64d4d594-8b3f-49fe-fa94-88c8cc5de44e"
      },
      "source": [
        "import matplotlib.pyplot as plt\n",
        "import seaborn as sns\n",
        "\n",
        "# seaborn barplot\n",
        "plt.figure(figsize = (16,9))\n",
        "sns.barplot(x=\"HOUR\", y=\"DSP_CNT_IDEX\", data=time_idex)"
      ],
      "execution_count": 17,
      "outputs": [
        {
          "output_type": "execute_result",
          "data": {
            "text/plain": [
              "<matplotlib.axes._subplots.AxesSubplot at 0x7ffbc6a6bbd0>"
            ]
          },
          "metadata": {},
          "execution_count": 17
        },
        {
          "output_type": "display_data",
          "data": {
            "image/png": "[encoded data removed]",
            "text/plain": [
              "<Figure size 1152x648 with 1 Axes>"
            ]
          },
          "metadata": {
            "needs_background": "light"
          }
        }
      ]
    },
    {
      "cell_type": "markdown",
      "metadata": {
        "id": "FFc1NbMsmUKr"
      },
      "source": [
        "## 3) 요일별 출동 빈도 시각화"
      ]
    },
    {
      "cell_type": "code",
      "metadata": {
        "colab": {
          "base_uri": "https://localhost:8080/",
          "height": 300
        },
        "id": "BqjTxC91mSUb",
        "outputId": "909163fb-4aa4-493a-95c9-51d2c259591b"
      },
      "source": [
        "weekday_idx = pd.pivot_table(df, values= \"DSP_CNT_IDEX\" , index=['WEEKDAY'], aggfunc=np.mean)\n",
        "weekday_idx[\"WEEKDAY\"] = weekday_idx.index.values\n",
        "weekday_idx"
      ],
      "execution_count": 20,
      "outputs": [
        {
          "output_type": "execute_result",
          "data": {
            "text/html": [
              "<div>\n",
              "<style scoped>\n",
              "    .dataframe tbody tr th:only-of-type {\n",
              "        vertical-align: middle;\n",
              "    }\n",
              "\n",
              "    .dataframe tbody tr th {\n",
              "        vertical-align: top;\n",
              "    }\n",
              "\n",
              "    .dataframe thead th {\n",
              "        text-align: right;\n",
              "    }\n",
              "</style>\n",
              "<table border=\"1\" class=\"dataframe\">\n",
              "  <thead>\n",
              "    <tr style=\"text-align: right;\">\n",
              "      <th></th>\n",
              "      <th>DSP_CNT_IDEX</th>\n",
              "      <th>WEEKDAY</th>\n",
              "    </tr>\n",
              "    <tr>\n",
              "      <th>WEEKDAY</th>\n",
              "      <th></th>\n",
              "      <th></th>\n",
              "    </tr>\n",
              "  </thead>\n",
              "  <tbody>\n",
              "    <tr>\n",
              "      <th>0</th>\n",
              "      <td>0.01007</td>\n",
              "      <td>0</td>\n",
              "    </tr>\n",
              "    <tr>\n",
              "      <th>1</th>\n",
              "      <td>0.00953</td>\n",
              "      <td>1</td>\n",
              "    </tr>\n",
              "    <tr>\n",
              "      <th>2</th>\n",
              "      <td>0.00946</td>\n",
              "      <td>2</td>\n",
              "    </tr>\n",
              "    <tr>\n",
              "      <th>3</th>\n",
              "      <td>0.00912</td>\n",
              "      <td>3</td>\n",
              "    </tr>\n",
              "    <tr>\n",
              "      <th>4</th>\n",
              "      <td>0.00929</td>\n",
              "      <td>4</td>\n",
              "    </tr>\n",
              "    <tr>\n",
              "      <th>5</th>\n",
              "      <td>0.00880</td>\n",
              "      <td>5</td>\n",
              "    </tr>\n",
              "    <tr>\n",
              "      <th>6</th>\n",
              "      <td>0.00900</td>\n",
              "      <td>6</td>\n",
              "    </tr>\n",
              "  </tbody>\n",
              "</table>\n",
              "</div>"
            ],
            "text/plain": [
              "         DSP_CNT_IDEX  WEEKDAY\n",
              "WEEKDAY                       \n",
              "0             0.01007        0\n",
              "1             0.00953        1\n",
              "2             0.00946        2\n",
              "3             0.00912        3\n",
              "4             0.00929        4\n",
              "5             0.00880        5\n",
              "6             0.00900        6"
            ]
          },
          "metadata": {},
          "execution_count": 20
        }
      ]
    },
    {
      "cell_type": "code",
      "metadata": {
        "colab": {
          "base_uri": "https://localhost:8080/",
          "height": 589
        },
        "id": "sqyVXTuMmXuy",
        "outputId": "58bf3438-c9c0-4c35-d827-1f94a8790f39"
      },
      "source": [
        "plt.figure(figsize = (16,9))\n",
        "sns.barplot(x=\"WEEKDAY\", y=\"DSP_CNT_IDEX\", data=weekday_idx)"
      ],
      "execution_count": 22,
      "outputs": [
        {
          "output_type": "execute_result",
          "data": {
            "text/plain": [
              "<matplotlib.axes._subplots.AxesSubplot at 0x7ffbc69bc810>"
            ]
          },
          "metadata": {},
          "execution_count": 22
        },
        {
          "output_type": "display_data",
          "data": {
            "image/png": "[encoded data removed]",
            "text/plain": [
              "<Figure size 1152x648 with 1 Axes>"
            ]
          },
          "metadata": {
            "needs_background": "light"
          }
        }
      ]
    },
    {
      "cell_type": "markdown",
      "metadata": {
        "id": "m4cPqpp5mkHZ"
      },
      "source": [
        "## 4) 월별 출동 빈도 지수 시각화"
      ]
    },
    {
      "cell_type": "code",
      "metadata": {
        "colab": {
          "base_uri": "https://localhost:8080/",
          "height": 457
        },
        "id": "3aPdU1x5mhwu",
        "outputId": "a96ad942-4ec1-4c36-ccba-a4ce35c65dec"
      },
      "source": [
        "month_idx = pd.pivot_table(df, values= [\"DSP_CNT_IDEX\"] , index=['MONTH'], aggfunc=np.mean)\n",
        "month_idx[\"MONTH\"] = month_idx.index.values\n",
        "month_idx"
      ],
      "execution_count": 23,
      "outputs": [
        {
          "output_type": "execute_result",
          "data": {
            "text/html": [
              "<div>\n",
              "<style scoped>\n",
              "    .dataframe tbody tr th:only-of-type {\n",
              "        vertical-align: middle;\n",
              "    }\n",
              "\n",
              "    .dataframe tbody tr th {\n",
              "        vertical-align: top;\n",
              "    }\n",
              "\n",
              "    .dataframe thead th {\n",
              "        text-align: right;\n",
              "    }\n",
              "</style>\n",
              "<table border=\"1\" class=\"dataframe\">\n",
              "  <thead>\n",
              "    <tr style=\"text-align: right;\">\n",
              "      <th></th>\n",
              "      <th>DSP_CNT_IDEX</th>\n",
              "      <th>MONTH</th>\n",
              "    </tr>\n",
              "    <tr>\n",
              "      <th>MONTH</th>\n",
              "      <th></th>\n",
              "      <th></th>\n",
              "    </tr>\n",
              "  </thead>\n",
              "  <tbody>\n",
              "    <tr>\n",
              "      <th>1</th>\n",
              "      <td>0.00935</td>\n",
              "      <td>1</td>\n",
              "    </tr>\n",
              "    <tr>\n",
              "      <th>2</th>\n",
              "      <td>0.00969</td>\n",
              "      <td>2</td>\n",
              "    </tr>\n",
              "    <tr>\n",
              "      <th>3</th>\n",
              "      <td>0.00851</td>\n",
              "      <td>3</td>\n",
              "    </tr>\n",
              "    <tr>\n",
              "      <th>4</th>\n",
              "      <td>0.00884</td>\n",
              "      <td>4</td>\n",
              "    </tr>\n",
              "    <tr>\n",
              "      <th>5</th>\n",
              "      <td>0.00942</td>\n",
              "      <td>5</td>\n",
              "    </tr>\n",
              "    <tr>\n",
              "      <th>6</th>\n",
              "      <td>0.00975</td>\n",
              "      <td>6</td>\n",
              "    </tr>\n",
              "    <tr>\n",
              "      <th>7</th>\n",
              "      <td>0.00975</td>\n",
              "      <td>7</td>\n",
              "    </tr>\n",
              "    <tr>\n",
              "      <th>8</th>\n",
              "      <td>0.01051</td>\n",
              "      <td>8</td>\n",
              "    </tr>\n",
              "    <tr>\n",
              "      <th>9</th>\n",
              "      <td>0.00936</td>\n",
              "      <td>9</td>\n",
              "    </tr>\n",
              "    <tr>\n",
              "      <th>10</th>\n",
              "      <td>0.00918</td>\n",
              "      <td>10</td>\n",
              "    </tr>\n",
              "    <tr>\n",
              "      <th>11</th>\n",
              "      <td>0.00872</td>\n",
              "      <td>11</td>\n",
              "    </tr>\n",
              "    <tr>\n",
              "      <th>12</th>\n",
              "      <td>0.00849</td>\n",
              "      <td>12</td>\n",
              "    </tr>\n",
              "  </tbody>\n",
              "</table>\n",
              "</div>"
            ],
            "text/plain": [
              "       DSP_CNT_IDEX  MONTH\n",
              "MONTH                     \n",
              "1           0.00935      1\n",
              "2           0.00969      2\n",
              "3           0.00851      3\n",
              "4           0.00884      4\n",
              "5           0.00942      5\n",
              "6           0.00975      6\n",
              "7           0.00975      7\n",
              "8           0.01051      8\n",
              "9           0.00936      9\n",
              "10          0.00918     10\n",
              "11          0.00872     11\n",
              "12          0.00849     12"
            ]
          },
          "metadata": {},
          "execution_count": 23
        }
      ]
    },
    {
      "cell_type": "code",
      "metadata": {
        "colab": {
          "base_uri": "https://localhost:8080/",
          "height": 395
        },
        "id": "fRYlzAM3mnk3",
        "outputId": "f169490f-f876-40c7-b2a5-1c7e7bf7b604"
      },
      "source": [
        "plt.figure(figsize = (16,9))\n",
        "sns.barplot(x=\"MONTH\", y=\"DSP_CNT_IDEX\", data=month_idx)"
      ],
      "execution_count": 24,
      "outputs": [
        {
          "output_type": "execute_result",
          "data": {
            "text/plain": [
              "<matplotlib.axes._subplots.AxesSubplot at 0x7ffbc2d19c10>"
            ]
          },
          "metadata": {},
          "execution_count": 24
        },
        {
          "output_type": "display_data",
          "data": {
            "image/png": "[encoded data removed]",
            "text/plain": [
              "<Figure size 1152x648 with 1 Axes>"
            ]
          },
          "metadata": {
            "needs_background": "light"
          }
        }
      ]
    },
    {
      "cell_type": "code",
      "metadata": {
        "id": "Ugkxddp9mpPV"
      },
      "source": [
        ""
      ],
      "execution_count": null,
      "outputs": []
    }
  ]
}