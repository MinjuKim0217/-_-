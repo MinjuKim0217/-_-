{
 "cells": [
  {
   "cell_type": "code",
   "execution_count": 30,
   "metadata": {},
   "outputs": [],
   "source": [
    "from selenium import webdriver\n",
    "import re\n",
    "from bs4 import BeautifulSoup \n",
    "import time\n",
    "import pandas as pd"
   ]
  },
  {
   "cell_type": "code",
   "execution_count": 31,
   "metadata": {},
   "outputs": [],
   "source": [
    "driver = webdriver.Chrome(r'C:\\Users\\82105\\Desktop\\chromedriver.exe') \n",
    "driver.get('https://www.instagram.com')\n",
    "time.sleep(2)\n",
    "\n",
    "# 아이디 입력\n",
    "email = 'funfun.data0813@gmail.com'\n",
    "input_id = driver.find_elements_by_css_selector('input._2hvTZ.pexuQ.zyHYP')[0]\n",
    "input_id.clear()\n",
    "input_id.send_keys(email)\n",
    "\n",
    "# 비밀번호 입력\n",
    "password = 'dftn7jj7'\n",
    "input_pw = driver.find_elements_by_css_selector('input._2hvTZ.pexuQ.zyHYP')[1]\n",
    "input_pw.send_keys(password)\n",
    "input_pw.submit()\n",
    "\n",
    "# 알림창 버튼 (나중에저장 클릭)\n",
    "time.sleep(2)\n",
    "close = driver.find_element_by_css_selector('div.cmbtv')\n",
    "close.click()\n",
    "\n",
    "# 알림창 버튼 2 (알림 설정)\n",
    "time.sleep(2)\n",
    "close = driver.find_element_by_css_selector('button.aOOlW.HoLwm')\n",
    "close.click()"
   ]
  },
  {
   "cell_type": "code",
   "execution_count": 32,
   "metadata": {},
   "outputs": [],
   "source": [
    "\n",
    "def insta_searching(word):\n",
    "    url = 'https://www.instagram.com/explore/tags/' + word\n",
    "    return url"
   ]
  },
  {
   "cell_type": "code",
   "execution_count": 33,
   "metadata": {},
   "outputs": [],
   "source": [
    "word = '군산맛집'\n",
    "url = insta_searching(word)\n",
    "driver.get(url)"
   ]
  },
  {
   "cell_type": "code",
   "execution_count": 34,
   "metadata": {},
   "outputs": [],
   "source": [
    "\n",
    "def select_first(driver):\n",
    "    first = driver.find_element_by_css_selector(\"div.v1Nh3.kIKUG._bz0w\")\n",
    "    first.click()\n",
    "    time.sleep(3)\n",
    "    \n",
    "select_first(driver)"
   ]
  },
  {
   "cell_type": "code",
   "execution_count": 35,
   "metadata": {},
   "outputs": [
    {
     "data": {
      "text/plain": [
       "['.🍊 군산 맛집..🍊 정보.- 이름 : 장춘횟집- 시간 : 09 : 00 ~ 21 : 30- 주소 : 전라북도 군산시 내항2길 153.🍊 후기.- 군산에 가면 항상 생각이 나는 곳이에요.- 한상 차림이 이렇게 푸짐해도 되나 싶을 정도로 푸짐했어요.- 양도 많은 편이긴 하지만 퀄리티가 너무 좋아서 항상 만족해요.- 입에서 살살 녹는 맛을 느낄 수가 있어요.🍊 N 행시.- 이 : 이새끼야- 성 : 성실하게 일 안 할래?- 당 : 당장 일 해라 제발.',\n",
       " '2021-07-22',\n",
       " 0,\n",
       " 'Gunsan',\n",
       " []]"
      ]
     },
     "execution_count": 35,
     "metadata": {},
     "output_type": "execute_result"
    }
   ],
   "source": [
    "def get_content(driver):\n",
    "\n",
    "    # 현재 페이지 정보 가져오기\n",
    "    html = driver.page_source\n",
    "    soup = BeautifulSoup(html,'lxml')\n",
    "    \n",
    "    # 본문 내용 가져오기\n",
    "    try:\n",
    "        content = soup.select('div.C4VMK > span')[0].text\n",
    "    except:\n",
    "        content=' '\n",
    "        \n",
    "    # 본문 내용에서 해시태그 가져오기 (정규식 활용)\n",
    "    tags = re.findall(r'#[^\\s#,\\\\]+', content)\n",
    "    \n",
    "    # 작성일자 정보 가져오기\n",
    "    date = soup.select('time._1o9PC.Nzb55')[0]['datetime'][:10]\n",
    "\n",
    "    # 좋아요 수 가져오기\n",
    "    try:\n",
    "        like = soup.select('div.Nm9Fw > button')[0].text[4:-1]\n",
    "    except:\n",
    "        like=0\n",
    "        \n",
    "    # 위치정보가져오기\n",
    "    try:\n",
    "        place = soup.select('div.M30cS')[0].text\n",
    "    except:\n",
    "        place=''\n",
    "        \n",
    "    # 수집한 정보 저장하기\n",
    "    data = [content, date, like, place, tags]\n",
    "    return data\n",
    "\n",
    "get_content(driver)\n",
    "\n",
    "# like, place 두개 수집이 안됨"
   ]
  },
  {
   "cell_type": "code",
   "execution_count": 36,
   "metadata": {},
   "outputs": [],
   "source": [
    "def move_next(driver):\n",
    "    right = driver.find_element_by_css_selector('a._65Bje.coreSpriteRightPaginationArrow')\n",
    "    right.click()\n",
    "    time.sleep(2)\n",
    "    \n",
    "move_next(driver)"
   ]
  },
  {
   "cell_type": "markdown",
   "metadata": {},
   "source": [
    "인스타그램 크롤링"
   ]
  },
  {
   "cell_type": "code",
   "execution_count": 54,
   "metadata": {},
   "outputs": [
    {
     "ename": "IndexError",
     "evalue": "list index out of range",
     "output_type": "error",
     "traceback": [
      "\u001b[1;31m---------------------------------------------------------------------------\u001b[0m",
      "\u001b[1;31mIndexError\u001b[0m                                Traceback (most recent call last)",
      "\u001b[1;32m<ipython-input-54-4e8cb4edbd55>\u001b[0m in \u001b[0;36m<module>\u001b[1;34m\u001b[0m\n\u001b[0;32m     36\u001b[0m \u001b[0mtarget\u001b[0m \u001b[1;33m=\u001b[0m \u001b[1;36m100\u001b[0m \u001b[1;31m# 크롤링할 게시글 수\u001b[0m\u001b[1;33m\u001b[0m\u001b[1;33m\u001b[0m\u001b[0m\n\u001b[0;32m     37\u001b[0m \u001b[1;32mfor\u001b[0m \u001b[0mi\u001b[0m \u001b[1;32min\u001b[0m \u001b[0mrange\u001b[0m\u001b[1;33m(\u001b[0m\u001b[0mtarget\u001b[0m\u001b[1;33m)\u001b[0m\u001b[1;33m:\u001b[0m\u001b[1;33m\u001b[0m\u001b[1;33m\u001b[0m\u001b[0m\n\u001b[1;32m---> 38\u001b[1;33m     \u001b[0mdata\u001b[0m \u001b[1;33m=\u001b[0m \u001b[0mget_content\u001b[0m\u001b[1;33m(\u001b[0m\u001b[0mdriver\u001b[0m\u001b[1;33m)\u001b[0m\u001b[1;33m\u001b[0m\u001b[1;33m\u001b[0m\u001b[0m\n\u001b[0m\u001b[0;32m     39\u001b[0m     \u001b[0mresults\u001b[0m\u001b[1;33m.\u001b[0m\u001b[0mappend\u001b[0m\u001b[1;33m(\u001b[0m\u001b[0mdata\u001b[0m\u001b[1;33m)\u001b[0m\u001b[1;33m\u001b[0m\u001b[1;33m\u001b[0m\u001b[0m\n\u001b[0;32m     40\u001b[0m     \u001b[0mmove_next\u001b[0m\u001b[1;33m(\u001b[0m\u001b[0mdriver\u001b[0m\u001b[1;33m)\u001b[0m\u001b[1;33m\u001b[0m\u001b[1;33m\u001b[0m\u001b[0m\n",
      "\u001b[1;32m<ipython-input-35-b328e327ab28>\u001b[0m in \u001b[0;36mget_content\u001b[1;34m(driver)\u001b[0m\n\u001b[0;32m     15\u001b[0m \u001b[1;33m\u001b[0m\u001b[0m\n\u001b[0;32m     16\u001b[0m     \u001b[1;31m# 작성일자 정보 가져오기\u001b[0m\u001b[1;33m\u001b[0m\u001b[1;33m\u001b[0m\u001b[1;33m\u001b[0m\u001b[0m\n\u001b[1;32m---> 17\u001b[1;33m     \u001b[0mdate\u001b[0m \u001b[1;33m=\u001b[0m \u001b[0msoup\u001b[0m\u001b[1;33m.\u001b[0m\u001b[0mselect\u001b[0m\u001b[1;33m(\u001b[0m\u001b[1;34m'time._1o9PC.Nzb55'\u001b[0m\u001b[1;33m)\u001b[0m\u001b[1;33m[\u001b[0m\u001b[1;36m0\u001b[0m\u001b[1;33m]\u001b[0m\u001b[1;33m[\u001b[0m\u001b[1;34m'datetime'\u001b[0m\u001b[1;33m]\u001b[0m\u001b[1;33m[\u001b[0m\u001b[1;33m:\u001b[0m\u001b[1;36m10\u001b[0m\u001b[1;33m]\u001b[0m\u001b[1;33m\u001b[0m\u001b[1;33m\u001b[0m\u001b[0m\n\u001b[0m\u001b[0;32m     18\u001b[0m \u001b[1;33m\u001b[0m\u001b[0m\n\u001b[0;32m     19\u001b[0m     \u001b[1;31m# 좋아요 수 가져오기\u001b[0m\u001b[1;33m\u001b[0m\u001b[1;33m\u001b[0m\u001b[1;33m\u001b[0m\u001b[0m\n",
      "\u001b[1;31mIndexError\u001b[0m: list index out of range"
     ]
    }
   ],
   "source": [
    "driver = webdriver.Chrome(r'C:\\Users\\82105\\Desktop\\chromedriver.exe') \n",
    "driver.get('https://www.instagram.com')\n",
    "time.sleep(2)\n",
    "\n",
    "email = 'funfun.data0813@gmail.com'\n",
    "input_id = driver.find_elements_by_css_selector('input._2hvTZ.pexuQ.zyHYP')[0]\n",
    "input_id.clear()\n",
    "input_id.send_keys(email)\n",
    "\n",
    "password = 'dftn7jj7'\n",
    "input_pw = driver.find_elements_by_css_selector('input._2hvTZ.pexuQ.zyHYP')[1]\n",
    "input_pw.clear()\n",
    "input_pw.send_keys(password)\n",
    "input_pw.submit()\n",
    "\n",
    "# 알림창 버튼 (나중에저장 클릭)\n",
    "time.sleep(5)\n",
    "close = driver.find_element_by_css_selector('div.cmbtv')\n",
    "close.click()\n",
    "\n",
    "# 알림창 버튼 2 (알림 설정)\n",
    "time.sleep(5)\n",
    "close2 = driver.find_element_by_css_selector('button.aOOlW.HoLwm')\n",
    "close2.click()\n",
    "\n",
    "word = '군산맛집추천'\n",
    "url = insta_searching(word)\n",
    "\n",
    "driver.get(url)\n",
    "time.sleep(10)\n",
    "\n",
    "select_first(driver)\n",
    "\n",
    "results = []\n",
    "\n",
    "target = 100 # 크롤링할 게시글 수\n",
    "for i in range(target):\n",
    "    data = get_content(driver)\n",
    "    results.append(data)\n",
    "    move_next(driver)\n",
    "    \n",
    "print(results[:2])"
   ]
  },
  {
   "cell_type": "code",
   "execution_count": 55,
   "metadata": {},
   "outputs": [],
   "source": [
    "results_df =pd.DataFrame(results)\n",
    "results_df.columns=['content','data','like','place','tags']\n",
    "results_df.to_excel('./군산맛집추천크롤링.xlsx')"
   ]
  },
  {
   "cell_type": "code",
   "execution_count": 51,
   "metadata": {},
   "outputs": [],
   "source": [
    "jeju_insta_df = pd.DataFrame( [ ] )\n",
    "\n",
    "folder = 'C:/Users/82105/Desktop/insta/'\n",
    "f_list = ['YeoHang.xlsx', 'MatJip.xlsx', 'GwanGwang.xlsx', '2MatJip.xlsx']\n",
    "for fname in f_list:\n",
    "    fpath = folder + fname\n",
    "    temp = pd.read_excel(fpath)\n",
    "    jeju_insta_df = jeju_insta_df.append(temp)\n",
    "\n",
    "jeju_insta_df.columns =['no','content','data','like','place','tags']"
   ]
  },
  {
   "cell_type": "code",
   "execution_count": 52,
   "metadata": {},
   "outputs": [],
   "source": [
    "jeju_insta_df.drop_duplicates(subset=['content'], inplace=True)\n",
    "jeju_insta_df.to_excel('./4.1 crawling_raw.xlsx', index=False)"
   ]
  }
 ],
 "metadata": {
  "kernelspec": {
   "display_name": "Python 3",
   "language": "python",
   "name": "python3"
  },
  "language_info": {
   "codemirror_mode": {
    "name": "ipython",
    "version": 3
   },
   "file_extension": ".py",
   "mimetype": "text/x-python",
   "name": "python",
   "nbconvert_exporter": "python",
   "pygments_lexer": "ipython3",
   "version": "3.8.5"
  }
 },
 "nbformat": 4,
 "nbformat_minor": 4
}
