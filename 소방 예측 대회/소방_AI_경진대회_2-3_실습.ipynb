{
  "nbformat": 4,
  "nbformat_minor": 0,
  "metadata": {
    "colab": {
      "name": "소방 AI 경진대회 2-3 실습.ipynb",
      "provenance": [],
      "collapsed_sections": [],
      "toc_visible": true
    },
    "kernelspec": {
      "name": "python3",
      "display_name": "Python 3"
    },
    "language_info": {
      "name": "python"
    },
    "accelerator": "GPU"
  },
  "cells": [
    {
      "cell_type": "code",
      "metadata": {
        "colab": {
          "base_uri": "https://localhost:8080/"
        },
        "id": "puevfynpll57",
        "outputId": "7f121ae2-9308-47a3-d4a2-aae58bd15874"
      },
      "source": [
        "from google.colab import drive\n",
        "drive.mount('/content/drive')"
      ],
      "execution_count": null,
      "outputs": [
        {
          "output_type": "stream",
          "name": "stdout",
          "text": [
            "Mounted at /content/drive\n"
          ]
        }
      ]
    },
    {
      "cell_type": "markdown",
      "metadata": {
        "id": "5MXtM6ltz9Yi"
      },
      "source": [
        " - **경고무시 명령**"
      ]
    },
    {
      "cell_type": "code",
      "metadata": {
        "id": "Kyj1BfScDU-B"
      },
      "source": [
        "import warnings\n",
        "warnings.filterwarnings('ignore')"
      ],
      "execution_count": null,
      "outputs": []
    },
    {
      "cell_type": "markdown",
      "metadata": {
        "id": "g3RpUXjCz_j7"
      },
      "source": [
        "- **numpy / pandas 지수 표기 옵션**"
      ]
    },
    {
      "cell_type": "code",
      "metadata": {
        "id": "Xveg4StsDQP2"
      },
      "source": [
        "import pandas as pd\n",
        "import numpy as np\n",
        "\n",
        "pd.options.display.float_format = '{:.5f}'.format\n",
        "np.set_printoptions(precision=6, suppress=True)\n"
      ],
      "execution_count": null,
      "outputs": []
    },
    {
      "cell_type": "markdown",
      "metadata": {
        "id": "4XPaEY0xok4z"
      },
      "source": [
        "# **I. 데이터 로드**"
      ]
    },
    {
      "cell_type": "code",
      "metadata": {
        "id": "0jFYU8tgonkO",
        "colab": {
          "base_uri": "https://localhost:8080/",
          "height": 443
        },
        "outputId": "5b3825b2-debe-46ff-a715-4bec990389cc"
      },
      "source": [
        "import pandas as pd\n",
        "\n",
        "df = pd.read_csv(\"/content/drive/MyDrive/relief_dataset.csv\")\n",
        "df"
      ],
      "execution_count": null,
      "outputs": [
        {
          "output_type": "execute_result",
          "data": {
            "text/html": [
              "<div>\n",
              "<style scoped>\n",
              "    .dataframe tbody tr th:only-of-type {\n",
              "        vertical-align: middle;\n",
              "    }\n",
              "\n",
              "    .dataframe tbody tr th {\n",
              "        vertical-align: top;\n",
              "    }\n",
              "\n",
              "    .dataframe thead th {\n",
              "        text-align: right;\n",
              "    }\n",
              "</style>\n",
              "<table border=\"1\" class=\"dataframe\">\n",
              "  <thead>\n",
              "    <tr style=\"text-align: right;\">\n",
              "      <th></th>\n",
              "      <th>GRID_ID</th>\n",
              "      <th>GRID_X_AXIS</th>\n",
              "      <th>GRID_Y_AXIS</th>\n",
              "      <th>TIME</th>\n",
              "      <th>YMD</th>\n",
              "      <th>STDG_CD</th>\n",
              "      <th>FP_IDEX</th>\n",
              "      <th>OLD_FP_IDEX</th>\n",
              "      <th>RELIFPLC_DWL_IDEX</th>\n",
              "      <th>RELIFPLC_ROAD_IDEX</th>\n",
              "      <th>RELIFPLC_INDUST_IDEX</th>\n",
              "      <th>RELIFPLC_NTR_IDEX</th>\n",
              "      <th>RELIFPLC_ETC_IDEX</th>\n",
              "      <th>DSP_CNT_IDEX</th>\n",
              "      <th>DISEASE_DSP_IDEX</th>\n",
              "      <th>DISEASE_EXCL_DSP_IDEX</th>\n",
              "    </tr>\n",
              "  </thead>\n",
              "  <tbody>\n",
              "    <tr>\n",
              "      <th>0</th>\n",
              "      <td>38045314</td>\n",
              "      <td>380475</td>\n",
              "      <td>531475</td>\n",
              "      <td>0</td>\n",
              "      <td>20200101</td>\n",
              "      <td>4213000000</td>\n",
              "      <td>2.88000</td>\n",
              "      <td>0.72000</td>\n",
              "      <td>0</td>\n",
              "      <td>0</td>\n",
              "      <td>0</td>\n",
              "      <td>0</td>\n",
              "      <td>0</td>\n",
              "      <td>0</td>\n",
              "      <td>0</td>\n",
              "      <td>0</td>\n",
              "    </tr>\n",
              "    <tr>\n",
              "      <th>1</th>\n",
              "      <td>38045324</td>\n",
              "      <td>380475</td>\n",
              "      <td>532475</td>\n",
              "      <td>0</td>\n",
              "      <td>20200101</td>\n",
              "      <td>4213000000</td>\n",
              "      <td>9.36000</td>\n",
              "      <td>1.44000</td>\n",
              "      <td>0</td>\n",
              "      <td>0</td>\n",
              "      <td>0</td>\n",
              "      <td>0</td>\n",
              "      <td>0</td>\n",
              "      <td>0</td>\n",
              "      <td>0</td>\n",
              "      <td>0</td>\n",
              "    </tr>\n",
              "    <tr>\n",
              "      <th>2</th>\n",
              "      <td>38145354</td>\n",
              "      <td>381475</td>\n",
              "      <td>535475</td>\n",
              "      <td>0</td>\n",
              "      <td>20200101</td>\n",
              "      <td>4213000000</td>\n",
              "      <td>3.93000</td>\n",
              "      <td>0.15000</td>\n",
              "      <td>0</td>\n",
              "      <td>0</td>\n",
              "      <td>0</td>\n",
              "      <td>0</td>\n",
              "      <td>0</td>\n",
              "      <td>0</td>\n",
              "      <td>0</td>\n",
              "      <td>0</td>\n",
              "    </tr>\n",
              "    <tr>\n",
              "      <th>3</th>\n",
              "      <td>38245184</td>\n",
              "      <td>382475</td>\n",
              "      <td>518475</td>\n",
              "      <td>0</td>\n",
              "      <td>20200101</td>\n",
              "      <td>4213000000</td>\n",
              "      <td>2.69000</td>\n",
              "      <td>0.16000</td>\n",
              "      <td>0</td>\n",
              "      <td>0</td>\n",
              "      <td>0</td>\n",
              "      <td>0</td>\n",
              "      <td>0</td>\n",
              "      <td>0</td>\n",
              "      <td>0</td>\n",
              "      <td>0</td>\n",
              "    </tr>\n",
              "    <tr>\n",
              "      <th>4</th>\n",
              "      <td>38245194</td>\n",
              "      <td>382475</td>\n",
              "      <td>519475</td>\n",
              "      <td>0</td>\n",
              "      <td>20200101</td>\n",
              "      <td>4213000000</td>\n",
              "      <td>2.35000</td>\n",
              "      <td>0.14000</td>\n",
              "      <td>0</td>\n",
              "      <td>0</td>\n",
              "      <td>0</td>\n",
              "      <td>0</td>\n",
              "      <td>0</td>\n",
              "      <td>0</td>\n",
              "      <td>0</td>\n",
              "      <td>0</td>\n",
              "    </tr>\n",
              "    <tr>\n",
              "      <th>...</th>\n",
              "      <td>...</td>\n",
              "      <td>...</td>\n",
              "      <td>...</td>\n",
              "      <td>...</td>\n",
              "      <td>...</td>\n",
              "      <td>...</td>\n",
              "      <td>...</td>\n",
              "      <td>...</td>\n",
              "      <td>...</td>\n",
              "      <td>...</td>\n",
              "      <td>...</td>\n",
              "      <td>...</td>\n",
              "      <td>...</td>\n",
              "      <td>...</td>\n",
              "      <td>...</td>\n",
              "      <td>...</td>\n",
              "    </tr>\n",
              "    <tr>\n",
              "      <th>1769073</th>\n",
              "      <td>40245274</td>\n",
              "      <td>402475</td>\n",
              "      <td>527475</td>\n",
              "      <td>23</td>\n",
              "      <td>20201230</td>\n",
              "      <td>4213000000</td>\n",
              "      <td>25.48000</td>\n",
              "      <td>1.04000</td>\n",
              "      <td>0</td>\n",
              "      <td>0</td>\n",
              "      <td>0</td>\n",
              "      <td>0</td>\n",
              "      <td>0</td>\n",
              "      <td>0</td>\n",
              "      <td>0</td>\n",
              "      <td>0</td>\n",
              "    </tr>\n",
              "    <tr>\n",
              "      <th>1769074</th>\n",
              "      <td>40545364</td>\n",
              "      <td>405475</td>\n",
              "      <td>536475</td>\n",
              "      <td>23</td>\n",
              "      <td>20201230</td>\n",
              "      <td>4213000000</td>\n",
              "      <td>1.21000</td>\n",
              "      <td>0.32000</td>\n",
              "      <td>0</td>\n",
              "      <td>0</td>\n",
              "      <td>0</td>\n",
              "      <td>0</td>\n",
              "      <td>0</td>\n",
              "      <td>0</td>\n",
              "      <td>0</td>\n",
              "      <td>0</td>\n",
              "    </tr>\n",
              "    <tr>\n",
              "      <th>1769075</th>\n",
              "      <td>40645144</td>\n",
              "      <td>406475</td>\n",
              "      <td>514475</td>\n",
              "      <td>23</td>\n",
              "      <td>20201230</td>\n",
              "      <td>4213000000</td>\n",
              "      <td>1.28000</td>\n",
              "      <td>0.30000</td>\n",
              "      <td>0</td>\n",
              "      <td>0</td>\n",
              "      <td>0</td>\n",
              "      <td>0</td>\n",
              "      <td>0</td>\n",
              "      <td>0</td>\n",
              "      <td>0</td>\n",
              "      <td>0</td>\n",
              "    </tr>\n",
              "    <tr>\n",
              "      <th>1769076</th>\n",
              "      <td>40745144</td>\n",
              "      <td>407475</td>\n",
              "      <td>514475</td>\n",
              "      <td>23</td>\n",
              "      <td>20201230</td>\n",
              "      <td>4213000000</td>\n",
              "      <td>6.17000</td>\n",
              "      <td>1.47000</td>\n",
              "      <td>0</td>\n",
              "      <td>0</td>\n",
              "      <td>0</td>\n",
              "      <td>0</td>\n",
              "      <td>0</td>\n",
              "      <td>0</td>\n",
              "      <td>0</td>\n",
              "      <td>0</td>\n",
              "    </tr>\n",
              "    <tr>\n",
              "      <th>1769077</th>\n",
              "      <td>40845154</td>\n",
              "      <td>408475</td>\n",
              "      <td>515475</td>\n",
              "      <td>23</td>\n",
              "      <td>20201230</td>\n",
              "      <td>4213000000</td>\n",
              "      <td>1.04000</td>\n",
              "      <td>0.22000</td>\n",
              "      <td>0</td>\n",
              "      <td>0</td>\n",
              "      <td>0</td>\n",
              "      <td>0</td>\n",
              "      <td>0</td>\n",
              "      <td>0</td>\n",
              "      <td>0</td>\n",
              "      <td>0</td>\n",
              "    </tr>\n",
              "  </tbody>\n",
              "</table>\n",
              "<p>1769078 rows × 16 columns</p>\n",
              "</div>"
            ],
            "text/plain": [
              "          GRID_ID  GRID_X_AXIS  ...  DISEASE_DSP_IDEX  DISEASE_EXCL_DSP_IDEX\n",
              "0        38045314       380475  ...                 0                      0\n",
              "1        38045324       380475  ...                 0                      0\n",
              "2        38145354       381475  ...                 0                      0\n",
              "3        38245184       382475  ...                 0                      0\n",
              "4        38245194       382475  ...                 0                      0\n",
              "...           ...          ...  ...               ...                    ...\n",
              "1769073  40245274       402475  ...                 0                      0\n",
              "1769074  40545364       405475  ...                 0                      0\n",
              "1769075  40645144       406475  ...                 0                      0\n",
              "1769076  40745144       407475  ...                 0                      0\n",
              "1769077  40845154       408475  ...                 0                      0\n",
              "\n",
              "[1769078 rows x 16 columns]"
            ]
          },
          "metadata": {},
          "execution_count": 4
        }
      ]
    },
    {
      "cell_type": "code",
      "metadata": {
        "id": "gtXCgzhLosjf",
        "colab": {
          "base_uri": "https://localhost:8080/"
        },
        "outputId": "51386c08-395b-4b30-d01a-ee07efa04239"
      },
      "source": [
        "# 데이터프레임 info 함수\n",
        "df.info()"
      ],
      "execution_count": null,
      "outputs": [
        {
          "output_type": "stream",
          "name": "stdout",
          "text": [
            "<class 'pandas.core.frame.DataFrame'>\n",
            "RangeIndex: 1769078 entries, 0 to 1769077\n",
            "Data columns (total 16 columns):\n",
            " #   Column                 Dtype  \n",
            "---  ------                 -----  \n",
            " 0   GRID_ID                int64  \n",
            " 1   GRID_X_AXIS            int64  \n",
            " 2   GRID_Y_AXIS            int64  \n",
            " 3   TIME                   int64  \n",
            " 4   YMD                    int64  \n",
            " 5   STDG_CD                int64  \n",
            " 6   FP_IDEX                float64\n",
            " 7   OLD_FP_IDEX            float64\n",
            " 8   RELIFPLC_DWL_IDEX      int64  \n",
            " 9   RELIFPLC_ROAD_IDEX     int64  \n",
            " 10  RELIFPLC_INDUST_IDEX   int64  \n",
            " 11  RELIFPLC_NTR_IDEX      int64  \n",
            " 12  RELIFPLC_ETC_IDEX      int64  \n",
            " 13  DSP_CNT_IDEX           int64  \n",
            " 14  DISEASE_DSP_IDEX       int64  \n",
            " 15  DISEASE_EXCL_DSP_IDEX  int64  \n",
            "dtypes: float64(2), int64(14)\n",
            "memory usage: 216.0 MB\n"
          ]
        }
      ]
    },
    {
      "cell_type": "code",
      "metadata": {
        "colab": {
          "base_uri": "https://localhost:8080/"
        },
        "id": "z2Kyh43AwL-l",
        "outputId": "3a47767d-fc3f-499c-d6e3-ae5a92d6499d"
      },
      "source": [
        "df[\"YMD\"]"
      ],
      "execution_count": null,
      "outputs": [
        {
          "output_type": "execute_result",
          "data": {
            "text/plain": [
              "0          20200101\n",
              "1          20200101\n",
              "2          20200101\n",
              "3          20200101\n",
              "4          20200101\n",
              "             ...   \n",
              "1769073    20201230\n",
              "1769074    20201230\n",
              "1769075    20201230\n",
              "1769076    20201230\n",
              "1769077    20201230\n",
              "Name: YMD, Length: 1769078, dtype: int64"
            ]
          },
          "metadata": {},
          "execution_count": 6
        }
      ]
    },
    {
      "cell_type": "markdown",
      "metadata": {
        "id": "eKXCKXaABO76"
      },
      "source": [
        "\n",
        "- **MONTH / DAY / WEEKDAY 컬럼 추가**"
      ]
    },
    {
      "cell_type": "code",
      "metadata": {
        "id": "KvxsTAYrBOEx",
        "colab": {
          "base_uri": "https://localhost:8080/",
          "height": 443
        },
        "outputId": "7d2c9554-9f59-47d8-c9cf-0d4c16e87ef3"
      },
      "source": [
        "import datetime\n",
        "\n",
        "# 요일 0 ~ 6 정수값 return (월요일 ~ 일요일)\n",
        "def get_weekday(ymd):\n",
        "    yyyy = int(ymd/10000)\n",
        "    mm = int(ymd%10000/100)    \n",
        "    dd = int(ymd%10000%100)  \n",
        "    return datetime.date(yyyy,mm,dd).weekday()\n",
        "\n",
        "## apply 함수\n",
        "df[\"MONTH\"] = df[\"YMD\"].apply(lambda x : int(x%10000/100) )\n",
        "df[\"DAY\"] = df[\"YMD\"].apply(lambda x : int(x%10000%100) )\n",
        "df[\"WEEKDAY\"] = df[\"YMD\"].apply(get_weekday)\n",
        "\n",
        "df"
      ],
      "execution_count": null,
      "outputs": [
        {
          "output_type": "execute_result",
          "data": {
            "text/html": [
              "<div>\n",
              "<style scoped>\n",
              "    .dataframe tbody tr th:only-of-type {\n",
              "        vertical-align: middle;\n",
              "    }\n",
              "\n",
              "    .dataframe tbody tr th {\n",
              "        vertical-align: top;\n",
              "    }\n",
              "\n",
              "    .dataframe thead th {\n",
              "        text-align: right;\n",
              "    }\n",
              "</style>\n",
              "<table border=\"1\" class=\"dataframe\">\n",
              "  <thead>\n",
              "    <tr style=\"text-align: right;\">\n",
              "      <th></th>\n",
              "      <th>GRID_ID</th>\n",
              "      <th>GRID_X_AXIS</th>\n",
              "      <th>GRID_Y_AXIS</th>\n",
              "      <th>TIME</th>\n",
              "      <th>YMD</th>\n",
              "      <th>STDG_CD</th>\n",
              "      <th>FP_IDEX</th>\n",
              "      <th>OLD_FP_IDEX</th>\n",
              "      <th>RELIFPLC_DWL_IDEX</th>\n",
              "      <th>RELIFPLC_ROAD_IDEX</th>\n",
              "      <th>RELIFPLC_INDUST_IDEX</th>\n",
              "      <th>RELIFPLC_NTR_IDEX</th>\n",
              "      <th>RELIFPLC_ETC_IDEX</th>\n",
              "      <th>DSP_CNT_IDEX</th>\n",
              "      <th>DISEASE_DSP_IDEX</th>\n",
              "      <th>DISEASE_EXCL_DSP_IDEX</th>\n",
              "      <th>MONTH</th>\n",
              "      <th>DAY</th>\n",
              "      <th>WEEKDAY</th>\n",
              "    </tr>\n",
              "  </thead>\n",
              "  <tbody>\n",
              "    <tr>\n",
              "      <th>0</th>\n",
              "      <td>38045314</td>\n",
              "      <td>380475</td>\n",
              "      <td>531475</td>\n",
              "      <td>0</td>\n",
              "      <td>20200101</td>\n",
              "      <td>4213000000</td>\n",
              "      <td>2.88000</td>\n",
              "      <td>0.72000</td>\n",
              "      <td>0</td>\n",
              "      <td>0</td>\n",
              "      <td>0</td>\n",
              "      <td>0</td>\n",
              "      <td>0</td>\n",
              "      <td>0</td>\n",
              "      <td>0</td>\n",
              "      <td>0</td>\n",
              "      <td>1</td>\n",
              "      <td>1</td>\n",
              "      <td>2</td>\n",
              "    </tr>\n",
              "    <tr>\n",
              "      <th>1</th>\n",
              "      <td>38045324</td>\n",
              "      <td>380475</td>\n",
              "      <td>532475</td>\n",
              "      <td>0</td>\n",
              "      <td>20200101</td>\n",
              "      <td>4213000000</td>\n",
              "      <td>9.36000</td>\n",
              "      <td>1.44000</td>\n",
              "      <td>0</td>\n",
              "      <td>0</td>\n",
              "      <td>0</td>\n",
              "      <td>0</td>\n",
              "      <td>0</td>\n",
              "      <td>0</td>\n",
              "      <td>0</td>\n",
              "      <td>0</td>\n",
              "      <td>1</td>\n",
              "      <td>1</td>\n",
              "      <td>2</td>\n",
              "    </tr>\n",
              "    <tr>\n",
              "      <th>2</th>\n",
              "      <td>38145354</td>\n",
              "      <td>381475</td>\n",
              "      <td>535475</td>\n",
              "      <td>0</td>\n",
              "      <td>20200101</td>\n",
              "      <td>4213000000</td>\n",
              "      <td>3.93000</td>\n",
              "      <td>0.15000</td>\n",
              "      <td>0</td>\n",
              "      <td>0</td>\n",
              "      <td>0</td>\n",
              "      <td>0</td>\n",
              "      <td>0</td>\n",
              "      <td>0</td>\n",
              "      <td>0</td>\n",
              "      <td>0</td>\n",
              "      <td>1</td>\n",
              "      <td>1</td>\n",
              "      <td>2</td>\n",
              "    </tr>\n",
              "    <tr>\n",
              "      <th>3</th>\n",
              "      <td>38245184</td>\n",
              "      <td>382475</td>\n",
              "      <td>518475</td>\n",
              "      <td>0</td>\n",
              "      <td>20200101</td>\n",
              "      <td>4213000000</td>\n",
              "      <td>2.69000</td>\n",
              "      <td>0.16000</td>\n",
              "      <td>0</td>\n",
              "      <td>0</td>\n",
              "      <td>0</td>\n",
              "      <td>0</td>\n",
              "      <td>0</td>\n",
              "      <td>0</td>\n",
              "      <td>0</td>\n",
              "      <td>0</td>\n",
              "      <td>1</td>\n",
              "      <td>1</td>\n",
              "      <td>2</td>\n",
              "    </tr>\n",
              "    <tr>\n",
              "      <th>4</th>\n",
              "      <td>38245194</td>\n",
              "      <td>382475</td>\n",
              "      <td>519475</td>\n",
              "      <td>0</td>\n",
              "      <td>20200101</td>\n",
              "      <td>4213000000</td>\n",
              "      <td>2.35000</td>\n",
              "      <td>0.14000</td>\n",
              "      <td>0</td>\n",
              "      <td>0</td>\n",
              "      <td>0</td>\n",
              "      <td>0</td>\n",
              "      <td>0</td>\n",
              "      <td>0</td>\n",
              "      <td>0</td>\n",
              "      <td>0</td>\n",
              "      <td>1</td>\n",
              "      <td>1</td>\n",
              "      <td>2</td>\n",
              "    </tr>\n",
              "    <tr>\n",
              "      <th>...</th>\n",
              "      <td>...</td>\n",
              "      <td>...</td>\n",
              "      <td>...</td>\n",
              "      <td>...</td>\n",
              "      <td>...</td>\n",
              "      <td>...</td>\n",
              "      <td>...</td>\n",
              "      <td>...</td>\n",
              "      <td>...</td>\n",
              "      <td>...</td>\n",
              "      <td>...</td>\n",
              "      <td>...</td>\n",
              "      <td>...</td>\n",
              "      <td>...</td>\n",
              "      <td>...</td>\n",
              "      <td>...</td>\n",
              "      <td>...</td>\n",
              "      <td>...</td>\n",
              "      <td>...</td>\n",
              "    </tr>\n",
              "    <tr>\n",
              "      <th>1769073</th>\n",
              "      <td>40245274</td>\n",
              "      <td>402475</td>\n",
              "      <td>527475</td>\n",
              "      <td>23</td>\n",
              "      <td>20201230</td>\n",
              "      <td>4213000000</td>\n",
              "      <td>25.48000</td>\n",
              "      <td>1.04000</td>\n",
              "      <td>0</td>\n",
              "      <td>0</td>\n",
              "      <td>0</td>\n",
              "      <td>0</td>\n",
              "      <td>0</td>\n",
              "      <td>0</td>\n",
              "      <td>0</td>\n",
              "      <td>0</td>\n",
              "      <td>12</td>\n",
              "      <td>30</td>\n",
              "      <td>2</td>\n",
              "    </tr>\n",
              "    <tr>\n",
              "      <th>1769074</th>\n",
              "      <td>40545364</td>\n",
              "      <td>405475</td>\n",
              "      <td>536475</td>\n",
              "      <td>23</td>\n",
              "      <td>20201230</td>\n",
              "      <td>4213000000</td>\n",
              "      <td>1.21000</td>\n",
              "      <td>0.32000</td>\n",
              "      <td>0</td>\n",
              "      <td>0</td>\n",
              "      <td>0</td>\n",
              "      <td>0</td>\n",
              "      <td>0</td>\n",
              "      <td>0</td>\n",
              "      <td>0</td>\n",
              "      <td>0</td>\n",
              "      <td>12</td>\n",
              "      <td>30</td>\n",
              "      <td>2</td>\n",
              "    </tr>\n",
              "    <tr>\n",
              "      <th>1769075</th>\n",
              "      <td>40645144</td>\n",
              "      <td>406475</td>\n",
              "      <td>514475</td>\n",
              "      <td>23</td>\n",
              "      <td>20201230</td>\n",
              "      <td>4213000000</td>\n",
              "      <td>1.28000</td>\n",
              "      <td>0.30000</td>\n",
              "      <td>0</td>\n",
              "      <td>0</td>\n",
              "      <td>0</td>\n",
              "      <td>0</td>\n",
              "      <td>0</td>\n",
              "      <td>0</td>\n",
              "      <td>0</td>\n",
              "      <td>0</td>\n",
              "      <td>12</td>\n",
              "      <td>30</td>\n",
              "      <td>2</td>\n",
              "    </tr>\n",
              "    <tr>\n",
              "      <th>1769076</th>\n",
              "      <td>40745144</td>\n",
              "      <td>407475</td>\n",
              "      <td>514475</td>\n",
              "      <td>23</td>\n",
              "      <td>20201230</td>\n",
              "      <td>4213000000</td>\n",
              "      <td>6.17000</td>\n",
              "      <td>1.47000</td>\n",
              "      <td>0</td>\n",
              "      <td>0</td>\n",
              "      <td>0</td>\n",
              "      <td>0</td>\n",
              "      <td>0</td>\n",
              "      <td>0</td>\n",
              "      <td>0</td>\n",
              "      <td>0</td>\n",
              "      <td>12</td>\n",
              "      <td>30</td>\n",
              "      <td>2</td>\n",
              "    </tr>\n",
              "    <tr>\n",
              "      <th>1769077</th>\n",
              "      <td>40845154</td>\n",
              "      <td>408475</td>\n",
              "      <td>515475</td>\n",
              "      <td>23</td>\n",
              "      <td>20201230</td>\n",
              "      <td>4213000000</td>\n",
              "      <td>1.04000</td>\n",
              "      <td>0.22000</td>\n",
              "      <td>0</td>\n",
              "      <td>0</td>\n",
              "      <td>0</td>\n",
              "      <td>0</td>\n",
              "      <td>0</td>\n",
              "      <td>0</td>\n",
              "      <td>0</td>\n",
              "      <td>0</td>\n",
              "      <td>12</td>\n",
              "      <td>30</td>\n",
              "      <td>2</td>\n",
              "    </tr>\n",
              "  </tbody>\n",
              "</table>\n",
              "<p>1769078 rows × 19 columns</p>\n",
              "</div>"
            ],
            "text/plain": [
              "          GRID_ID  GRID_X_AXIS  GRID_Y_AXIS  ...  MONTH  DAY  WEEKDAY\n",
              "0        38045314       380475       531475  ...      1    1        2\n",
              "1        38045324       380475       532475  ...      1    1        2\n",
              "2        38145354       381475       535475  ...      1    1        2\n",
              "3        38245184       382475       518475  ...      1    1        2\n",
              "4        38245194       382475       519475  ...      1    1        2\n",
              "...           ...          ...          ...  ...    ...  ...      ...\n",
              "1769073  40245274       402475       527475  ...     12   30        2\n",
              "1769074  40545364       405475       536475  ...     12   30        2\n",
              "1769075  40645144       406475       514475  ...     12   30        2\n",
              "1769076  40745144       407475       514475  ...     12   30        2\n",
              "1769077  40845154       408475       515475  ...     12   30        2\n",
              "\n",
              "[1769078 rows x 19 columns]"
            ]
          },
          "metadata": {},
          "execution_count": 7
        }
      ]
    },
    {
      "cell_type": "markdown",
      "metadata": {
        "id": "VKDVoz2KosrZ"
      },
      "source": [
        "# **II. 출동 빈도 지수 EDA** "
      ]
    },
    {
      "cell_type": "code",
      "metadata": {
        "id": "K0cFLMz1503q",
        "colab": {
          "base_uri": "https://localhost:8080/"
        },
        "outputId": "5753f2ba-32e7-4853-f2df-70d20f1de002"
      },
      "source": [
        "df[\"DSP_CNT_IDEX\"].describe()"
      ],
      "execution_count": null,
      "outputs": [
        {
          "output_type": "execute_result",
          "data": {
            "text/plain": [
              "count   1769078.00000\n",
              "mean          0.00931\n",
              "std           0.10728\n",
              "min           0.00000\n",
              "25%           0.00000\n",
              "50%           0.00000\n",
              "75%           0.00000\n",
              "max          14.00000\n",
              "Name: DSP_CNT_IDEX, dtype: float64"
            ]
          },
          "metadata": {},
          "execution_count": 8
        }
      ]
    },
    {
      "cell_type": "markdown",
      "metadata": {
        "id": "_VtsigLc6Bm1"
      },
      "source": [
        "## **1). 격자별 출동 빈도 지수 비교**"
      ]
    },
    {
      "cell_type": "markdown",
      "metadata": {
        "id": "H-grexOWvvdK"
      },
      "source": [
        "**- pivot_table() : 컬럼 기준으로 데이터 변환**"
      ]
    },
    {
      "cell_type": "code",
      "metadata": {
        "id": "UYEOad7B6ArO",
        "colab": {
          "base_uri": "https://localhost:8080/",
          "height": 455
        },
        "outputId": "33fdf7ff-267e-4e26-bce9-df24af5ad7fe"
      },
      "source": [
        "import numpy as np\n",
        "\n",
        "# 격자 ID 기준으로 DSP_CNT_IDEX 값을 SUM 기준으로 데이터 변환\n",
        "rect_table = pd.pivot_table(df, values= \"DSP_CNT_IDEX\" , index=['GRID_ID'], aggfunc=np.sum)\n",
        "\n",
        "rect_table[\"GRID_ID\"] = rect_table.index.values\n",
        "rect_table"
      ],
      "execution_count": null,
      "outputs": [
        {
          "output_type": "execute_result",
          "data": {
            "text/html": [
              "<div>\n",
              "<style scoped>\n",
              "    .dataframe tbody tr th:only-of-type {\n",
              "        vertical-align: middle;\n",
              "    }\n",
              "\n",
              "    .dataframe tbody tr th {\n",
              "        vertical-align: top;\n",
              "    }\n",
              "\n",
              "    .dataframe thead th {\n",
              "        text-align: right;\n",
              "    }\n",
              "</style>\n",
              "<table border=\"1\" class=\"dataframe\">\n",
              "  <thead>\n",
              "    <tr style=\"text-align: right;\">\n",
              "      <th></th>\n",
              "      <th>DSP_CNT_IDEX</th>\n",
              "      <th>GRID_ID</th>\n",
              "    </tr>\n",
              "    <tr>\n",
              "      <th>GRID_ID</th>\n",
              "      <th></th>\n",
              "      <th></th>\n",
              "    </tr>\n",
              "  </thead>\n",
              "  <tbody>\n",
              "    <tr>\n",
              "      <th>37645864</th>\n",
              "      <td>1</td>\n",
              "      <td>37645864</td>\n",
              "    </tr>\n",
              "    <tr>\n",
              "      <th>37745114</th>\n",
              "      <td>23</td>\n",
              "      <td>37745114</td>\n",
              "    </tr>\n",
              "    <tr>\n",
              "      <th>37745124</th>\n",
              "      <td>8</td>\n",
              "      <td>37745124</td>\n",
              "    </tr>\n",
              "    <tr>\n",
              "      <th>37745144</th>\n",
              "      <td>4</td>\n",
              "      <td>37745144</td>\n",
              "    </tr>\n",
              "    <tr>\n",
              "      <th>37745154</th>\n",
              "      <td>13</td>\n",
              "      <td>37745154</td>\n",
              "    </tr>\n",
              "    <tr>\n",
              "      <th>...</th>\n",
              "      <td>...</td>\n",
              "      <td>...</td>\n",
              "    </tr>\n",
              "    <tr>\n",
              "      <th>44145094</th>\n",
              "      <td>1</td>\n",
              "      <td>44145094</td>\n",
              "    </tr>\n",
              "    <tr>\n",
              "      <th>44945564</th>\n",
              "      <td>1</td>\n",
              "      <td>44945564</td>\n",
              "    </tr>\n",
              "    <tr>\n",
              "      <th>45045614</th>\n",
              "      <td>1</td>\n",
              "      <td>45045614</td>\n",
              "    </tr>\n",
              "    <tr>\n",
              "      <th>48845074</th>\n",
              "      <td>1</td>\n",
              "      <td>48845074</td>\n",
              "    </tr>\n",
              "    <tr>\n",
              "      <th>49945514</th>\n",
              "      <td>1</td>\n",
              "      <td>49945514</td>\n",
              "    </tr>\n",
              "  </tbody>\n",
              "</table>\n",
              "<p>687 rows × 2 columns</p>\n",
              "</div>"
            ],
            "text/plain": [
              "          DSP_CNT_IDEX   GRID_ID\n",
              "GRID_ID                         \n",
              "37645864             1  37645864\n",
              "37745114            23  37745114\n",
              "37745124             8  37745124\n",
              "37745144             4  37745144\n",
              "37745154            13  37745154\n",
              "...                ...       ...\n",
              "44145094             1  44145094\n",
              "44945564             1  44945564\n",
              "45045614             1  45045614\n",
              "48845074             1  48845074\n",
              "49945514             1  49945514\n",
              "\n",
              "[687 rows x 2 columns]"
            ]
          },
          "metadata": {},
          "execution_count": 9
        }
      ]
    },
    {
      "cell_type": "code",
      "metadata": {
        "id": "lzHH1oIP6L81",
        "colab": {
          "base_uri": "https://localhost:8080/"
        },
        "outputId": "e55be4be-9d50-4361-c03a-6868fbda8483"
      },
      "source": [
        "## 격자별 출동빈도 지수 테이블\n",
        "rect_table[\"DSP_CNT_IDEX\"]"
      ],
      "execution_count": null,
      "outputs": [
        {
          "output_type": "execute_result",
          "data": {
            "text/plain": [
              "GRID_ID\n",
              "37645864     1\n",
              "37745114    23\n",
              "37745124     8\n",
              "37745144     4\n",
              "37745154    13\n",
              "            ..\n",
              "44145094     1\n",
              "44945564     1\n",
              "45045614     1\n",
              "48845074     1\n",
              "49945514     1\n",
              "Name: DSP_CNT_IDEX, Length: 687, dtype: int64"
            ]
          },
          "metadata": {},
          "execution_count": 10
        }
      ]
    },
    {
      "cell_type": "code",
      "metadata": {
        "id": "2D-yLHFv6M-g",
        "colab": {
          "base_uri": "https://localhost:8080/"
        },
        "outputId": "68209c86-a857-49ac-8093-84a4cdcef4f4"
      },
      "source": [
        "## 격자별 출동빈도 지수 테이블\n",
        "rect_table[\"DSP_CNT_IDEX\"].describe()"
      ],
      "execution_count": null,
      "outputs": [
        {
          "output_type": "execute_result",
          "data": {
            "text/plain": [
              "count    687.00000\n",
              "mean      23.97962\n",
              "std       88.92559\n",
              "min        0.00000\n",
              "25%        1.00000\n",
              "50%        4.00000\n",
              "75%       11.00000\n",
              "max     1085.00000\n",
              "Name: DSP_CNT_IDEX, dtype: float64"
            ]
          },
          "metadata": {},
          "execution_count": 11
        }
      ]
    },
    {
      "cell_type": "code",
      "metadata": {
        "id": "c5KCiNaf6Qmi",
        "colab": {
          "base_uri": "https://localhost:8080/"
        },
        "outputId": "796d7337-e85b-4794-c247-82183b8bf043"
      },
      "source": [
        "# 1년간 500번 이상 출동된 격자 ID\n",
        "rect_table[\"DSP_CNT_IDEX\"][rect_table[\"DSP_CNT_IDEX\"] > 500]"
      ],
      "execution_count": null,
      "outputs": [
        {
          "output_type": "execute_result",
          "data": {
            "text/plain": [
              "GRID_ID\n",
              "39445274     708\n",
              "39545254    1085\n",
              "39545274     961\n",
              "39645244     511\n",
              "39645264     608\n",
              "Name: DSP_CNT_IDEX, dtype: int64"
            ]
          },
          "metadata": {},
          "execution_count": 12
        }
      ]
    },
    {
      "cell_type": "code",
      "metadata": {
        "id": "TfiFU5vd6Shj",
        "colab": {
          "base_uri": "https://localhost:8080/"
        },
        "outputId": "2e41abce-9f61-45d7-fe89-38ef5aa1869c"
      },
      "source": [
        "# 1년간 출동횟수가 0 인 격자 ID\n",
        "rect_table[\"DSP_CNT_IDEX\"][rect_table[\"DSP_CNT_IDEX\"] == 0]"
      ],
      "execution_count": null,
      "outputs": [
        {
          "output_type": "execute_result",
          "data": {
            "text/plain": [
              "GRID_ID\n",
              "37845174    0\n",
              "37845184    0\n",
              "37845214    0\n",
              "37845264    0\n",
              "37845274    0\n",
              "           ..\n",
              "40845334    0\n",
              "40845344    0\n",
              "41445124    0\n",
              "41545154    0\n",
              "41745204    0\n",
              "Name: DSP_CNT_IDEX, Length: 92, dtype: int64"
            ]
          },
          "metadata": {},
          "execution_count": 13
        }
      ]
    },
    {
      "cell_type": "markdown",
      "metadata": {
        "id": "jSK97M7T6Vsc"
      },
      "source": [
        "## 2). 시간대별 출동 빈도 지수 비교"
      ]
    },
    {
      "cell_type": "code",
      "metadata": {
        "id": "Chul1Dmhmjcd",
        "colab": {
          "base_uri": "https://localhost:8080/",
          "height": 833
        },
        "outputId": "2103f705-f294-4a08-8c96-bfa2f64e8e07"
      },
      "source": [
        "import numpy as np\n",
        "\n",
        "# pivot_table 함수\n",
        "time_idex = pd.pivot_table(df, values= [\"DSP_CNT_IDEX\"] , index=['TIME'], aggfunc=np.mean)\n",
        "time_idex[\"HOUR\"] = time_idex.index.values\n",
        "time_idex\n"
      ],
      "execution_count": null,
      "outputs": [
        {
          "output_type": "execute_result",
          "data": {
            "text/html": [
              "<div>\n",
              "<style scoped>\n",
              "    .dataframe tbody tr th:only-of-type {\n",
              "        vertical-align: middle;\n",
              "    }\n",
              "\n",
              "    .dataframe tbody tr th {\n",
              "        vertical-align: top;\n",
              "    }\n",
              "\n",
              "    .dataframe thead th {\n",
              "        text-align: right;\n",
              "    }\n",
              "</style>\n",
              "<table border=\"1\" class=\"dataframe\">\n",
              "  <thead>\n",
              "    <tr style=\"text-align: right;\">\n",
              "      <th></th>\n",
              "      <th>DSP_CNT_IDEX</th>\n",
              "      <th>HOUR</th>\n",
              "    </tr>\n",
              "    <tr>\n",
              "      <th>TIME</th>\n",
              "      <th></th>\n",
              "      <th></th>\n",
              "    </tr>\n",
              "  </thead>\n",
              "  <tbody>\n",
              "    <tr>\n",
              "      <th>0</th>\n",
              "      <td>0.01304</td>\n",
              "      <td>0</td>\n",
              "    </tr>\n",
              "    <tr>\n",
              "      <th>1</th>\n",
              "      <td>0.01118</td>\n",
              "      <td>1</td>\n",
              "    </tr>\n",
              "    <tr>\n",
              "      <th>2</th>\n",
              "      <td>0.00851</td>\n",
              "      <td>2</td>\n",
              "    </tr>\n",
              "    <tr>\n",
              "      <th>3</th>\n",
              "      <td>0.00807</td>\n",
              "      <td>3</td>\n",
              "    </tr>\n",
              "    <tr>\n",
              "      <th>4</th>\n",
              "      <td>0.00769</td>\n",
              "      <td>4</td>\n",
              "    </tr>\n",
              "    <tr>\n",
              "      <th>5</th>\n",
              "      <td>0.00776</td>\n",
              "      <td>5</td>\n",
              "    </tr>\n",
              "    <tr>\n",
              "      <th>6</th>\n",
              "      <td>0.00867</td>\n",
              "      <td>6</td>\n",
              "    </tr>\n",
              "    <tr>\n",
              "      <th>7</th>\n",
              "      <td>0.00914</td>\n",
              "      <td>7</td>\n",
              "    </tr>\n",
              "    <tr>\n",
              "      <th>8</th>\n",
              "      <td>0.01097</td>\n",
              "      <td>8</td>\n",
              "    </tr>\n",
              "    <tr>\n",
              "      <th>9</th>\n",
              "      <td>0.01048</td>\n",
              "      <td>9</td>\n",
              "    </tr>\n",
              "    <tr>\n",
              "      <th>10</th>\n",
              "      <td>0.01005</td>\n",
              "      <td>10</td>\n",
              "    </tr>\n",
              "    <tr>\n",
              "      <th>11</th>\n",
              "      <td>0.00886</td>\n",
              "      <td>11</td>\n",
              "    </tr>\n",
              "    <tr>\n",
              "      <th>12</th>\n",
              "      <td>0.00858</td>\n",
              "      <td>12</td>\n",
              "    </tr>\n",
              "    <tr>\n",
              "      <th>13</th>\n",
              "      <td>0.00923</td>\n",
              "      <td>13</td>\n",
              "    </tr>\n",
              "    <tr>\n",
              "      <th>14</th>\n",
              "      <td>0.00907</td>\n",
              "      <td>14</td>\n",
              "    </tr>\n",
              "    <tr>\n",
              "      <th>15</th>\n",
              "      <td>0.00914</td>\n",
              "      <td>15</td>\n",
              "    </tr>\n",
              "    <tr>\n",
              "      <th>16</th>\n",
              "      <td>0.00874</td>\n",
              "      <td>16</td>\n",
              "    </tr>\n",
              "    <tr>\n",
              "      <th>17</th>\n",
              "      <td>0.00900</td>\n",
              "      <td>17</td>\n",
              "    </tr>\n",
              "    <tr>\n",
              "      <th>18</th>\n",
              "      <td>0.00925</td>\n",
              "      <td>18</td>\n",
              "    </tr>\n",
              "    <tr>\n",
              "      <th>19</th>\n",
              "      <td>0.00936</td>\n",
              "      <td>19</td>\n",
              "    </tr>\n",
              "    <tr>\n",
              "      <th>20</th>\n",
              "      <td>0.00966</td>\n",
              "      <td>20</td>\n",
              "    </tr>\n",
              "    <tr>\n",
              "      <th>21</th>\n",
              "      <td>0.00952</td>\n",
              "      <td>21</td>\n",
              "    </tr>\n",
              "    <tr>\n",
              "      <th>22</th>\n",
              "      <td>0.00908</td>\n",
              "      <td>22</td>\n",
              "    </tr>\n",
              "    <tr>\n",
              "      <th>23</th>\n",
              "      <td>0.00879</td>\n",
              "      <td>23</td>\n",
              "    </tr>\n",
              "  </tbody>\n",
              "</table>\n",
              "</div>"
            ],
            "text/plain": [
              "      DSP_CNT_IDEX  HOUR\n",
              "TIME                    \n",
              "0          0.01304     0\n",
              "1          0.01118     1\n",
              "2          0.00851     2\n",
              "3          0.00807     3\n",
              "4          0.00769     4\n",
              "5          0.00776     5\n",
              "6          0.00867     6\n",
              "7          0.00914     7\n",
              "8          0.01097     8\n",
              "9          0.01048     9\n",
              "10         0.01005    10\n",
              "11         0.00886    11\n",
              "12         0.00858    12\n",
              "13         0.00923    13\n",
              "14         0.00907    14\n",
              "15         0.00914    15\n",
              "16         0.00874    16\n",
              "17         0.00900    17\n",
              "18         0.00925    18\n",
              "19         0.00936    19\n",
              "20         0.00966    20\n",
              "21         0.00952    21\n",
              "22         0.00908    22\n",
              "23         0.00879    23"
            ]
          },
          "metadata": {},
          "execution_count": 14
        }
      ]
    },
    {
      "cell_type": "code",
      "metadata": {
        "id": "fjzsoPobmlHB",
        "colab": {
          "base_uri": "https://localhost:8080/",
          "height": 570
        },
        "outputId": "7a416e3f-0df3-4939-ff16-a10176d357b0"
      },
      "source": [
        "import matplotlib.pyplot as plt\n",
        "import seaborn as sns\n",
        "\n",
        "# seaborn barplot\n",
        "plt.figure(figsize = (16,9))\n",
        "sns.barplot(x=\"HOUR\", y=\"DSP_CNT_IDEX\", data=time_idex)"
      ],
      "execution_count": null,
      "outputs": [
        {
          "output_type": "execute_result",
          "data": {
            "text/plain": [
              "<matplotlib.axes._subplots.AxesSubplot at 0x7f58f64dfa50>"
            ]
          },
          "metadata": {},
          "execution_count": 15
        },
        {
          "output_type": "display_data",
          "data": {
            "image/png": "[encoded data removed]",
            "text/plain": [
              "<Figure size 1152x648 with 1 Axes>"
            ]
          },
          "metadata": {
            "needs_background": "light"
          }
        }
      ]
    },
    {
      "cell_type": "markdown",
      "metadata": {
        "id": "n-3wZq9YmrC6"
      },
      "source": [
        "## **3). 요일별 출동 빈도 시각화**"
      ]
    },
    {
      "cell_type": "code",
      "metadata": {
        "id": "C7L4ke4fms4A",
        "colab": {
          "base_uri": "https://localhost:8080/",
          "height": 300
        },
        "outputId": "f6950e19-eacb-46bc-8839-bcf5f6161039"
      },
      "source": [
        "\n",
        "weekday_idx = pd.pivot_table(df, values= \"DSP_CNT_IDEX\" , index=['WEEKDAY'], aggfunc=np.mean)\n",
        "weekday_idx[\"WEEKDAY\"] = weekday_idx.index.values\n",
        "weekday_idx\n",
        "\n"
      ],
      "execution_count": null,
      "outputs": [
        {
          "output_type": "execute_result",
          "data": {
            "text/html": [
              "<div>\n",
              "<style scoped>\n",
              "    .dataframe tbody tr th:only-of-type {\n",
              "        vertical-align: middle;\n",
              "    }\n",
              "\n",
              "    .dataframe tbody tr th {\n",
              "        vertical-align: top;\n",
              "    }\n",
              "\n",
              "    .dataframe thead th {\n",
              "        text-align: right;\n",
              "    }\n",
              "</style>\n",
              "<table border=\"1\" class=\"dataframe\">\n",
              "  <thead>\n",
              "    <tr style=\"text-align: right;\">\n",
              "      <th></th>\n",
              "      <th>DSP_CNT_IDEX</th>\n",
              "      <th>WEEKDAY</th>\n",
              "    </tr>\n",
              "    <tr>\n",
              "      <th>WEEKDAY</th>\n",
              "      <th></th>\n",
              "      <th></th>\n",
              "    </tr>\n",
              "  </thead>\n",
              "  <tbody>\n",
              "    <tr>\n",
              "      <th>0</th>\n",
              "      <td>0.01007</td>\n",
              "      <td>0</td>\n",
              "    </tr>\n",
              "    <tr>\n",
              "      <th>1</th>\n",
              "      <td>0.00953</td>\n",
              "      <td>1</td>\n",
              "    </tr>\n",
              "    <tr>\n",
              "      <th>2</th>\n",
              "      <td>0.00946</td>\n",
              "      <td>2</td>\n",
              "    </tr>\n",
              "    <tr>\n",
              "      <th>3</th>\n",
              "      <td>0.00912</td>\n",
              "      <td>3</td>\n",
              "    </tr>\n",
              "    <tr>\n",
              "      <th>4</th>\n",
              "      <td>0.00929</td>\n",
              "      <td>4</td>\n",
              "    </tr>\n",
              "    <tr>\n",
              "      <th>5</th>\n",
              "      <td>0.00880</td>\n",
              "      <td>5</td>\n",
              "    </tr>\n",
              "    <tr>\n",
              "      <th>6</th>\n",
              "      <td>0.00900</td>\n",
              "      <td>6</td>\n",
              "    </tr>\n",
              "  </tbody>\n",
              "</table>\n",
              "</div>"
            ],
            "text/plain": [
              "         DSP_CNT_IDEX  WEEKDAY\n",
              "WEEKDAY                       \n",
              "0             0.01007        0\n",
              "1             0.00953        1\n",
              "2             0.00946        2\n",
              "3             0.00912        3\n",
              "4             0.00929        4\n",
              "5             0.00880        5\n",
              "6             0.00900        6"
            ]
          },
          "metadata": {},
          "execution_count": 16
        }
      ]
    },
    {
      "cell_type": "code",
      "metadata": {
        "id": "QjnsBoAOmuCr",
        "colab": {
          "base_uri": "https://localhost:8080/",
          "height": 570
        },
        "outputId": "b760e207-4c1f-447b-a9d2-c02b52a2b0e3"
      },
      "source": [
        "plt.figure(figsize = (16,9))\n",
        "sns.barplot(x=\"WEEKDAY\", y=\"DSP_CNT_IDEX\", data=weekday_idx)\n"
      ],
      "execution_count": null,
      "outputs": [
        {
          "output_type": "execute_result",
          "data": {
            "text/plain": [
              "<matplotlib.axes._subplots.AxesSubplot at 0x7f5905fde690>"
            ]
          },
          "metadata": {},
          "execution_count": 17
        },
        {
          "output_type": "display_data",
          "data": {
            "image/png": "[encoded data removed]",
            "text/plain": [
              "<Figure size 1152x648 with 1 Axes>"
            ]
          },
          "metadata": {
            "needs_background": "light"
          }
        }
      ]
    },
    {
      "cell_type": "markdown",
      "metadata": {
        "id": "X9mB8UP2mnIf"
      },
      "source": [
        "## **4). 월별 출동 빈도 지수 시각화**"
      ]
    },
    {
      "cell_type": "code",
      "metadata": {
        "id": "y8Uh9WoamnqC",
        "colab": {
          "base_uri": "https://localhost:8080/",
          "height": 457
        },
        "outputId": "db4fa522-2a1c-432a-bfa6-8d10e24bf61b"
      },
      "source": [
        "\n",
        "month_idx = pd.pivot_table(df, values= [\"DSP_CNT_IDEX\"] , index=['MONTH'], aggfunc=np.mean)\n",
        "month_idx[\"MONTH\"] = month_idx.index.values\n",
        "month_idx\n",
        "\n"
      ],
      "execution_count": null,
      "outputs": [
        {
          "output_type": "execute_result",
          "data": {
            "text/html": [
              "<div>\n",
              "<style scoped>\n",
              "    .dataframe tbody tr th:only-of-type {\n",
              "        vertical-align: middle;\n",
              "    }\n",
              "\n",
              "    .dataframe tbody tr th {\n",
              "        vertical-align: top;\n",
              "    }\n",
              "\n",
              "    .dataframe thead th {\n",
              "        text-align: right;\n",
              "    }\n",
              "</style>\n",
              "<table border=\"1\" class=\"dataframe\">\n",
              "  <thead>\n",
              "    <tr style=\"text-align: right;\">\n",
              "      <th></th>\n",
              "      <th>DSP_CNT_IDEX</th>\n",
              "      <th>MONTH</th>\n",
              "    </tr>\n",
              "    <tr>\n",
              "      <th>MONTH</th>\n",
              "      <th></th>\n",
              "      <th></th>\n",
              "    </tr>\n",
              "  </thead>\n",
              "  <tbody>\n",
              "    <tr>\n",
              "      <th>1</th>\n",
              "      <td>0.00935</td>\n",
              "      <td>1</td>\n",
              "    </tr>\n",
              "    <tr>\n",
              "      <th>2</th>\n",
              "      <td>0.00969</td>\n",
              "      <td>2</td>\n",
              "    </tr>\n",
              "    <tr>\n",
              "      <th>3</th>\n",
              "      <td>0.00851</td>\n",
              "      <td>3</td>\n",
              "    </tr>\n",
              "    <tr>\n",
              "      <th>4</th>\n",
              "      <td>0.00884</td>\n",
              "      <td>4</td>\n",
              "    </tr>\n",
              "    <tr>\n",
              "      <th>5</th>\n",
              "      <td>0.00942</td>\n",
              "      <td>5</td>\n",
              "    </tr>\n",
              "    <tr>\n",
              "      <th>6</th>\n",
              "      <td>0.00975</td>\n",
              "      <td>6</td>\n",
              "    </tr>\n",
              "    <tr>\n",
              "      <th>7</th>\n",
              "      <td>0.00975</td>\n",
              "      <td>7</td>\n",
              "    </tr>\n",
              "    <tr>\n",
              "      <th>8</th>\n",
              "      <td>0.01051</td>\n",
              "      <td>8</td>\n",
              "    </tr>\n",
              "    <tr>\n",
              "      <th>9</th>\n",
              "      <td>0.00936</td>\n",
              "      <td>9</td>\n",
              "    </tr>\n",
              "    <tr>\n",
              "      <th>10</th>\n",
              "      <td>0.00918</td>\n",
              "      <td>10</td>\n",
              "    </tr>\n",
              "    <tr>\n",
              "      <th>11</th>\n",
              "      <td>0.00872</td>\n",
              "      <td>11</td>\n",
              "    </tr>\n",
              "    <tr>\n",
              "      <th>12</th>\n",
              "      <td>0.00849</td>\n",
              "      <td>12</td>\n",
              "    </tr>\n",
              "  </tbody>\n",
              "</table>\n",
              "</div>"
            ],
            "text/plain": [
              "       DSP_CNT_IDEX  MONTH\n",
              "MONTH                     \n",
              "1           0.00935      1\n",
              "2           0.00969      2\n",
              "3           0.00851      3\n",
              "4           0.00884      4\n",
              "5           0.00942      5\n",
              "6           0.00975      6\n",
              "7           0.00975      7\n",
              "8           0.01051      8\n",
              "9           0.00936      9\n",
              "10          0.00918     10\n",
              "11          0.00872     11\n",
              "12          0.00849     12"
            ]
          },
          "metadata": {},
          "execution_count": 18
        }
      ]
    },
    {
      "cell_type": "code",
      "metadata": {
        "id": "5o5ee8uCr9Bs",
        "colab": {
          "base_uri": "https://localhost:8080/",
          "height": 570
        },
        "outputId": "ab5b3342-0d22-4793-b8b8-563ddaca3223"
      },
      "source": [
        "plt.figure(figsize = (16,9))\n",
        "sns.barplot(x=\"MONTH\", y=\"DSP_CNT_IDEX\", data=month_idx)"
      ],
      "execution_count": null,
      "outputs": [
        {
          "output_type": "execute_result",
          "data": {
            "text/plain": [
              "<matplotlib.axes._subplots.AxesSubplot at 0x7f58f56916d0>"
            ]
          },
          "metadata": {},
          "execution_count": 19
        },
        {
          "output_type": "display_data",
          "data": {
            "image/png": "[encoded data removed]",
            "text/plain": [
              "<Figure size 1152x648 with 1 Axes>"
            ]
          },
          "metadata": {
            "needs_background": "light"
          }
        }
      ]
    },
    {
      "cell_type": "markdown",
      "metadata": {
        "id": "sfthXt1rm_L-"
      },
      "source": [
        "# **III. 전처리 및 학습데이터셋 생성**"
      ]
    },
    {
      "cell_type": "markdown",
      "metadata": {
        "id": "mdMmNngloAzJ"
      },
      "source": [
        "## **1). 출동 빈도가 높은 데이터 추출**"
      ]
    },
    {
      "cell_type": "code",
      "metadata": {
        "id": "LMuIHTvqMQNu",
        "colab": {
          "base_uri": "https://localhost:8080/"
        },
        "outputId": "a055d60f-5ce9-44ca-fe68-d93869570123"
      },
      "source": [
        "## 격자 중에 출동이 50 번이 넘게 COUNT 되는 격자 추출 = 46개 격자\n",
        "many_dsp = np.where(rect_table[\"DSP_CNT_IDEX\"] > 50)[0]\n",
        "many_dsp , len(rect_table.values[many_dsp])"
      ],
      "execution_count": null,
      "outputs": [
        {
          "output_type": "execute_result",
          "data": {
            "text/plain": [
              "(array([121, 145, 146, 171, 268, 340, 342, 365, 368, 369, 370, 371, 394,\n",
              "        395, 396, 397, 398, 399, 400, 402, 419, 420, 421, 422, 423, 425,\n",
              "        426, 428, 436, 437, 438, 439, 440, 441, 442, 443, 444, 447, 455,\n",
              "        456, 457, 458, 475, 477, 497, 621]), 46)"
            ]
          },
          "metadata": {},
          "execution_count": 20
        }
      ]
    },
    {
      "cell_type": "code",
      "metadata": {
        "id": "G6nUd3MEMT8R",
        "colab": {
          "base_uri": "https://localhost:8080/"
        },
        "outputId": "c0239829-dc3c-42cd-bd35-2633dd0c6f04"
      },
      "source": [
        "# 격자 중에 출동이 50 번이 넘게 COUNT 되는 격자 GRID_ID 값들\n",
        "many_dsp_GRID_ID = rect_table.index.values[many_dsp]\n",
        "many_dsp_GRID_ID"
      ],
      "execution_count": null,
      "outputs": [
        {
          "output_type": "execute_result",
          "data": {
            "text/plain": [
              "array([38345224, 38445234, 38445244, 38545244, 38945304, 39245194,\n",
              "       39245214, 39345224, 39345254, 39345264, 39345274, 39345284,\n",
              "       39445244, 39445254, 39445264, 39445274, 39445284, 39445294,\n",
              "       39445304, 39445324, 39545244, 39545254, 39545264, 39545274,\n",
              "       39545284, 39545304, 39545314, 39545334, 39645234, 39645244,\n",
              "       39645254, 39645264, 39645274, 39645284, 39645294, 39645304,\n",
              "       39645314, 39645344, 39745234, 39745244, 39745254, 39745264,\n",
              "       39845244, 39845264, 39945254, 40745144])"
            ]
          },
          "metadata": {},
          "execution_count": 21
        }
      ]
    },
    {
      "cell_type": "code",
      "metadata": {
        "id": "XAdZY3T4Mydv",
        "colab": {
          "base_uri": "https://localhost:8080/",
          "height": 443
        },
        "outputId": "788677f9-72c2-4859-9b33-01faa3c12b3b"
      },
      "source": [
        "many_dsp_df = df[df[\"GRID_ID\"].apply(lambda x :  x in many_dsp_GRID_ID)]\n",
        "\n",
        "# 38만 ROW 데이터\n",
        "many_dsp_df"
      ],
      "execution_count": null,
      "outputs": [
        {
          "output_type": "execute_result",
          "data": {
            "text/html": [
              "<div>\n",
              "<style scoped>\n",
              "    .dataframe tbody tr th:only-of-type {\n",
              "        vertical-align: middle;\n",
              "    }\n",
              "\n",
              "    .dataframe tbody tr th {\n",
              "        vertical-align: top;\n",
              "    }\n",
              "\n",
              "    .dataframe thead th {\n",
              "        text-align: right;\n",
              "    }\n",
              "</style>\n",
              "<table border=\"1\" class=\"dataframe\">\n",
              "  <thead>\n",
              "    <tr style=\"text-align: right;\">\n",
              "      <th></th>\n",
              "      <th>GRID_ID</th>\n",
              "      <th>GRID_X_AXIS</th>\n",
              "      <th>GRID_Y_AXIS</th>\n",
              "      <th>TIME</th>\n",
              "      <th>YMD</th>\n",
              "      <th>STDG_CD</th>\n",
              "      <th>FP_IDEX</th>\n",
              "      <th>OLD_FP_IDEX</th>\n",
              "      <th>RELIFPLC_DWL_IDEX</th>\n",
              "      <th>RELIFPLC_ROAD_IDEX</th>\n",
              "      <th>RELIFPLC_INDUST_IDEX</th>\n",
              "      <th>RELIFPLC_NTR_IDEX</th>\n",
              "      <th>RELIFPLC_ETC_IDEX</th>\n",
              "      <th>DSP_CNT_IDEX</th>\n",
              "      <th>DISEASE_DSP_IDEX</th>\n",
              "      <th>DISEASE_EXCL_DSP_IDEX</th>\n",
              "      <th>MONTH</th>\n",
              "      <th>DAY</th>\n",
              "      <th>WEEKDAY</th>\n",
              "    </tr>\n",
              "  </thead>\n",
              "  <tbody>\n",
              "    <tr>\n",
              "      <th>12</th>\n",
              "      <td>38345224</td>\n",
              "      <td>383475</td>\n",
              "      <td>522475</td>\n",
              "      <td>0</td>\n",
              "      <td>20200101</td>\n",
              "      <td>4213000000</td>\n",
              "      <td>4.18000</td>\n",
              "      <td>0.34000</td>\n",
              "      <td>0</td>\n",
              "      <td>0</td>\n",
              "      <td>0</td>\n",
              "      <td>0</td>\n",
              "      <td>0</td>\n",
              "      <td>0</td>\n",
              "      <td>0</td>\n",
              "      <td>0</td>\n",
              "      <td>1</td>\n",
              "      <td>1</td>\n",
              "      <td>2</td>\n",
              "    </tr>\n",
              "    <tr>\n",
              "      <th>19</th>\n",
              "      <td>38445234</td>\n",
              "      <td>384475</td>\n",
              "      <td>523475</td>\n",
              "      <td>0</td>\n",
              "      <td>20200101</td>\n",
              "      <td>4213000000</td>\n",
              "      <td>340.74000</td>\n",
              "      <td>28.71000</td>\n",
              "      <td>0</td>\n",
              "      <td>0</td>\n",
              "      <td>0</td>\n",
              "      <td>0</td>\n",
              "      <td>0</td>\n",
              "      <td>0</td>\n",
              "      <td>0</td>\n",
              "      <td>0</td>\n",
              "      <td>1</td>\n",
              "      <td>1</td>\n",
              "      <td>2</td>\n",
              "    </tr>\n",
              "    <tr>\n",
              "      <th>20</th>\n",
              "      <td>38445244</td>\n",
              "      <td>384475</td>\n",
              "      <td>524475</td>\n",
              "      <td>0</td>\n",
              "      <td>20200101</td>\n",
              "      <td>4213000000</td>\n",
              "      <td>156.82000</td>\n",
              "      <td>9.65000</td>\n",
              "      <td>0</td>\n",
              "      <td>0</td>\n",
              "      <td>0</td>\n",
              "      <td>0</td>\n",
              "      <td>0</td>\n",
              "      <td>0</td>\n",
              "      <td>0</td>\n",
              "      <td>0</td>\n",
              "      <td>1</td>\n",
              "      <td>1</td>\n",
              "      <td>2</td>\n",
              "    </tr>\n",
              "    <tr>\n",
              "      <th>27</th>\n",
              "      <td>38545244</td>\n",
              "      <td>385475</td>\n",
              "      <td>524475</td>\n",
              "      <td>0</td>\n",
              "      <td>20200101</td>\n",
              "      <td>4213000000</td>\n",
              "      <td>219.92000</td>\n",
              "      <td>13.15000</td>\n",
              "      <td>0</td>\n",
              "      <td>0</td>\n",
              "      <td>0</td>\n",
              "      <td>0</td>\n",
              "      <td>0</td>\n",
              "      <td>0</td>\n",
              "      <td>0</td>\n",
              "      <td>0</td>\n",
              "      <td>1</td>\n",
              "      <td>1</td>\n",
              "      <td>2</td>\n",
              "    </tr>\n",
              "    <tr>\n",
              "      <th>49</th>\n",
              "      <td>38945304</td>\n",
              "      <td>389475</td>\n",
              "      <td>530475</td>\n",
              "      <td>0</td>\n",
              "      <td>20200101</td>\n",
              "      <td>4213000000</td>\n",
              "      <td>51.71000</td>\n",
              "      <td>1.40000</td>\n",
              "      <td>0</td>\n",
              "      <td>0</td>\n",
              "      <td>0</td>\n",
              "      <td>0</td>\n",
              "      <td>0</td>\n",
              "      <td>0</td>\n",
              "      <td>0</td>\n",
              "      <td>0</td>\n",
              "      <td>1</td>\n",
              "      <td>1</td>\n",
              "      <td>2</td>\n",
              "    </tr>\n",
              "    <tr>\n",
              "      <th>...</th>\n",
              "      <td>...</td>\n",
              "      <td>...</td>\n",
              "      <td>...</td>\n",
              "      <td>...</td>\n",
              "      <td>...</td>\n",
              "      <td>...</td>\n",
              "      <td>...</td>\n",
              "      <td>...</td>\n",
              "      <td>...</td>\n",
              "      <td>...</td>\n",
              "      <td>...</td>\n",
              "      <td>...</td>\n",
              "      <td>...</td>\n",
              "      <td>...</td>\n",
              "      <td>...</td>\n",
              "      <td>...</td>\n",
              "      <td>...</td>\n",
              "      <td>...</td>\n",
              "      <td>...</td>\n",
              "    </tr>\n",
              "    <tr>\n",
              "      <th>1769032</th>\n",
              "      <td>39745264</td>\n",
              "      <td>397475</td>\n",
              "      <td>526475</td>\n",
              "      <td>23</td>\n",
              "      <td>20201230</td>\n",
              "      <td>4213000000</td>\n",
              "      <td>3865.51000</td>\n",
              "      <td>331.79000</td>\n",
              "      <td>0</td>\n",
              "      <td>0</td>\n",
              "      <td>0</td>\n",
              "      <td>0</td>\n",
              "      <td>0</td>\n",
              "      <td>0</td>\n",
              "      <td>0</td>\n",
              "      <td>0</td>\n",
              "      <td>12</td>\n",
              "      <td>30</td>\n",
              "      <td>2</td>\n",
              "    </tr>\n",
              "    <tr>\n",
              "      <th>1769045</th>\n",
              "      <td>39845244</td>\n",
              "      <td>398475</td>\n",
              "      <td>524475</td>\n",
              "      <td>23</td>\n",
              "      <td>20201230</td>\n",
              "      <td>4213000000</td>\n",
              "      <td>984.48000</td>\n",
              "      <td>48.15000</td>\n",
              "      <td>0</td>\n",
              "      <td>0</td>\n",
              "      <td>0</td>\n",
              "      <td>0</td>\n",
              "      <td>0</td>\n",
              "      <td>0</td>\n",
              "      <td>0</td>\n",
              "      <td>0</td>\n",
              "      <td>12</td>\n",
              "      <td>30</td>\n",
              "      <td>2</td>\n",
              "    </tr>\n",
              "    <tr>\n",
              "      <th>1769047</th>\n",
              "      <td>39845264</td>\n",
              "      <td>398475</td>\n",
              "      <td>526475</td>\n",
              "      <td>23</td>\n",
              "      <td>20201230</td>\n",
              "      <td>4213000000</td>\n",
              "      <td>516.59000</td>\n",
              "      <td>67.30000</td>\n",
              "      <td>0</td>\n",
              "      <td>0</td>\n",
              "      <td>0</td>\n",
              "      <td>0</td>\n",
              "      <td>0</td>\n",
              "      <td>0</td>\n",
              "      <td>0</td>\n",
              "      <td>0</td>\n",
              "      <td>12</td>\n",
              "      <td>30</td>\n",
              "      <td>2</td>\n",
              "    </tr>\n",
              "    <tr>\n",
              "      <th>1769057</th>\n",
              "      <td>39945254</td>\n",
              "      <td>399475</td>\n",
              "      <td>525475</td>\n",
              "      <td>23</td>\n",
              "      <td>20201230</td>\n",
              "      <td>4213000000</td>\n",
              "      <td>1415.55000</td>\n",
              "      <td>84.09000</td>\n",
              "      <td>0</td>\n",
              "      <td>0</td>\n",
              "      <td>0</td>\n",
              "      <td>0</td>\n",
              "      <td>0</td>\n",
              "      <td>0</td>\n",
              "      <td>0</td>\n",
              "      <td>0</td>\n",
              "      <td>12</td>\n",
              "      <td>30</td>\n",
              "      <td>2</td>\n",
              "    </tr>\n",
              "    <tr>\n",
              "      <th>1769076</th>\n",
              "      <td>40745144</td>\n",
              "      <td>407475</td>\n",
              "      <td>514475</td>\n",
              "      <td>23</td>\n",
              "      <td>20201230</td>\n",
              "      <td>4213000000</td>\n",
              "      <td>6.17000</td>\n",
              "      <td>1.47000</td>\n",
              "      <td>0</td>\n",
              "      <td>0</td>\n",
              "      <td>0</td>\n",
              "      <td>0</td>\n",
              "      <td>0</td>\n",
              "      <td>0</td>\n",
              "      <td>0</td>\n",
              "      <td>0</td>\n",
              "      <td>12</td>\n",
              "      <td>30</td>\n",
              "      <td>2</td>\n",
              "    </tr>\n",
              "  </tbody>\n",
              "</table>\n",
              "<p>386050 rows × 19 columns</p>\n",
              "</div>"
            ],
            "text/plain": [
              "          GRID_ID  GRID_X_AXIS  GRID_Y_AXIS  ...  MONTH  DAY  WEEKDAY\n",
              "12       38345224       383475       522475  ...      1    1        2\n",
              "19       38445234       384475       523475  ...      1    1        2\n",
              "20       38445244       384475       524475  ...      1    1        2\n",
              "27       38545244       385475       524475  ...      1    1        2\n",
              "49       38945304       389475       530475  ...      1    1        2\n",
              "...           ...          ...          ...  ...    ...  ...      ...\n",
              "1769032  39745264       397475       526475  ...     12   30        2\n",
              "1769045  39845244       398475       524475  ...     12   30        2\n",
              "1769047  39845264       398475       526475  ...     12   30        2\n",
              "1769057  39945254       399475       525475  ...     12   30        2\n",
              "1769076  40745144       407475       514475  ...     12   30        2\n",
              "\n",
              "[386050 rows x 19 columns]"
            ]
          },
          "metadata": {},
          "execution_count": 22
        }
      ]
    },
    {
      "cell_type": "code",
      "metadata": {
        "id": "4h2gIidPN7eh"
      },
      "source": [
        "# 전체 데이터 대신 추출데이터 사용\n",
        "df = many_dsp_df"
      ],
      "execution_count": null,
      "outputs": []
    },
    {
      "cell_type": "markdown",
      "metadata": {
        "id": "W36x4pjvoaMi"
      },
      "source": [
        "## **2). One-Hot-Encoding**"
      ]
    },
    {
      "cell_type": "markdown",
      "metadata": {
        "id": "WlLn8EzUyttS"
      },
      "source": [
        "- **pd.get_dummies() : 범주형 변수를 희소행렬로 One-Hot-Encoding**"
      ]
    },
    {
      "cell_type": "code",
      "metadata": {
        "id": "qoEBscgfogVW",
        "colab": {
          "base_uri": "https://localhost:8080/",
          "height": 443
        },
        "outputId": "3e87e7a9-3722-425e-bceb-7ee952f800c6"
      },
      "source": [
        "ENC_GRID_ID_df = pd.get_dummies(df[\"GRID_ID\"])\n",
        "ENC_GRID_ID_df"
      ],
      "execution_count": null,
      "outputs": [
        {
          "output_type": "execute_result",
          "data": {
            "text/html": [
              "<div>\n",
              "<style scoped>\n",
              "    .dataframe tbody tr th:only-of-type {\n",
              "        vertical-align: middle;\n",
              "    }\n",
              "\n",
              "    .dataframe tbody tr th {\n",
              "        vertical-align: top;\n",
              "    }\n",
              "\n",
              "    .dataframe thead th {\n",
              "        text-align: right;\n",
              "    }\n",
              "</style>\n",
              "<table border=\"1\" class=\"dataframe\">\n",
              "  <thead>\n",
              "    <tr style=\"text-align: right;\">\n",
              "      <th></th>\n",
              "      <th>38345224</th>\n",
              "      <th>38445234</th>\n",
              "      <th>38445244</th>\n",
              "      <th>38545244</th>\n",
              "      <th>38945304</th>\n",
              "      <th>39245194</th>\n",
              "      <th>39245214</th>\n",
              "      <th>39345224</th>\n",
              "      <th>39345254</th>\n",
              "      <th>39345264</th>\n",
              "      <th>39345274</th>\n",
              "      <th>39345284</th>\n",
              "      <th>39445244</th>\n",
              "      <th>39445254</th>\n",
              "      <th>39445264</th>\n",
              "      <th>39445274</th>\n",
              "      <th>39445284</th>\n",
              "      <th>39445294</th>\n",
              "      <th>39445304</th>\n",
              "      <th>39445324</th>\n",
              "      <th>39545244</th>\n",
              "      <th>39545254</th>\n",
              "      <th>39545264</th>\n",
              "      <th>39545274</th>\n",
              "      <th>39545284</th>\n",
              "      <th>39545304</th>\n",
              "      <th>39545314</th>\n",
              "      <th>39545334</th>\n",
              "      <th>39645234</th>\n",
              "      <th>39645244</th>\n",
              "      <th>39645254</th>\n",
              "      <th>39645264</th>\n",
              "      <th>39645274</th>\n",
              "      <th>39645284</th>\n",
              "      <th>39645294</th>\n",
              "      <th>39645304</th>\n",
              "      <th>39645314</th>\n",
              "      <th>39645344</th>\n",
              "      <th>39745234</th>\n",
              "      <th>39745244</th>\n",
              "      <th>39745254</th>\n",
              "      <th>39745264</th>\n",
              "      <th>39845244</th>\n",
              "      <th>39845264</th>\n",
              "      <th>39945254</th>\n",
              "      <th>40745144</th>\n",
              "    </tr>\n",
              "  </thead>\n",
              "  <tbody>\n",
              "    <tr>\n",
              "      <th>12</th>\n",
              "      <td>1</td>\n",
              "      <td>0</td>\n",
              "      <td>0</td>\n",
              "      <td>0</td>\n",
              "      <td>0</td>\n",
              "      <td>0</td>\n",
              "      <td>0</td>\n",
              "      <td>0</td>\n",
              "      <td>0</td>\n",
              "      <td>0</td>\n",
              "      <td>0</td>\n",
              "      <td>0</td>\n",
              "      <td>0</td>\n",
              "      <td>0</td>\n",
              "      <td>0</td>\n",
              "      <td>0</td>\n",
              "      <td>0</td>\n",
              "      <td>0</td>\n",
              "      <td>0</td>\n",
              "      <td>0</td>\n",
              "      <td>0</td>\n",
              "      <td>0</td>\n",
              "      <td>0</td>\n",
              "      <td>0</td>\n",
              "      <td>0</td>\n",
              "      <td>0</td>\n",
              "      <td>0</td>\n",
              "      <td>0</td>\n",
              "      <td>0</td>\n",
              "      <td>0</td>\n",
              "      <td>0</td>\n",
              "      <td>0</td>\n",
              "      <td>0</td>\n",
              "      <td>0</td>\n",
              "      <td>0</td>\n",
              "      <td>0</td>\n",
              "      <td>0</td>\n",
              "      <td>0</td>\n",
              "      <td>0</td>\n",
              "      <td>0</td>\n",
              "      <td>0</td>\n",
              "      <td>0</td>\n",
              "      <td>0</td>\n",
              "      <td>0</td>\n",
              "      <td>0</td>\n",
              "      <td>0</td>\n",
              "    </tr>\n",
              "    <tr>\n",
              "      <th>19</th>\n",
              "      <td>0</td>\n",
              "      <td>1</td>\n",
              "      <td>0</td>\n",
              "      <td>0</td>\n",
              "      <td>0</td>\n",
              "      <td>0</td>\n",
              "      <td>0</td>\n",
              "      <td>0</td>\n",
              "      <td>0</td>\n",
              "      <td>0</td>\n",
              "      <td>0</td>\n",
              "      <td>0</td>\n",
              "      <td>0</td>\n",
              "      <td>0</td>\n",
              "      <td>0</td>\n",
              "      <td>0</td>\n",
              "      <td>0</td>\n",
              "      <td>0</td>\n",
              "      <td>0</td>\n",
              "      <td>0</td>\n",
              "      <td>0</td>\n",
              "      <td>0</td>\n",
              "      <td>0</td>\n",
              "      <td>0</td>\n",
              "      <td>0</td>\n",
              "      <td>0</td>\n",
              "      <td>0</td>\n",
              "      <td>0</td>\n",
              "      <td>0</td>\n",
              "      <td>0</td>\n",
              "      <td>0</td>\n",
              "      <td>0</td>\n",
              "      <td>0</td>\n",
              "      <td>0</td>\n",
              "      <td>0</td>\n",
              "      <td>0</td>\n",
              "      <td>0</td>\n",
              "      <td>0</td>\n",
              "      <td>0</td>\n",
              "      <td>0</td>\n",
              "      <td>0</td>\n",
              "      <td>0</td>\n",
              "      <td>0</td>\n",
              "      <td>0</td>\n",
              "      <td>0</td>\n",
              "      <td>0</td>\n",
              "    </tr>\n",
              "    <tr>\n",
              "      <th>20</th>\n",
              "      <td>0</td>\n",
              "      <td>0</td>\n",
              "      <td>1</td>\n",
              "      <td>0</td>\n",
              "      <td>0</td>\n",
              "      <td>0</td>\n",
              "      <td>0</td>\n",
              "      <td>0</td>\n",
              "      <td>0</td>\n",
              "      <td>0</td>\n",
              "      <td>0</td>\n",
              "      <td>0</td>\n",
              "      <td>0</td>\n",
              "      <td>0</td>\n",
              "      <td>0</td>\n",
              "      <td>0</td>\n",
              "      <td>0</td>\n",
              "      <td>0</td>\n",
              "      <td>0</td>\n",
              "      <td>0</td>\n",
              "      <td>0</td>\n",
              "      <td>0</td>\n",
              "      <td>0</td>\n",
              "      <td>0</td>\n",
              "      <td>0</td>\n",
              "      <td>0</td>\n",
              "      <td>0</td>\n",
              "      <td>0</td>\n",
              "      <td>0</td>\n",
              "      <td>0</td>\n",
              "      <td>0</td>\n",
              "      <td>0</td>\n",
              "      <td>0</td>\n",
              "      <td>0</td>\n",
              "      <td>0</td>\n",
              "      <td>0</td>\n",
              "      <td>0</td>\n",
              "      <td>0</td>\n",
              "      <td>0</td>\n",
              "      <td>0</td>\n",
              "      <td>0</td>\n",
              "      <td>0</td>\n",
              "      <td>0</td>\n",
              "      <td>0</td>\n",
              "      <td>0</td>\n",
              "      <td>0</td>\n",
              "    </tr>\n",
              "    <tr>\n",
              "      <th>27</th>\n",
              "      <td>0</td>\n",
              "      <td>0</td>\n",
              "      <td>0</td>\n",
              "      <td>1</td>\n",
              "      <td>0</td>\n",
              "      <td>0</td>\n",
              "      <td>0</td>\n",
              "      <td>0</td>\n",
              "      <td>0</td>\n",
              "      <td>0</td>\n",
              "      <td>0</td>\n",
              "      <td>0</td>\n",
              "      <td>0</td>\n",
              "      <td>0</td>\n",
              "      <td>0</td>\n",
              "      <td>0</td>\n",
              "      <td>0</td>\n",
              "      <td>0</td>\n",
              "      <td>0</td>\n",
              "      <td>0</td>\n",
              "      <td>0</td>\n",
              "      <td>0</td>\n",
              "      <td>0</td>\n",
              "      <td>0</td>\n",
              "      <td>0</td>\n",
              "      <td>0</td>\n",
              "      <td>0</td>\n",
              "      <td>0</td>\n",
              "      <td>0</td>\n",
              "      <td>0</td>\n",
              "      <td>0</td>\n",
              "      <td>0</td>\n",
              "      <td>0</td>\n",
              "      <td>0</td>\n",
              "      <td>0</td>\n",
              "      <td>0</td>\n",
              "      <td>0</td>\n",
              "      <td>0</td>\n",
              "      <td>0</td>\n",
              "      <td>0</td>\n",
              "      <td>0</td>\n",
              "      <td>0</td>\n",
              "      <td>0</td>\n",
              "      <td>0</td>\n",
              "      <td>0</td>\n",
              "      <td>0</td>\n",
              "    </tr>\n",
              "    <tr>\n",
              "      <th>49</th>\n",
              "      <td>0</td>\n",
              "      <td>0</td>\n",
              "      <td>0</td>\n",
              "      <td>0</td>\n",
              "      <td>1</td>\n",
              "      <td>0</td>\n",
              "      <td>0</td>\n",
              "      <td>0</td>\n",
              "      <td>0</td>\n",
              "      <td>0</td>\n",
              "      <td>0</td>\n",
              "      <td>0</td>\n",
              "      <td>0</td>\n",
              "      <td>0</td>\n",
              "      <td>0</td>\n",
              "      <td>0</td>\n",
              "      <td>0</td>\n",
              "      <td>0</td>\n",
              "      <td>0</td>\n",
              "      <td>0</td>\n",
              "      <td>0</td>\n",
              "      <td>0</td>\n",
              "      <td>0</td>\n",
              "      <td>0</td>\n",
              "      <td>0</td>\n",
              "      <td>0</td>\n",
              "      <td>0</td>\n",
              "      <td>0</td>\n",
              "      <td>0</td>\n",
              "      <td>0</td>\n",
              "      <td>0</td>\n",
              "      <td>0</td>\n",
              "      <td>0</td>\n",
              "      <td>0</td>\n",
              "      <td>0</td>\n",
              "      <td>0</td>\n",
              "      <td>0</td>\n",
              "      <td>0</td>\n",
              "      <td>0</td>\n",
              "      <td>0</td>\n",
              "      <td>0</td>\n",
              "      <td>0</td>\n",
              "      <td>0</td>\n",
              "      <td>0</td>\n",
              "      <td>0</td>\n",
              "      <td>0</td>\n",
              "    </tr>\n",
              "    <tr>\n",
              "      <th>...</th>\n",
              "      <td>...</td>\n",
              "      <td>...</td>\n",
              "      <td>...</td>\n",
              "      <td>...</td>\n",
              "      <td>...</td>\n",
              "      <td>...</td>\n",
              "      <td>...</td>\n",
              "      <td>...</td>\n",
              "      <td>...</td>\n",
              "      <td>...</td>\n",
              "      <td>...</td>\n",
              "      <td>...</td>\n",
              "      <td>...</td>\n",
              "      <td>...</td>\n",
              "      <td>...</td>\n",
              "      <td>...</td>\n",
              "      <td>...</td>\n",
              "      <td>...</td>\n",
              "      <td>...</td>\n",
              "      <td>...</td>\n",
              "      <td>...</td>\n",
              "      <td>...</td>\n",
              "      <td>...</td>\n",
              "      <td>...</td>\n",
              "      <td>...</td>\n",
              "      <td>...</td>\n",
              "      <td>...</td>\n",
              "      <td>...</td>\n",
              "      <td>...</td>\n",
              "      <td>...</td>\n",
              "      <td>...</td>\n",
              "      <td>...</td>\n",
              "      <td>...</td>\n",
              "      <td>...</td>\n",
              "      <td>...</td>\n",
              "      <td>...</td>\n",
              "      <td>...</td>\n",
              "      <td>...</td>\n",
              "      <td>...</td>\n",
              "      <td>...</td>\n",
              "      <td>...</td>\n",
              "      <td>...</td>\n",
              "      <td>...</td>\n",
              "      <td>...</td>\n",
              "      <td>...</td>\n",
              "      <td>...</td>\n",
              "    </tr>\n",
              "    <tr>\n",
              "      <th>1769032</th>\n",
              "      <td>0</td>\n",
              "      <td>0</td>\n",
              "      <td>0</td>\n",
              "      <td>0</td>\n",
              "      <td>0</td>\n",
              "      <td>0</td>\n",
              "      <td>0</td>\n",
              "      <td>0</td>\n",
              "      <td>0</td>\n",
              "      <td>0</td>\n",
              "      <td>0</td>\n",
              "      <td>0</td>\n",
              "      <td>0</td>\n",
              "      <td>0</td>\n",
              "      <td>0</td>\n",
              "      <td>0</td>\n",
              "      <td>0</td>\n",
              "      <td>0</td>\n",
              "      <td>0</td>\n",
              "      <td>0</td>\n",
              "      <td>0</td>\n",
              "      <td>0</td>\n",
              "      <td>0</td>\n",
              "      <td>0</td>\n",
              "      <td>0</td>\n",
              "      <td>0</td>\n",
              "      <td>0</td>\n",
              "      <td>0</td>\n",
              "      <td>0</td>\n",
              "      <td>0</td>\n",
              "      <td>0</td>\n",
              "      <td>0</td>\n",
              "      <td>0</td>\n",
              "      <td>0</td>\n",
              "      <td>0</td>\n",
              "      <td>0</td>\n",
              "      <td>0</td>\n",
              "      <td>0</td>\n",
              "      <td>0</td>\n",
              "      <td>0</td>\n",
              "      <td>0</td>\n",
              "      <td>1</td>\n",
              "      <td>0</td>\n",
              "      <td>0</td>\n",
              "      <td>0</td>\n",
              "      <td>0</td>\n",
              "    </tr>\n",
              "    <tr>\n",
              "      <th>1769045</th>\n",
              "      <td>0</td>\n",
              "      <td>0</td>\n",
              "      <td>0</td>\n",
              "      <td>0</td>\n",
              "      <td>0</td>\n",
              "      <td>0</td>\n",
              "      <td>0</td>\n",
              "      <td>0</td>\n",
              "      <td>0</td>\n",
              "      <td>0</td>\n",
              "      <td>0</td>\n",
              "      <td>0</td>\n",
              "      <td>0</td>\n",
              "      <td>0</td>\n",
              "      <td>0</td>\n",
              "      <td>0</td>\n",
              "      <td>0</td>\n",
              "      <td>0</td>\n",
              "      <td>0</td>\n",
              "      <td>0</td>\n",
              "      <td>0</td>\n",
              "      <td>0</td>\n",
              "      <td>0</td>\n",
              "      <td>0</td>\n",
              "      <td>0</td>\n",
              "      <td>0</td>\n",
              "      <td>0</td>\n",
              "      <td>0</td>\n",
              "      <td>0</td>\n",
              "      <td>0</td>\n",
              "      <td>0</td>\n",
              "      <td>0</td>\n",
              "      <td>0</td>\n",
              "      <td>0</td>\n",
              "      <td>0</td>\n",
              "      <td>0</td>\n",
              "      <td>0</td>\n",
              "      <td>0</td>\n",
              "      <td>0</td>\n",
              "      <td>0</td>\n",
              "      <td>0</td>\n",
              "      <td>0</td>\n",
              "      <td>1</td>\n",
              "      <td>0</td>\n",
              "      <td>0</td>\n",
              "      <td>0</td>\n",
              "    </tr>\n",
              "    <tr>\n",
              "      <th>1769047</th>\n",
              "      <td>0</td>\n",
              "      <td>0</td>\n",
              "      <td>0</td>\n",
              "      <td>0</td>\n",
              "      <td>0</td>\n",
              "      <td>0</td>\n",
              "      <td>0</td>\n",
              "      <td>0</td>\n",
              "      <td>0</td>\n",
              "      <td>0</td>\n",
              "      <td>0</td>\n",
              "      <td>0</td>\n",
              "      <td>0</td>\n",
              "      <td>0</td>\n",
              "      <td>0</td>\n",
              "      <td>0</td>\n",
              "      <td>0</td>\n",
              "      <td>0</td>\n",
              "      <td>0</td>\n",
              "      <td>0</td>\n",
              "      <td>0</td>\n",
              "      <td>0</td>\n",
              "      <td>0</td>\n",
              "      <td>0</td>\n",
              "      <td>0</td>\n",
              "      <td>0</td>\n",
              "      <td>0</td>\n",
              "      <td>0</td>\n",
              "      <td>0</td>\n",
              "      <td>0</td>\n",
              "      <td>0</td>\n",
              "      <td>0</td>\n",
              "      <td>0</td>\n",
              "      <td>0</td>\n",
              "      <td>0</td>\n",
              "      <td>0</td>\n",
              "      <td>0</td>\n",
              "      <td>0</td>\n",
              "      <td>0</td>\n",
              "      <td>0</td>\n",
              "      <td>0</td>\n",
              "      <td>0</td>\n",
              "      <td>0</td>\n",
              "      <td>1</td>\n",
              "      <td>0</td>\n",
              "      <td>0</td>\n",
              "    </tr>\n",
              "    <tr>\n",
              "      <th>1769057</th>\n",
              "      <td>0</td>\n",
              "      <td>0</td>\n",
              "      <td>0</td>\n",
              "      <td>0</td>\n",
              "      <td>0</td>\n",
              "      <td>0</td>\n",
              "      <td>0</td>\n",
              "      <td>0</td>\n",
              "      <td>0</td>\n",
              "      <td>0</td>\n",
              "      <td>0</td>\n",
              "      <td>0</td>\n",
              "      <td>0</td>\n",
              "      <td>0</td>\n",
              "      <td>0</td>\n",
              "      <td>0</td>\n",
              "      <td>0</td>\n",
              "      <td>0</td>\n",
              "      <td>0</td>\n",
              "      <td>0</td>\n",
              "      <td>0</td>\n",
              "      <td>0</td>\n",
              "      <td>0</td>\n",
              "      <td>0</td>\n",
              "      <td>0</td>\n",
              "      <td>0</td>\n",
              "      <td>0</td>\n",
              "      <td>0</td>\n",
              "      <td>0</td>\n",
              "      <td>0</td>\n",
              "      <td>0</td>\n",
              "      <td>0</td>\n",
              "      <td>0</td>\n",
              "      <td>0</td>\n",
              "      <td>0</td>\n",
              "      <td>0</td>\n",
              "      <td>0</td>\n",
              "      <td>0</td>\n",
              "      <td>0</td>\n",
              "      <td>0</td>\n",
              "      <td>0</td>\n",
              "      <td>0</td>\n",
              "      <td>0</td>\n",
              "      <td>0</td>\n",
              "      <td>1</td>\n",
              "      <td>0</td>\n",
              "    </tr>\n",
              "    <tr>\n",
              "      <th>1769076</th>\n",
              "      <td>0</td>\n",
              "      <td>0</td>\n",
              "      <td>0</td>\n",
              "      <td>0</td>\n",
              "      <td>0</td>\n",
              "      <td>0</td>\n",
              "      <td>0</td>\n",
              "      <td>0</td>\n",
              "      <td>0</td>\n",
              "      <td>0</td>\n",
              "      <td>0</td>\n",
              "      <td>0</td>\n",
              "      <td>0</td>\n",
              "      <td>0</td>\n",
              "      <td>0</td>\n",
              "      <td>0</td>\n",
              "      <td>0</td>\n",
              "      <td>0</td>\n",
              "      <td>0</td>\n",
              "      <td>0</td>\n",
              "      <td>0</td>\n",
              "      <td>0</td>\n",
              "      <td>0</td>\n",
              "      <td>0</td>\n",
              "      <td>0</td>\n",
              "      <td>0</td>\n",
              "      <td>0</td>\n",
              "      <td>0</td>\n",
              "      <td>0</td>\n",
              "      <td>0</td>\n",
              "      <td>0</td>\n",
              "      <td>0</td>\n",
              "      <td>0</td>\n",
              "      <td>0</td>\n",
              "      <td>0</td>\n",
              "      <td>0</td>\n",
              "      <td>0</td>\n",
              "      <td>0</td>\n",
              "      <td>0</td>\n",
              "      <td>0</td>\n",
              "      <td>0</td>\n",
              "      <td>0</td>\n",
              "      <td>0</td>\n",
              "      <td>0</td>\n",
              "      <td>0</td>\n",
              "      <td>1</td>\n",
              "    </tr>\n",
              "  </tbody>\n",
              "</table>\n",
              "<p>386050 rows × 46 columns</p>\n",
              "</div>"
            ],
            "text/plain": [
              "         38345224  38445234  38445244  ...  39845264  39945254  40745144\n",
              "12              1         0         0  ...         0         0         0\n",
              "19              0         1         0  ...         0         0         0\n",
              "20              0         0         1  ...         0         0         0\n",
              "27              0         0         0  ...         0         0         0\n",
              "49              0         0         0  ...         0         0         0\n",
              "...           ...       ...       ...  ...       ...       ...       ...\n",
              "1769032         0         0         0  ...         0         0         0\n",
              "1769045         0         0         0  ...         0         0         0\n",
              "1769047         0         0         0  ...         1         0         0\n",
              "1769057         0         0         0  ...         0         1         0\n",
              "1769076         0         0         0  ...         0         0         1\n",
              "\n",
              "[386050 rows x 46 columns]"
            ]
          },
          "metadata": {},
          "execution_count": 24
        }
      ]
    },
    {
      "cell_type": "markdown",
      "metadata": {
        "id": "JpLsOVA5pMpV"
      },
      "source": [
        "## **3). 학습/테스트 데이터셋 구축**"
      ]
    },
    {
      "cell_type": "markdown",
      "metadata": {
        "id": "7by-JZiE8_yM"
      },
      "source": [
        "- **pd.concat() : 데이터프레임 합치기**"
      ]
    },
    {
      "cell_type": "code",
      "metadata": {
        "id": "IEWtes5opUdd",
        "colab": {
          "base_uri": "https://localhost:8080/"
        },
        "outputId": "6fa36e95-ad1d-46fb-88df-81ffc4425f68"
      },
      "source": [
        "\n",
        "## 입력 데이터셋 = [OneHotEncoding 된 격자 id 데이터 / 격자 X 좌표 / 격자 Y 좌표 / 월 / 날짜 / 요일 / 시간대]\n",
        "\n",
        "X_df = df[[\"GRID_X_AXIS\" , \"GRID_Y_AXIS\" , \"MONTH\" , \"DAY\" , \"WEEKDAY\" , \"TIME\" ]]\n",
        "X_df = pd.concat( [ENC_GRID_ID_df , X_df ] , axis = 1)\n",
        "\n",
        "Y_df = df[[\"DSP_CNT_IDEX\"]]\n",
        "\n",
        "X_df.shape , Y_df.shape\n"
      ],
      "execution_count": null,
      "outputs": [
        {
          "output_type": "execute_result",
          "data": {
            "text/plain": [
              "((386050, 52), (386050, 1))"
            ]
          },
          "metadata": {},
          "execution_count": 25
        }
      ]
    },
    {
      "cell_type": "markdown",
      "metadata": {
        "id": "NexSwIQy9taU"
      },
      "source": [
        "- **train_test_split()  :  학습데이터 / 테스트 데이터 분할**"
      ]
    },
    {
      "cell_type": "code",
      "metadata": {
        "id": "rhFVOpGx9sxD"
      },
      "source": [
        "from sklearn.model_selection import train_test_split\n",
        "\n",
        "X_train , X_test , Y_train , Y_test = train_test_split(X_df , Y_df , test_size = 0.3  , random_state=2045)"
      ],
      "execution_count": null,
      "outputs": []
    },
    {
      "cell_type": "code",
      "metadata": {
        "id": "ZOHXLHtv-TQs",
        "colab": {
          "base_uri": "https://localhost:8080/"
        },
        "outputId": "66c46cf0-c14b-4cc0-c163-c9b065af6fa1"
      },
      "source": [
        "X_train.shape , X_test.shape , Y_train.shape , Y_test.shape"
      ],
      "execution_count": null,
      "outputs": [
        {
          "output_type": "execute_result",
          "data": {
            "text/plain": [
              "((270235, 52), (115815, 52), (270235, 1), (115815, 1))"
            ]
          },
          "metadata": {},
          "execution_count": 27
        }
      ]
    },
    {
      "cell_type": "markdown",
      "metadata": {
        "id": "gzH3bld9on6_"
      },
      "source": [
        "# **III. 출동 빈도 지수 예측 모델**"
      ]
    },
    {
      "cell_type": "markdown",
      "metadata": {
        "id": "jWv5sytvk1XZ"
      },
      "source": [
        "## **1). RandomForest Model**"
      ]
    },
    {
      "cell_type": "code",
      "metadata": {
        "colab": {
          "base_uri": "https://localhost:8080/"
        },
        "id": "tNG6Bolxkiaq",
        "outputId": "d002d20b-8c4d-4e98-998f-99e3a12566d2"
      },
      "source": [
        "%%time\n",
        "\n",
        "from sklearn.ensemble import RandomForestRegressor\n",
        "\n",
        "# RandomForest 모델 생성\n",
        "rf_model = RandomForestRegressor(n_estimators = 100, random_state = 15)\n",
        "\n",
        "# 학습데이터셋으로 학습\n",
        "rf_model.fit(X_train, Y_train)"
      ],
      "execution_count": null,
      "outputs": [
        {
          "output_type": "stream",
          "name": "stdout",
          "text": [
            "CPU times: user 1min 28s, sys: 68.2 ms, total: 1min 28s\n",
            "Wall time: 1min 28s\n"
          ]
        }
      ]
    },
    {
      "cell_type": "code",
      "metadata": {
        "colab": {
          "base_uri": "https://localhost:8080/"
        },
        "id": "RZDr_xENkulh",
        "outputId": "92a2115f-32b9-45b6-966a-101fb161af5c"
      },
      "source": [
        "from sklearn.metrics import mean_squared_error\n",
        "\n",
        "preds = rf_model.predict(X_test)\n",
        "rmse = np.sqrt(mean_squared_error(Y_test, preds))\n",
        "\n",
        "print(\"RF - RMSE: %f\" % (rmse))"
      ],
      "execution_count": null,
      "outputs": [
        {
          "output_type": "stream",
          "name": "stdout",
          "text": [
            "RF - RMSE: 0.212103\n"
          ]
        }
      ]
    },
    {
      "cell_type": "code",
      "metadata": {
        "colab": {
          "base_uri": "https://localhost:8080/"
        },
        "id": "ZFjSYvlblKzj",
        "outputId": "ca7ce155-0767-41bd-bea9-1539e4a66050"
      },
      "source": [
        "\n",
        "# 답안지에 적을 데이터\n",
        "Results_2 = []\n",
        "\n",
        "# 해당 날짜들\n",
        "Pred_Dates = [20200131 , 20200228 , 20200331 , 20200430 , 20200531 , 20200630 , 20200731 , 20200831 , 20200930 , 20201031 , 20201130 , 20201231]\n",
        "\n",
        "# 시간대 (0 ~ 23)\n",
        "Hours = [i for i in range(24)]\n",
        "\n",
        "# 격자들\n",
        "Grid_IDs = df[\"GRID_ID\"].unique()\n",
        "\n",
        "for date in Pred_Dates:\n",
        "\n",
        "  Inputs = []\n",
        "  grid_id_lst = []\n",
        "  hour_lst = []\n",
        "\n",
        "  for hour in Hours:\n",
        "    for grid_id in Grid_IDs:\n",
        "\n",
        "      # 날짜로부터 년/월/일자/요일 계산\n",
        "      year = int(date/10000)\n",
        "      month = int(date%10000/100)    \n",
        "      day = int(date%10000%100)  \n",
        "      weekday =  datetime.date(year,month,day).weekday()\n",
        "\n",
        "      # 격자 ID 로부터 격자 X 좌표 / 격자 Y 좌표 계산\n",
        "      grid_x = int(grid_id/10000)*100 + 75\n",
        "      grid_y = int(grid_id%10000)*100 + 75\n",
        "\n",
        "      #scaled_grid_x = X_scaler.transform(np.array(grid_x).reshape(1,-1))[0][0]\n",
        "      #scaled_grid_y = Y_scaler.transform(np.array(grid_y).reshape(1,-1))[0][0]\n",
        "\n",
        "      # 입력 변수 = 격자 ID / 격자 X / 격자 Y / 달 / 일 / 요일 / 시간\n",
        "      #input = [grid_id , grid_x , grid_y  , month , day , weekday , hour]\n",
        "      #Inputs.append(input)\n",
        "\n",
        "      input = [0 for _ in range(46)]\n",
        "      input[list(many_dsp_GRID_ID).index(grid_id)] = 1\n",
        "      input += [grid_x , grid_y , month , day , weekday , hour]\n",
        "      Inputs.append(input)\n",
        "      grid_id_lst.append(grid_id)\n",
        "      \n",
        "  # 예측값들\n",
        "  Inputs_df = pd.DataFrame(data=Inputs , columns=X_df.columns.values)\n",
        "  pred_val = rf_model.predict(Inputs_df) \n",
        "  #pred_val = model.predict(np.array(Inputs))\n",
        "\n",
        "  max_idx = np.argmax(pred_val)\n",
        "  max_dsp = np.max(pred_val)\n",
        "  max_id = grid_id_lst[max_idx]\n",
        "  max_hour = Inputs[max_idx][-1]\n",
        "\n",
        "\n",
        "  # 해당날짜에 데이터 추가\n",
        "  Results_2.append([date , max_id , max_hour , max_dsp])\n",
        "\n",
        "Results_2"
      ],
      "execution_count": null,
      "outputs": [
        {
          "output_type": "execute_result",
          "data": {
            "text/plain": [
              "[[20200131, 39545274, 16, 1.67],\n",
              " [20200228, 39545274, 15, 1.36],\n",
              " [20200331, 39545284, 7, 1.08],\n",
              " [20200430, 39445274, 23, 0.78],\n",
              " [20200531, 39545334, 12, 0.85],\n",
              " [20200630, 39545274, 15, 0.65],\n",
              " [20200731, 39545274, 15, 1.03],\n",
              " [20200831, 39545274, 15, 2.54],\n",
              " [20200930, 39345254, 14, 0.75],\n",
              " [20201031, 39545244, 0, 1.69],\n",
              " [20201130, 39245214, 12, 0.96],\n",
              " [20201231, 39345274, 2, 1.24]]"
            ]
          },
          "metadata": {},
          "execution_count": 41
        }
      ]
    },
    {
      "cell_type": "code",
      "metadata": {
        "colab": {
          "base_uri": "https://localhost:8080/"
        },
        "id": "f3U--AW-_U_g",
        "outputId": "8ac8371b-fa5e-4780-ee93-a6d35c8dee0b"
      },
      "source": [
        "\n",
        "# 결과 이쁘게 출력\n",
        "for result in Results:\n",
        "  print(\" 입력 날짜 : \" , result[0] , \"  입력 격자 : \" , result[1]  , \"  시간대 : \"  , result[2] , \"  출동빈도지수 : \" , result[3])"
      ],
      "execution_count": null,
      "outputs": [
        {
          "output_type": "stream",
          "name": "stdout",
          "text": [
            " 입력 날짜 :  20200131   입력 격자 :  39545274   시간대 :  16   출동빈도지수 :  1.67\n",
            " 입력 날짜 :  20200228   입력 격자 :  39545274   시간대 :  15   출동빈도지수 :  1.36\n",
            " 입력 날짜 :  20200331   입력 격자 :  39545284   시간대 :  7   출동빈도지수 :  1.08\n",
            " 입력 날짜 :  20200430   입력 격자 :  39445274   시간대 :  23   출동빈도지수 :  0.78\n",
            " 입력 날짜 :  20200531   입력 격자 :  39545334   시간대 :  12   출동빈도지수 :  0.85\n",
            " 입력 날짜 :  20200630   입력 격자 :  39545274   시간대 :  15   출동빈도지수 :  0.65\n",
            " 입력 날짜 :  20200731   입력 격자 :  39545274   시간대 :  15   출동빈도지수 :  1.03\n",
            " 입력 날짜 :  20200831   입력 격자 :  39545274   시간대 :  15   출동빈도지수 :  2.54\n",
            " 입력 날짜 :  20200930   입력 격자 :  39345254   시간대 :  14   출동빈도지수 :  0.75\n",
            " 입력 날짜 :  20201031   입력 격자 :  39545244   시간대 :  0   출동빈도지수 :  1.69\n",
            " 입력 날짜 :  20201130   입력 격자 :  39245214   시간대 :  12   출동빈도지수 :  0.96\n",
            " 입력 날짜 :  20201231   입력 격자 :  39345274   시간대 :  2   출동빈도지수 :  1.24\n"
          ]
        }
      ]
    },
    {
      "cell_type": "code",
      "metadata": {
        "colab": {
          "base_uri": "https://localhost:8080/",
          "height": 112
        },
        "id": "FhwZziUe0DFS",
        "outputId": "c490a8c2-0679-412d-832d-d54bca974796"
      },
      "source": [
        "rect_table[rect_table[\"GRID_ID\"] == 39345274]"
      ],
      "execution_count": null,
      "outputs": [
        {
          "output_type": "execute_result",
          "data": {
            "text/html": [
              "<div>\n",
              "<style scoped>\n",
              "    .dataframe tbody tr th:only-of-type {\n",
              "        vertical-align: middle;\n",
              "    }\n",
              "\n",
              "    .dataframe tbody tr th {\n",
              "        vertical-align: top;\n",
              "    }\n",
              "\n",
              "    .dataframe thead th {\n",
              "        text-align: right;\n",
              "    }\n",
              "</style>\n",
              "<table border=\"1\" class=\"dataframe\">\n",
              "  <thead>\n",
              "    <tr style=\"text-align: right;\">\n",
              "      <th></th>\n",
              "      <th>DSP_CNT_IDEX</th>\n",
              "      <th>GRID_ID</th>\n",
              "    </tr>\n",
              "    <tr>\n",
              "      <th>GRID_ID</th>\n",
              "      <th></th>\n",
              "      <th></th>\n",
              "    </tr>\n",
              "  </thead>\n",
              "  <tbody>\n",
              "    <tr>\n",
              "      <th>39345274</th>\n",
              "      <td>325</td>\n",
              "      <td>39345274</td>\n",
              "    </tr>\n",
              "  </tbody>\n",
              "</table>\n",
              "</div>"
            ],
            "text/plain": [
              "          DSP_CNT_IDEX   GRID_ID\n",
              "GRID_ID                         \n",
              "39345274           325  39345274"
            ]
          },
          "metadata": {},
          "execution_count": 36
        }
      ]
    },
    {
      "cell_type": "markdown",
      "metadata": {
        "id": "Bn3cTsLpB-S8"
      },
      "source": [
        "## **2). XGBoost Model**"
      ]
    },
    {
      "cell_type": "code",
      "metadata": {
        "colab": {
          "base_uri": "https://localhost:8080/"
        },
        "id": "jY_hptXZotMz",
        "outputId": "54dcdec8-9f1a-4e7a-efde-021baf9a58d1"
      },
      "source": [
        "%%time\n",
        "\n",
        "import xgboost\n",
        "\n",
        "xgb_model = xgboost.XGBRegressor(n_estimators=120, learning_rate=0.08, gamma=0, subsample=0.75,\n",
        "                           colsample_bytree=1, max_depth=7)\n",
        "\n",
        "xgb_model.fit(X_train,Y_train)\n"
      ],
      "execution_count": null,
      "outputs": [
        {
          "output_type": "stream",
          "name": "stdout",
          "text": [
            "[06:26:09] WARNING: /workspace/src/objective/regression_obj.cu:152: reg:linear is now deprecated in favor of reg:squarederror.\n",
            "CPU times: user 1min 39s, sys: 458 ms, total: 1min 39s\n",
            "Wall time: 1min 39s\n"
          ]
        }
      ]
    },
    {
      "cell_type": "code",
      "metadata": {
        "colab": {
          "base_uri": "https://localhost:8080/"
        },
        "id": "5rAfndCBDdfq",
        "outputId": "033d790c-8545-4cd1-dd06-942cb58dd35d"
      },
      "source": [
        "from sklearn.metrics import mean_squared_error\n",
        "\n",
        "preds = xgb_model.predict(X_test)\n",
        "rmse = np.sqrt(mean_squared_error(Y_test, preds))\n",
        "print(\"XGB - RMSE: %f\" % (rmse))"
      ],
      "execution_count": null,
      "outputs": [
        {
          "output_type": "stream",
          "name": "stdout",
          "text": [
            "XGB - RMSE: 0.195205\n"
          ]
        }
      ]
    },
    {
      "cell_type": "code",
      "metadata": {
        "colab": {
          "base_uri": "https://localhost:8080/"
        },
        "id": "qBjWAZl0otgt",
        "outputId": "35d56137-5309-4a98-89e3-a2e390c06ba9"
      },
      "source": [
        "\n",
        "\n",
        "# 답안지에 적을 데이터\n",
        "Results = []\n",
        "\n",
        "# 해당 날짜들\n",
        "Pred_Dates = [20200131 , 20200228 , 20200331 , 20200430 , 20200531 , 20200630 , 20200731 , 20200831 , 20200930 , 20201031 , 20201130 , 20201231]\n",
        "\n",
        "# 시간대 (0 ~ 23)\n",
        "Hours = [i for i in range(24)]\n",
        "\n",
        "# 격자들\n",
        "Grid_IDs = df[\"GRID_ID\"].unique()\n",
        "\n",
        "for date in Pred_Dates:\n",
        "\n",
        "  Inputs = []\n",
        "  grid_id_lst = []\n",
        "  hour_lst = []\n",
        "\n",
        "  for hour in Hours:\n",
        "    for grid_id in Grid_IDs:\n",
        "\n",
        "      # 날짜로부터 년/월/일자/요일 계산\n",
        "      year = int(date/10000)\n",
        "      month = int(date%10000/100)    \n",
        "      day = int(date%10000%100)  \n",
        "      weekday =  datetime.date(year,month,day).weekday()\n",
        "\n",
        "      # 격자 ID 로부터 격자 X 좌표 / 격자 Y 좌표 계산\n",
        "      grid_x = int(grid_id/10000)*100 + 75\n",
        "      grid_y = int(grid_id%10000)*100 + 75\n",
        "\n",
        "      #scaled_grid_x = X_scaler.transform(np.array(grid_x).reshape(1,-1))[0][0]\n",
        "      #scaled_grid_y = Y_scaler.transform(np.array(grid_y).reshape(1,-1))[0][0]\n",
        "\n",
        "      # 입력 변수 = 격자 ID / 격자 X / 격자 Y / 달 / 일 / 요일 / 시간\n",
        "      #input = [grid_id , grid_x , grid_y  , month , day , weekday , hour]\n",
        "      #Inputs.append(input)\n",
        "\n",
        "      input = [0 for _ in range(46)]\n",
        "      input[list(many_dsp_GRID_ID).index(grid_id)] = 1\n",
        "      input += [grid_x , grid_y , month , day , weekday , hour]\n",
        "      Inputs.append(input)\n",
        "      grid_id_lst.append(grid_id)\n",
        "      \n",
        "  # 예측값들\n",
        "  Inputs_df = pd.DataFrame(data=Inputs , columns=X_df.columns.values)\n",
        "  pred_val = xgb_model.predict(Inputs_df) \n",
        "  #pred_val = model.predict(np.array(Inputs))\n",
        "\n",
        "\n",
        "  max_idx = np.argmax(pred_val)\n",
        "  max_dsp = np.max(pred_val)\n",
        "  max_id = grid_id_lst[max_idx]\n",
        "  max_hour = Inputs[max_idx][-1]\n",
        "\n",
        "\n",
        "  # 해당날짜에 데이터 추가\n",
        "  Results.append([date , max_id , max_hour , max_dsp])\n",
        "\n",
        "Results"
      ],
      "execution_count": null,
      "outputs": [
        {
          "output_type": "execute_result",
          "data": {
            "text/plain": [
              "[[20200131, 39545274, 16, 1.2073178],\n",
              " [20200228, 39545274, 15, 0.7377895],\n",
              " [20200331, 39445274, 23, 0.48887247],\n",
              " [20200430, 39445274, 23, 0.5824963],\n",
              " [20200531, 39545274, 14, 0.29186398],\n",
              " [20200630, 39445274, 23, 0.27446038],\n",
              " [20200731, 39545274, 15, 0.71009624],\n",
              " [20200831, 39545274, 15, 2.3773084],\n",
              " [20200930, 39545274, 15, 1.764861],\n",
              " [20201031, 39545274, 15, 1.4530761],\n",
              " [20201130, 39545274, 23, 0.3889129],\n",
              " [20201231, 39545274, 23, 0.466566]]"
            ]
          },
          "metadata": {},
          "execution_count": 39
        }
      ]
    },
    {
      "cell_type": "code",
      "metadata": {
        "colab": {
          "base_uri": "https://localhost:8080/"
        },
        "id": "3du1ObSKA3pI",
        "outputId": "5b1d31ef-ae40-4587-c99c-f6e878ee3b65"
      },
      "source": [
        "\n",
        "# 결과 이쁘게 출력\n",
        "for i,result in enumerate(Results):\n",
        "  print(\" XGBoost 예측 - 입력 날짜 : \" , result[0] , \"  입력 격자 : \" , result[1]  , \"  시간대 : \"  , result[2] , \"  출동빈도지수 : \" , result[3])\n",
        "\n",
        "  print(\" RandomForest 예측 - 입력 날짜 : \" , Results_2[i][0] , \"  입력 격자 : \" , Results_2[i][1]  , \"  시간대 : \"  , Results_2[i][2] , \"  출동빈도지수 : \" , Results_2[i][3])\n"
      ],
      "execution_count": null,
      "outputs": [
        {
          "output_type": "stream",
          "name": "stdout",
          "text": [
            " XGBoost 예측 - 입력 날짜 :  20200131   입력 격자 :  39545274   시간대 :  16   출동빈도지수 :  1.2073178\n",
            " RandomForest 예측 - 입력 날짜 :  20200131   입력 격자 :  39545274   시간대 :  16   출동빈도지수 :  1.67\n",
            " XGBoost 예측 - 입력 날짜 :  20200228   입력 격자 :  39545274   시간대 :  15   출동빈도지수 :  0.7377895\n",
            " RandomForest 예측 - 입력 날짜 :  20200228   입력 격자 :  39545274   시간대 :  15   출동빈도지수 :  1.36\n",
            " XGBoost 예측 - 입력 날짜 :  20200331   입력 격자 :  39445274   시간대 :  23   출동빈도지수 :  0.48887247\n",
            " RandomForest 예측 - 입력 날짜 :  20200331   입력 격자 :  39545284   시간대 :  7   출동빈도지수 :  1.08\n",
            " XGBoost 예측 - 입력 날짜 :  20200430   입력 격자 :  39445274   시간대 :  23   출동빈도지수 :  0.5824963\n",
            " RandomForest 예측 - 입력 날짜 :  20200430   입력 격자 :  39445274   시간대 :  23   출동빈도지수 :  0.78\n",
            " XGBoost 예측 - 입력 날짜 :  20200531   입력 격자 :  39545274   시간대 :  14   출동빈도지수 :  0.29186398\n",
            " RandomForest 예측 - 입력 날짜 :  20200531   입력 격자 :  39545334   시간대 :  12   출동빈도지수 :  0.85\n",
            " XGBoost 예측 - 입력 날짜 :  20200630   입력 격자 :  39445274   시간대 :  23   출동빈도지수 :  0.27446038\n",
            " RandomForest 예측 - 입력 날짜 :  20200630   입력 격자 :  39545274   시간대 :  15   출동빈도지수 :  0.65\n",
            " XGBoost 예측 - 입력 날짜 :  20200731   입력 격자 :  39545274   시간대 :  15   출동빈도지수 :  0.71009624\n",
            " RandomForest 예측 - 입력 날짜 :  20200731   입력 격자 :  39545274   시간대 :  15   출동빈도지수 :  1.03\n",
            " XGBoost 예측 - 입력 날짜 :  20200831   입력 격자 :  39545274   시간대 :  15   출동빈도지수 :  2.3773084\n",
            " RandomForest 예측 - 입력 날짜 :  20200831   입력 격자 :  39545274   시간대 :  15   출동빈도지수 :  2.54\n",
            " XGBoost 예측 - 입력 날짜 :  20200930   입력 격자 :  39545274   시간대 :  15   출동빈도지수 :  1.764861\n",
            " RandomForest 예측 - 입력 날짜 :  20200930   입력 격자 :  39345254   시간대 :  14   출동빈도지수 :  0.75\n",
            " XGBoost 예측 - 입력 날짜 :  20201031   입력 격자 :  39545274   시간대 :  15   출동빈도지수 :  1.4530761\n",
            " RandomForest 예측 - 입력 날짜 :  20201031   입력 격자 :  39545244   시간대 :  0   출동빈도지수 :  1.69\n",
            " XGBoost 예측 - 입력 날짜 :  20201130   입력 격자 :  39545274   시간대 :  23   출동빈도지수 :  0.3889129\n",
            " RandomForest 예측 - 입력 날짜 :  20201130   입력 격자 :  39245214   시간대 :  12   출동빈도지수 :  0.96\n",
            " XGBoost 예측 - 입력 날짜 :  20201231   입력 격자 :  39545274   시간대 :  23   출동빈도지수 :  0.466566\n",
            " RandomForest 예측 - 입력 날짜 :  20201231   입력 격자 :  39345274   시간대 :  2   출동빈도지수 :  1.24\n"
          ]
        }
      ]
    },
    {
      "cell_type": "markdown",
      "metadata": {
        "id": "dFzuY4g5I1ao"
      },
      "source": [
        "## **3). DNN Model**"
      ]
    },
    {
      "cell_type": "code",
      "metadata": {
        "colab": {
          "base_uri": "https://localhost:8080/"
        },
        "id": "XuO4kHnoI5z0",
        "outputId": "dcd3f665-0ea6-4dd9-a1f8-16dc38594b87"
      },
      "source": [
        "%%time\n",
        "\n",
        "import tensorflow as tf\n",
        "from keras.layers import BatchNormalization, Dropout\n",
        "from sklearn.model_selection import train_test_split\n",
        "from keras.models import Sequential\n",
        "from keras.layers import Dense\n",
        "from keras import models\n",
        "from keras import layers\n",
        "from keras import optimizers\n",
        "\n",
        "\n",
        "## 모델 생성 \n",
        "model = Sequential()\n",
        "model.add(Dense(64 , input_dim = 52 , activation = 'relu'))\n",
        "model.add(Dropout(0.3))\n",
        "model.add(Dense(64 ,  activation = 'relu'))\n",
        "model.add(Dropout(0.3))\n",
        "model.add(Dense(64 ,  activation = 'relu'))\n",
        "model.add(Dropout(0.3))\n",
        "model.add(layers.Dense(1))\n",
        "model.compile(optimizer='adam', loss='mse', metrics=['mae' , 'mse'])\n",
        "\n",
        "\n",
        "# 모델 학습\n",
        "hist = model.fit(X_train , Y_train , epochs = 10 , batch_size = 16)\n",
        "\n"
      ],
      "execution_count": null,
      "outputs": [
        {
          "output_type": "stream",
          "name": "stdout",
          "text": [
            "Epoch 1/10\n",
            "16890/16890 [==============================] - 49s 3ms/step - loss: 5226566.0000 - mae: 359.2454 - mse: 5226566.0000\n",
            "Epoch 2/10\n",
            "16890/16890 [==============================] - 47s 3ms/step - loss: 92.9814 - mae: 0.3153 - mse: 92.9814\n",
            "Epoch 3/10\n",
            "16890/16890 [==============================] - 48s 3ms/step - loss: 0.0653 - mae: 0.0642 - mse: 0.0653\n",
            "Epoch 4/10\n",
            "16890/16890 [==============================] - 47s 3ms/step - loss: 0.0388 - mae: 0.0623 - mse: 0.0388\n",
            "Epoch 5/10\n",
            "16890/16890 [==============================] - 47s 3ms/step - loss: 0.0388 - mae: 0.0624 - mse: 0.0388\n",
            "Epoch 6/10\n",
            "16890/16890 [==============================] - 46s 3ms/step - loss: 0.0388 - mae: 0.0624 - mse: 0.0388\n",
            "Epoch 7/10\n",
            "16890/16890 [==============================] - 46s 3ms/step - loss: 0.0388 - mae: 0.0624 - mse: 0.0388\n",
            "Epoch 8/10\n",
            "16890/16890 [==============================] - 47s 3ms/step - loss: 0.0388 - mae: 0.0624 - mse: 0.0388\n",
            "Epoch 9/10\n",
            "16890/16890 [==============================] - 46s 3ms/step - loss: 0.0388 - mae: 0.0624 - mse: 0.0388\n",
            "Epoch 10/10\n",
            "16890/16890 [==============================] - 47s 3ms/step - loss: 0.0388 - mae: 0.0624 - mse: 0.0388\n",
            "CPU times: user 9min 15s, sys: 49.9 s, total: 10min 5s\n",
            "Wall time: 8min 26s\n"
          ]
        }
      ]
    },
    {
      "cell_type": "code",
      "metadata": {
        "id": "n5KsYU0OUoUN"
      },
      "source": [
        "# 모델 summary()\n",
        "model.summary()"
      ],
      "execution_count": null,
      "outputs": []
    },
    {
      "cell_type": "code",
      "metadata": {
        "id": "KSDiHis2JF0h"
      },
      "source": [
        "from sklearn.metrics import mean_squared_error\n",
        "\n",
        "# 테스트데이터 예측 및 RMSE 계산\n",
        "preds = model.predict(X_test)\n",
        "rmse = np.sqrt(mean_squared_error(Y_test, preds))\n",
        "print(\"DNN Model - RMSE: %f\" % (rmse))"
      ],
      "execution_count": null,
      "outputs": []
    },
    {
      "cell_type": "code",
      "metadata": {
        "id": "OOAJdCi6NiAw"
      },
      "source": [
        "\n",
        "\n",
        "# 답안지에 적을 데이터\n",
        "Results = []\n",
        "\n",
        "# 해당 날짜들\n",
        "Pred_Dates = [20200131 , 20200228 , 20200331 , 20200430 , 20200531 , 20200630 , 20200731 , 20200831 , 20200930 , 20201031 , 20201130 , 20201231]\n",
        "\n",
        "# 시간대 (0 ~ 23)\n",
        "Hours = [i for i in range(24)]\n",
        "\n",
        "# 격자들\n",
        "Grid_IDs = df[\"GRID_ID\"].unique()\n",
        "\n",
        "for date in Pred_Dates:\n",
        "\n",
        "  Inputs = []\n",
        "  grid_id_lst = []\n",
        "  hour_lst = []\n",
        "\n",
        "  for hour in Hours:\n",
        "    for grid_id in Grid_IDs:\n",
        "\n",
        "      # 날짜로부터 년/월/일자/요일 계산\n",
        "      year = int(date/10000)\n",
        "      month = int(date%10000/100)    \n",
        "      day = int(date%10000%100)  \n",
        "      weekday =  datetime.date(year,month,day).weekday()\n",
        "\n",
        "      # 격자 ID 로부터 격자 X 좌표 / 격자 Y 좌표 계산\n",
        "      grid_x = int(grid_id/10000)*100 + 75\n",
        "      grid_y = int(grid_id%10000)*100 + 75\n",
        "\n",
        "      #grid_x = X_scaler.transform(np.array(grid_x).reshape(1,-1))[0][0]\n",
        "      #grid_y = Y_scaler.transform(np.array(grid_y).reshape(1,-1))[0][0]\n",
        "\n",
        "      # 입력 변수 = 격자 ID / 격자 X / 격자 Y / 달 / 일 / 요일 / 시간\n",
        "      input = [0 for _ in range(46)]\n",
        "      input[list(many_dsp_GRID_ID).index(grid_id)] = 1\n",
        "      input += [grid_x , grid_y , month , day , weekday , hour]\n",
        "\n",
        "      Inputs.append(input)\n",
        "      grid_id_lst.append(grid_id)\n",
        "\n",
        "  # 예측값들\n",
        "  Inputs_df = pd.DataFrame(data=Inputs , columns=X_dnn_df.columns.values)\n",
        "  pred_val = model.predict(Inputs_df) \n",
        "\n",
        "  max_idx = np.argmax(pred_val)\n",
        "  max_dsp = np.max(pred_val)\n",
        "  max_id = grid_id_lst[max_idx]\n",
        "  max_hour = Inputs[max_idx][-1]\n",
        "\n",
        "\n",
        "  # 해당날짜에 데이터 추가\n",
        "  Results.append([date , max_id , max_hour , max_dsp])\n",
        "\n",
        "Results"
      ],
      "execution_count": null,
      "outputs": []
    }
  ]
}